{
 "cells": [
  {
   "cell_type": "markdown",
   "id": "d4bd2725",
   "metadata": {
    "toc": true
   },
   "source": [
    "<h1>Table of Contents<span class=\"tocSkip\"></span></h1>\n",
    "<div class=\"toc\"><ul class=\"toc-item\"><li><span><a href=\"#Funciones\" data-toc-modified-id=\"Funciones-1\"><span class=\"toc-item-num\">1&nbsp;&nbsp;</span>Funciones</a></span></li><li><span><a href=\"#Entrenamiento\" data-toc-modified-id=\"Entrenamiento-2\"><span class=\"toc-item-num\">2&nbsp;&nbsp;</span>Entrenamiento</a></span></li><li><span><a href=\"#Prediccion\" data-toc-modified-id=\"Prediccion-3\"><span class=\"toc-item-num\">3&nbsp;&nbsp;</span>Prediccion</a></span></li></ul></div>"
   ]
  },
  {
   "cell_type": "markdown",
   "id": "39a72d9b",
   "metadata": {},
   "source": [
    "variables = {\n",
    "'awnd':'avg_daily_wind_speed',\n",
    "'fmtm':'time_of_fastest_mile',\n",
    "'pgtm':'peak_gust_time',\n",
    "'prcp':'precipitation',\n",
    "'tavg':'avg_temperature',\n",
    "'tmax':'max_temp',\n",
    "'tmin':'min_temp',\n",
    "'wdf2':'direction_fastest_2_min_wind',\n",
    "'wdf5':'direction_fastest_5_min_wind',\n",
    "'wsf2':'fastest_2_minute_wind_speed',\n",
    "'wsf5':'fastest_5_minute_wind_speed',\n",
    "}"
   ]
  },
  {
   "cell_type": "code",
   "execution_count": 90,
   "id": "bb250393",
   "metadata": {},
   "outputs": [],
   "source": [
    "import pandas as pd\n",
    "from janitor import clean_names\n",
    "\n",
    "from sklearn.preprocessing import StandardScaler\n",
    "from sklearn.experimental import enable_hist_gradient_boosting\n",
    "from sklearn.ensemble import HistGradientBoostingRegressor"
   ]
  },
  {
   "cell_type": "code",
   "execution_count": null,
   "id": "df5d099f",
   "metadata": {},
   "outputs": [],
   "source": []
  },
  {
   "cell_type": "code",
   "execution_count": 9,
   "id": "412d2107",
   "metadata": {},
   "outputs": [
    {
     "data": {
      "text/html": [
       "<div>\n",
       "<style scoped>\n",
       "    .dataframe tbody tr th:only-of-type {\n",
       "        vertical-align: middle;\n",
       "    }\n",
       "\n",
       "    .dataframe tbody tr th {\n",
       "        vertical-align: top;\n",
       "    }\n",
       "\n",
       "    .dataframe thead th {\n",
       "        text-align: right;\n",
       "    }\n",
       "</style>\n",
       "<table border=\"1\" class=\"dataframe\">\n",
       "  <thead>\n",
       "    <tr style=\"text-align: right;\">\n",
       "      <th></th>\n",
       "      <th>NAME</th>\n",
       "      <th>LATITUDE</th>\n",
       "      <th>LONGITUDE</th>\n",
       "      <th>ELEVATION</th>\n",
       "      <th>DATE</th>\n",
       "      <th>AWND</th>\n",
       "      <th>AWND_ATTRIBUTES</th>\n",
       "      <th>FMTM</th>\n",
       "      <th>FMTM_ATTRIBUTES</th>\n",
       "      <th>PGTM</th>\n",
       "      <th>...</th>\n",
       "      <th>WT02</th>\n",
       "      <th>WT02_ATTRIBUTES</th>\n",
       "      <th>WT03</th>\n",
       "      <th>WT03_ATTRIBUTES</th>\n",
       "      <th>WT06</th>\n",
       "      <th>WT06_ATTRIBUTES</th>\n",
       "      <th>WT08</th>\n",
       "      <th>WT08_ATTRIBUTES</th>\n",
       "      <th>WT09</th>\n",
       "      <th>WT09_ATTRIBUTES</th>\n",
       "    </tr>\n",
       "    <tr>\n",
       "      <th>STATION</th>\n",
       "      <th></th>\n",
       "      <th></th>\n",
       "      <th></th>\n",
       "      <th></th>\n",
       "      <th></th>\n",
       "      <th></th>\n",
       "      <th></th>\n",
       "      <th></th>\n",
       "      <th></th>\n",
       "      <th></th>\n",
       "      <th></th>\n",
       "      <th></th>\n",
       "      <th></th>\n",
       "      <th></th>\n",
       "      <th></th>\n",
       "      <th></th>\n",
       "      <th></th>\n",
       "      <th></th>\n",
       "      <th></th>\n",
       "      <th></th>\n",
       "      <th></th>\n",
       "    </tr>\n",
       "  </thead>\n",
       "  <tbody>\n",
       "    <tr>\n",
       "      <th>USW00014894</th>\n",
       "      <td>WHEELING OHIO CO AIRPORT, WV US</td>\n",
       "      <td>40.16994</td>\n",
       "      <td>-80.64406</td>\n",
       "      <td>364.3</td>\n",
       "      <td>1998-03-26</td>\n",
       "      <td>NaN</td>\n",
       "      <td>NaN</td>\n",
       "      <td>NaN</td>\n",
       "      <td>NaN</td>\n",
       "      <td>NaN</td>\n",
       "      <td>...</td>\n",
       "      <td>NaN</td>\n",
       "      <td>NaN</td>\n",
       "      <td>NaN</td>\n",
       "      <td>NaN</td>\n",
       "      <td>NaN</td>\n",
       "      <td>NaN</td>\n",
       "      <td>NaN</td>\n",
       "      <td>NaN</td>\n",
       "      <td>NaN</td>\n",
       "      <td>NaN</td>\n",
       "    </tr>\n",
       "    <tr>\n",
       "      <th>USW00014894</th>\n",
       "      <td>WHEELING OHIO CO AIRPORT, WV US</td>\n",
       "      <td>40.16994</td>\n",
       "      <td>-80.64406</td>\n",
       "      <td>364.3</td>\n",
       "      <td>1998-03-27</td>\n",
       "      <td>NaN</td>\n",
       "      <td>NaN</td>\n",
       "      <td>NaN</td>\n",
       "      <td>NaN</td>\n",
       "      <td>NaN</td>\n",
       "      <td>...</td>\n",
       "      <td>NaN</td>\n",
       "      <td>NaN</td>\n",
       "      <td>NaN</td>\n",
       "      <td>NaN</td>\n",
       "      <td>NaN</td>\n",
       "      <td>NaN</td>\n",
       "      <td>NaN</td>\n",
       "      <td>NaN</td>\n",
       "      <td>NaN</td>\n",
       "      <td>NaN</td>\n",
       "    </tr>\n",
       "    <tr>\n",
       "      <th>USW00014894</th>\n",
       "      <td>WHEELING OHIO CO AIRPORT, WV US</td>\n",
       "      <td>40.16994</td>\n",
       "      <td>-80.64406</td>\n",
       "      <td>364.3</td>\n",
       "      <td>1998-03-28</td>\n",
       "      <td>NaN</td>\n",
       "      <td>NaN</td>\n",
       "      <td>NaN</td>\n",
       "      <td>NaN</td>\n",
       "      <td>NaN</td>\n",
       "      <td>...</td>\n",
       "      <td>NaN</td>\n",
       "      <td>NaN</td>\n",
       "      <td>NaN</td>\n",
       "      <td>NaN</td>\n",
       "      <td>NaN</td>\n",
       "      <td>NaN</td>\n",
       "      <td>NaN</td>\n",
       "      <td>NaN</td>\n",
       "      <td>NaN</td>\n",
       "      <td>NaN</td>\n",
       "    </tr>\n",
       "    <tr>\n",
       "      <th>USW00014894</th>\n",
       "      <td>WHEELING OHIO CO AIRPORT, WV US</td>\n",
       "      <td>40.16994</td>\n",
       "      <td>-80.64406</td>\n",
       "      <td>364.3</td>\n",
       "      <td>1998-03-29</td>\n",
       "      <td>NaN</td>\n",
       "      <td>NaN</td>\n",
       "      <td>NaN</td>\n",
       "      <td>NaN</td>\n",
       "      <td>NaN</td>\n",
       "      <td>...</td>\n",
       "      <td>NaN</td>\n",
       "      <td>NaN</td>\n",
       "      <td>NaN</td>\n",
       "      <td>NaN</td>\n",
       "      <td>NaN</td>\n",
       "      <td>NaN</td>\n",
       "      <td>NaN</td>\n",
       "      <td>NaN</td>\n",
       "      <td>NaN</td>\n",
       "      <td>NaN</td>\n",
       "    </tr>\n",
       "    <tr>\n",
       "      <th>USW00014894</th>\n",
       "      <td>WHEELING OHIO CO AIRPORT, WV US</td>\n",
       "      <td>40.16994</td>\n",
       "      <td>-80.64406</td>\n",
       "      <td>364.3</td>\n",
       "      <td>1998-04-01</td>\n",
       "      <td>11.63</td>\n",
       "      <td>,,W</td>\n",
       "      <td>335.0</td>\n",
       "      <td>,,W</td>\n",
       "      <td>334.0</td>\n",
       "      <td>...</td>\n",
       "      <td>NaN</td>\n",
       "      <td>NaN</td>\n",
       "      <td>NaN</td>\n",
       "      <td>NaN</td>\n",
       "      <td>NaN</td>\n",
       "      <td>NaN</td>\n",
       "      <td>NaN</td>\n",
       "      <td>NaN</td>\n",
       "      <td>NaN</td>\n",
       "      <td>NaN</td>\n",
       "    </tr>\n",
       "  </tbody>\n",
       "</table>\n",
       "<p>5 rows × 47 columns</p>\n",
       "</div>"
      ],
      "text/plain": [
       "                                        NAME  LATITUDE  LONGITUDE  ELEVATION  \\\n",
       "STATION                                                                        \n",
       "USW00014894  WHEELING OHIO CO AIRPORT, WV US  40.16994  -80.64406      364.3   \n",
       "USW00014894  WHEELING OHIO CO AIRPORT, WV US  40.16994  -80.64406      364.3   \n",
       "USW00014894  WHEELING OHIO CO AIRPORT, WV US  40.16994  -80.64406      364.3   \n",
       "USW00014894  WHEELING OHIO CO AIRPORT, WV US  40.16994  -80.64406      364.3   \n",
       "USW00014894  WHEELING OHIO CO AIRPORT, WV US  40.16994  -80.64406      364.3   \n",
       "\n",
       "                  DATE   AWND AWND_ATTRIBUTES   FMTM FMTM_ATTRIBUTES   PGTM  \\\n",
       "STATION                                                                       \n",
       "USW00014894 1998-03-26    NaN             NaN    NaN             NaN    NaN   \n",
       "USW00014894 1998-03-27    NaN             NaN    NaN             NaN    NaN   \n",
       "USW00014894 1998-03-28    NaN             NaN    NaN             NaN    NaN   \n",
       "USW00014894 1998-03-29    NaN             NaN    NaN             NaN    NaN   \n",
       "USW00014894 1998-04-01  11.63             ,,W  335.0             ,,W  334.0   \n",
       "\n",
       "             ... WT02  WT02_ATTRIBUTES WT03  WT03_ATTRIBUTES WT06  \\\n",
       "STATION      ...                                                    \n",
       "USW00014894  ...  NaN              NaN  NaN              NaN  NaN   \n",
       "USW00014894  ...  NaN              NaN  NaN              NaN  NaN   \n",
       "USW00014894  ...  NaN              NaN  NaN              NaN  NaN   \n",
       "USW00014894  ...  NaN              NaN  NaN              NaN  NaN   \n",
       "USW00014894  ...  NaN              NaN  NaN              NaN  NaN   \n",
       "\n",
       "             WT06_ATTRIBUTES WT08  WT08_ATTRIBUTES WT09  WT09_ATTRIBUTES  \n",
       "STATION                                                                   \n",
       "USW00014894              NaN  NaN              NaN  NaN              NaN  \n",
       "USW00014894              NaN  NaN              NaN  NaN              NaN  \n",
       "USW00014894              NaN  NaN              NaN  NaN              NaN  \n",
       "USW00014894              NaN  NaN              NaN  NaN              NaN  \n",
       "USW00014894              NaN  NaN              NaN  NaN              NaN  \n",
       "\n",
       "[5 rows x 47 columns]"
      ]
     },
     "execution_count": 9,
     "metadata": {},
     "output_type": "execute_result"
    }
   ],
   "source": [
    "raiz = 'C:/proyectos/weather_ohio/'\n",
    "\n",
    "nombre_fichero_datos = 'ohio_weather.csv'\n",
    "ruta_completa = raiz + '/02_Datos/01_Originales/' + nombre_fichero_datos\n",
    "datos = pd.read_csv(ruta_completa,index_col=0)\n",
    "datos['DATE'] = pd.to_datetime(datos['DATE'])\n",
    "datos.head()"
   ]
  },
  {
   "cell_type": "code",
   "execution_count": 5,
   "id": "40c9d566",
   "metadata": {},
   "outputs": [
    {
     "name": "stdout",
     "output_type": "stream",
     "text": [
      "<class 'pandas.core.frame.DataFrame'>\n",
      "Index: 9176 entries, USW00014894 to USW00014894\n",
      "Data columns (total 47 columns):\n",
      " #   Column           Non-Null Count  Dtype         \n",
      "---  ------           --------------  -----         \n",
      " 0   NAME             9176 non-null   object        \n",
      " 1   LATITUDE         9176 non-null   float64       \n",
      " 2   LONGITUDE        9176 non-null   float64       \n",
      " 3   ELEVATION        9176 non-null   float64       \n",
      " 4   DATE             9176 non-null   datetime64[ns]\n",
      " 5   AWND             9145 non-null   float64       \n",
      " 6   AWND_ATTRIBUTES  9145 non-null   object        \n",
      " 7   FMTM             2825 non-null   float64       \n",
      " 8   FMTM_ATTRIBUTES  2825 non-null   object        \n",
      " 9   PGTM             4824 non-null   float64       \n",
      " 10  PGTM_ATTRIBUTES  4824 non-null   object        \n",
      " 11  PRCP             9170 non-null   float64       \n",
      " 12  PRCP_ATTRIBUTES  9170 non-null   object        \n",
      " 13  PSUN             10 non-null     float64       \n",
      " 14  PSUN_ATTRIBUTES  10 non-null     object        \n",
      " 15  SNOW             690 non-null    float64       \n",
      " 16  SNOW_ATTRIBUTES  690 non-null    object        \n",
      " 17  SNWD             1387 non-null   float64       \n",
      " 18  SNWD_ATTRIBUTES  1387 non-null   object        \n",
      " 19  TAVG             2654 non-null   float64       \n",
      " 20  TAVG_ATTRIBUTES  2654 non-null   object        \n",
      " 21  TMAX             9122 non-null   float64       \n",
      " 22  TMAX_ATTRIBUTES  9122 non-null   object        \n",
      " 23  TMIN             9120 non-null   float64       \n",
      " 24  TMIN_ATTRIBUTES  9120 non-null   object        \n",
      " 25  TSUN             1229 non-null   float64       \n",
      " 26  TSUN_ATTRIBUTES  1229 non-null   object        \n",
      " 27  WDF2             9159 non-null   float64       \n",
      " 28  WDF2_ATTRIBUTES  9159 non-null   object        \n",
      " 29  WDF5             9135 non-null   float64       \n",
      " 30  WDF5_ATTRIBUTES  9135 non-null   object        \n",
      " 31  WSF2             9159 non-null   float64       \n",
      " 32  WSF2_ATTRIBUTES  9159 non-null   object        \n",
      " 33  WSF5             9138 non-null   float64       \n",
      " 34  WSF5_ATTRIBUTES  9138 non-null   object        \n",
      " 35  WT01             3724 non-null   float64       \n",
      " 36  WT01_ATTRIBUTES  3724 non-null   object        \n",
      " 37  WT02             849 non-null    float64       \n",
      " 38  WT02_ATTRIBUTES  849 non-null    object        \n",
      " 39  WT03             695 non-null    float64       \n",
      " 40  WT03_ATTRIBUTES  695 non-null    object        \n",
      " 41  WT06             56 non-null     float64       \n",
      " 42  WT06_ATTRIBUTES  56 non-null     object        \n",
      " 43  WT08             1307 non-null   float64       \n",
      " 44  WT08_ATTRIBUTES  1307 non-null   object        \n",
      " 45  WT09             1 non-null      float64       \n",
      " 46  WT09_ATTRIBUTES  1 non-null      object        \n",
      "dtypes: datetime64[ns](1), float64(24), object(22)\n",
      "memory usage: 3.4+ MB\n"
     ]
    }
   ],
   "source": [
    "datos.info()"
   ]
  },
  {
   "cell_type": "code",
   "execution_count": 8,
   "id": "f9a0462f",
   "metadata": {},
   "outputs": [
    {
     "data": {
      "text/plain": [
       "NAME                0.000000\n",
       "LATITUDE            0.000000\n",
       "LONGITUDE           0.000000\n",
       "ELEVATION           0.000000\n",
       "DATE                0.000000\n",
       "AWND                0.337838\n",
       "AWND_ATTRIBUTES     0.337838\n",
       "FMTM               69.213165\n",
       "FMTM_ATTRIBUTES    69.213165\n",
       "PGTM               47.428073\n",
       "PGTM_ATTRIBUTES    47.428073\n",
       "PRCP                0.065388\n",
       "PRCP_ATTRIBUTES     0.065388\n",
       "PSUN               99.891020\n",
       "PSUN_ATTRIBUTES    99.891020\n",
       "SNOW               92.480384\n",
       "SNOW_ATTRIBUTES    92.480384\n",
       "SNWD               84.884481\n",
       "SNWD_ATTRIBUTES    84.884481\n",
       "TAVG               71.076722\n",
       "TAVG_ATTRIBUTES    71.076722\n",
       "TMAX                0.588492\n",
       "TMAX_ATTRIBUTES     0.588492\n",
       "TMIN                0.610288\n",
       "TMIN_ATTRIBUTES     0.610288\n",
       "TSUN               86.606364\n",
       "TSUN_ATTRIBUTES    86.606364\n",
       "WDF2                0.185266\n",
       "WDF2_ATTRIBUTES     0.185266\n",
       "WDF5                0.446818\n",
       "WDF5_ATTRIBUTES     0.446818\n",
       "WSF2                0.185266\n",
       "WSF2_ATTRIBUTES     0.185266\n",
       "WSF5                0.414124\n",
       "WSF5_ATTRIBUTES     0.414124\n",
       "WT01               59.415867\n",
       "WT01_ATTRIBUTES    59.415867\n",
       "WT02               90.747602\n",
       "WT02_ATTRIBUTES    90.747602\n",
       "WT03               92.425894\n",
       "WT03_ATTRIBUTES    92.425894\n",
       "WT06               99.389712\n",
       "WT06_ATTRIBUTES    99.389712\n",
       "WT08               85.756321\n",
       "WT08_ATTRIBUTES    85.756321\n",
       "WT09               99.989102\n",
       "WT09_ATTRIBUTES    99.989102\n",
       "dtype: float64"
      ]
     },
     "execution_count": 8,
     "metadata": {},
     "output_type": "execute_result"
    }
   ],
   "source": [
    "datos.isna().sum()/datos.shape[0]*100"
   ]
  },
  {
   "cell_type": "markdown",
   "id": "6a78c5da",
   "metadata": {},
   "source": [
    "# Funciones"
   ]
  },
  {
   "cell_type": "code",
   "execution_count": 27,
   "id": "60e2016d",
   "metadata": {},
   "outputs": [],
   "source": [
    "def correccion_datos(datos):\n",
    "    \n",
    "    df = datos.copy()\n",
    "    \n",
    "    #indice\n",
    "    df = df.reset_index()\n",
    "    df.set_index(\"DATE\",inplace=True)\n",
    "    \n",
    "    # limpieza nombres variables\n",
    "    df = clean_names(df)\n",
    "    \n",
    "    # seleccion variables\n",
    "    variables = ['tmax', 'day','prcp', 'wsf2', 'wdf2']\n",
    "    df['day'] = df.index.day\n",
    "    df = df[variables] \n",
    "    \n",
    "    #limpieza variables\n",
    "    df = df.interpolate(method = 'linear').bfill().copy()\n",
    "    \n",
    "    #atipicos\n",
    "    winsor_sup={\"prcp\":1.4,\"wsf2\":48}\n",
    "    for key, value in  winsor_sup.items():\n",
    "        df[key].clip(upper=value, inplace=True)\n",
    "\n",
    "    \n",
    "    return df\n",
    "    "
   ]
  },
  {
   "cell_type": "code",
   "execution_count": 42,
   "id": "dd2ef270",
   "metadata": {},
   "outputs": [],
   "source": [
    "\n",
    "\n",
    "\n",
    "def transformacion_variables(datos):\n",
    "    df = datos.copy()\n",
    "    \n",
    "    \n",
    "    # grados Faranheit a celsius\n",
    "    df[\"tmax\"] = (df[\"tmax\"] - 32) * 5/9\n",
    "    \n",
    "    # variable target\n",
    "    df_target = df[['tmax']].rename(columns = {'tmax':'target'})\n",
    "    \n",
    "    #VARIABLES LAG\n",
    "    df_lag = lag_df(df)\n",
    "\n",
    "    df_final = pd.concat([df.day, df_lag,df_target],axis=1)\n",
    "\n",
    "    # Quitamos na por lags\n",
    "    df_final.dropna(inplace=True)\n",
    "    \n",
    "    return df_final\n",
    "   \n",
    "\n",
    "def lag_df(datos):\n",
    "    df = datos.copy()\n",
    "    \n",
    "    # variables de tiempos anteriores\n",
    "    df_tmax = lag_variable(df.tmax,n= 1)\n",
    "    df_prcp = lag_variable(df.prcp,n= 1)\n",
    "    df_wsf2 = lag_variable(df.wsf2,n= 1)\n",
    "    df_wdf2 = lag_variable(df.wdf2,n= 1)\n",
    "   \n",
    "    df_lag = pd.concat([df_tmax, df_prcp, df_wsf2, df_wdf2],axis=1)\n",
    "    return df_lag\n",
    "\n",
    "def lag_variable(variable, n=10):\n",
    "    lista = []\n",
    "    temp = pd.DataFrame()\n",
    "    for i in range(1,n+1):\n",
    "        temp[variable.name +f\"_{i}\"] = variable.shift(i)\n",
    "    \n",
    "    return temp    \n",
    "    \n"
   ]
  },
  {
   "cell_type": "code",
   "execution_count": 125,
   "id": "f538a07e",
   "metadata": {},
   "outputs": [],
   "source": [
    "def entrenar_modelo(x,y):\n",
    "     df = datos.copy()\n",
    "     \n",
    "     m = HistGradientBoostingRegressor(l2_regularization=1, max_depth=10, min_samples_leaf=500,scoring='neg_mean_absolute_error')\n",
    "     m.fit(x,y)\n",
    "     return m\n",
    "\n",
    "def predecir(datos_train,modelo,variables_train, reescalado= None):\n",
    "    \n",
    "\n",
    "    datos = datos_train[variables_train].copy()\n",
    "    datos1 = datos.copy()\n",
    "    \n",
    "    datos2 = reescalar_predict(datos,variables_train, reescalado)\n",
    "    \n",
    "    return modelo.predict(datos2)\n",
    "\n",
    "\n",
    "def reescalar_fit(datos,variables_train):\n",
    "    \n",
    "\n",
    "    datos = datos[variables_train].copy()\n",
    "    \n",
    "    ss = StandardScaler()\n",
    "    datos1 = ss.fit(datos)\n",
    "    \n",
    "    return ss\n",
    "\n",
    "def reescalar_predict(datos,variables_train, reescalado):\n",
    "    \n",
    "\n",
    "    datos = datos[variables_train].copy()\n",
    "    \n",
    "    return pd.DataFrame(reescalado.transform(datos),columns=variables_train )\n",
    "    "
   ]
  },
  {
   "cell_type": "markdown",
   "id": "8106b1d3",
   "metadata": {},
   "source": [
    "# Entrenamiento"
   ]
  },
  {
   "cell_type": "code",
   "execution_count": 118,
   "id": "778d7540",
   "metadata": {},
   "outputs": [
    {
     "data": {
      "text/html": [
       "<div>\n",
       "<style scoped>\n",
       "    .dataframe tbody tr th:only-of-type {\n",
       "        vertical-align: middle;\n",
       "    }\n",
       "\n",
       "    .dataframe tbody tr th {\n",
       "        vertical-align: top;\n",
       "    }\n",
       "\n",
       "    .dataframe thead th {\n",
       "        text-align: right;\n",
       "    }\n",
       "</style>\n",
       "<table border=\"1\" class=\"dataframe\">\n",
       "  <thead>\n",
       "    <tr style=\"text-align: right;\">\n",
       "      <th></th>\n",
       "      <th>day</th>\n",
       "      <th>tmax_1</th>\n",
       "      <th>prcp_1</th>\n",
       "      <th>wsf2_1</th>\n",
       "      <th>wdf2_1</th>\n",
       "      <th>target</th>\n",
       "    </tr>\n",
       "    <tr>\n",
       "      <th>DATE</th>\n",
       "      <th></th>\n",
       "      <th></th>\n",
       "      <th></th>\n",
       "      <th></th>\n",
       "      <th></th>\n",
       "      <th></th>\n",
       "    </tr>\n",
       "  </thead>\n",
       "  <tbody>\n",
       "    <tr>\n",
       "      <th>1998-03-27</th>\n",
       "      <td>27</td>\n",
       "      <td>25.000000</td>\n",
       "      <td>0.23</td>\n",
       "      <td>29.1</td>\n",
       "      <td>250.0</td>\n",
       "      <td>26.666667</td>\n",
       "    </tr>\n",
       "    <tr>\n",
       "      <th>1998-03-28</th>\n",
       "      <td>28</td>\n",
       "      <td>26.666667</td>\n",
       "      <td>0.23</td>\n",
       "      <td>29.1</td>\n",
       "      <td>250.0</td>\n",
       "      <td>25.555556</td>\n",
       "    </tr>\n",
       "    <tr>\n",
       "      <th>1998-03-29</th>\n",
       "      <td>29</td>\n",
       "      <td>25.555556</td>\n",
       "      <td>0.23</td>\n",
       "      <td>29.1</td>\n",
       "      <td>250.0</td>\n",
       "      <td>26.111111</td>\n",
       "    </tr>\n",
       "    <tr>\n",
       "      <th>1998-04-01</th>\n",
       "      <td>1</td>\n",
       "      <td>26.111111</td>\n",
       "      <td>0.23</td>\n",
       "      <td>29.1</td>\n",
       "      <td>250.0</td>\n",
       "      <td>21.666667</td>\n",
       "    </tr>\n",
       "    <tr>\n",
       "      <th>1998-04-02</th>\n",
       "      <td>2</td>\n",
       "      <td>21.666667</td>\n",
       "      <td>0.23</td>\n",
       "      <td>29.1</td>\n",
       "      <td>250.0</td>\n",
       "      <td>11.666667</td>\n",
       "    </tr>\n",
       "  </tbody>\n",
       "</table>\n",
       "</div>"
      ],
      "text/plain": [
       "            day     tmax_1  prcp_1  wsf2_1  wdf2_1     target\n",
       "DATE                                                         \n",
       "1998-03-27   27  25.000000    0.23    29.1   250.0  26.666667\n",
       "1998-03-28   28  26.666667    0.23    29.1   250.0  25.555556\n",
       "1998-03-29   29  25.555556    0.23    29.1   250.0  26.111111\n",
       "1998-04-01    1  26.111111    0.23    29.1   250.0  21.666667\n",
       "1998-04-02    2  21.666667    0.23    29.1   250.0  11.666667"
      ]
     },
     "execution_count": 118,
     "metadata": {},
     "output_type": "execute_result"
    }
   ],
   "source": [
    "df = correccion_datos(datos)\n",
    "df = transformacion_variables(df)\n",
    "\n",
    "variables_train = ['day', 'tmax_1', 'prcp_1', 'wsf2_1', 'wdf2_1']\n",
    "df.head()"
   ]
  },
  {
   "cell_type": "code",
   "execution_count": 119,
   "id": "884cf28c",
   "metadata": {},
   "outputs": [],
   "source": [
    "train = df.loc[:'2020']\n",
    "test = df.loc['2020':]"
   ]
  },
  {
   "cell_type": "code",
   "execution_count": 130,
   "id": "d37cf14a",
   "metadata": {},
   "outputs": [
    {
     "name": "stdout",
     "output_type": "stream",
     "text": [
      "x dimension: (8306, 5)\n",
      "y dimension: (8306,)\n"
     ]
    },
    {
     "data": {
      "text/plain": [
       "14.74777030960869"
      ]
     },
     "execution_count": 130,
     "metadata": {},
     "output_type": "execute_result"
    }
   ],
   "source": [
    "x = train[variables_train].copy()\n",
    "y = train['target'].copy()\n",
    "\n",
    "print(f\"x dimension: {x.shape}\")\n",
    "print(f\"y dimension: {y.shape}\")\n",
    "\n",
    "# Reescalado\n",
    "reescalado = reescalar_fit(x,variables_train)\n",
    "x = reescalar_predict(x,variables_train, reescalado)\n",
    "\n",
    "# Entrenamiento modelo\n",
    "modelo = entrenar_modelo(x,y)\n",
    "\n",
    "# Predecir\n",
    "preds = predecir(x,modelo,variables_train, reescalado)\n",
    "mean_absolute_error(y, preds)"
   ]
  },
  {
   "cell_type": "markdown",
   "id": "12cbb352",
   "metadata": {},
   "source": [
    "# Prediccion"
   ]
  },
  {
   "cell_type": "code",
   "execution_count": 114,
   "id": "a5460742",
   "metadata": {},
   "outputs": [
    {
     "data": {
      "text/html": [
       "<div>\n",
       "<style scoped>\n",
       "    .dataframe tbody tr th:only-of-type {\n",
       "        vertical-align: middle;\n",
       "    }\n",
       "\n",
       "    .dataframe tbody tr th {\n",
       "        vertical-align: top;\n",
       "    }\n",
       "\n",
       "    .dataframe thead th {\n",
       "        text-align: right;\n",
       "    }\n",
       "</style>\n",
       "<table border=\"1\" class=\"dataframe\">\n",
       "  <thead>\n",
       "    <tr style=\"text-align: right;\">\n",
       "      <th></th>\n",
       "      <th>day</th>\n",
       "      <th>tmax_1</th>\n",
       "      <th>prcp_1</th>\n",
       "      <th>wsf2_1</th>\n",
       "      <th>wdf2_1</th>\n",
       "      <th>target</th>\n",
       "    </tr>\n",
       "    <tr>\n",
       "      <th>DATE</th>\n",
       "      <th></th>\n",
       "      <th></th>\n",
       "      <th></th>\n",
       "      <th></th>\n",
       "      <th></th>\n",
       "      <th></th>\n",
       "    </tr>\n",
       "  </thead>\n",
       "  <tbody>\n",
       "    <tr>\n",
       "      <th>1998-03-27</th>\n",
       "      <td>27</td>\n",
       "      <td>25.0</td>\n",
       "      <td>0.23</td>\n",
       "      <td>29.1</td>\n",
       "      <td>250.0</td>\n",
       "      <td>26.666667</td>\n",
       "    </tr>\n",
       "  </tbody>\n",
       "</table>\n",
       "</div>"
      ],
      "text/plain": [
       "            day  tmax_1  prcp_1  wsf2_1  wdf2_1     target\n",
       "DATE                                                      \n",
       "1998-03-27   27    25.0    0.23    29.1   250.0  26.666667"
      ]
     },
     "execution_count": 114,
     "metadata": {},
     "output_type": "execute_result"
    }
   ],
   "source": [
    "datos_pre = df.iloc[0:1]\n",
    "datos_pre"
   ]
  },
  {
   "cell_type": "code",
   "execution_count": 131,
   "id": "410cf1f5",
   "metadata": {},
   "outputs": [
    {
     "data": {
      "text/plain": [
       "array([ 2.44401688,  6.43594102,  9.43160522, ..., 21.71355993,\n",
       "       19.14531774, 24.89785028])"
      ]
     },
     "execution_count": 131,
     "metadata": {},
     "output_type": "execute_result"
    }
   ],
   "source": [
    "# reescalado: reescalado entrenado\n",
    "# modelo: modelo entrenado\n",
    "\n",
    "variables_train = ['day', 'tmax_1', 'prcp_1', 'wsf2_1', 'wdf2_1']\n",
    "\n",
    "# Prediccion\n",
    "pred_test =  predecir(test,modelo,variables_train,reescalado=reescalado)\n",
    "pred_test"
   ]
  },
  {
   "cell_type": "code",
   "execution_count": 133,
   "id": "7cb34da6",
   "metadata": {},
   "outputs": [
    {
     "data": {
      "text/plain": [
       "3.1076528335823075"
      ]
     },
     "execution_count": 133,
     "metadata": {},
     "output_type": "execute_result"
    }
   ],
   "source": [
    "from sklearn.metrics import mean_absolute_error\n",
    "mean_absolute_error(test.target, pred_test)"
   ]
  },
  {
   "cell_type": "code",
   "execution_count": 142,
   "id": "a8944899",
   "metadata": {},
   "outputs": [
    {
     "name": "stdout",
     "output_type": "stream",
     "text": [
      "<class 'pandas.core.frame.DataFrame'>\n",
      "DatetimeIndex: 1235 entries, 2020-01-01 to 2023-05-19\n",
      "Data columns (total 2 columns):\n",
      " #   Column      Non-Null Count  Dtype  \n",
      "---  ------      --------------  -----  \n",
      " 0   target      1235 non-null   float64\n",
      " 1   prediccion  1235 non-null   float64\n",
      "dtypes: float64(2)\n",
      "memory usage: 28.9 KB\n"
     ]
    },
    {
     "data": {
      "image/png": "[encoded data removed]",
      "text/plain": [
       "<Figure size 432x288 with 1 Axes>"
      ]
     },
     "metadata": {
      "needs_background": "light"
     },
     "output_type": "display_data"
    }
   ],
   "source": [
    "comparacion = pd.DataFrame({'target':test.target,'prediccion':pred_test})\n",
    "comparacion.info()\n",
    "comparacion.plot();\n",
    "comp = comparacion.copy()"
   ]
  },
  {
   "cell_type": "code",
   "execution_count": 153,
   "id": "b18299a7",
   "metadata": {},
   "outputs": [
    {
     "data": {
      "text/plain": [
       "<AxesSubplot:xlabel='DATE'>"
      ]
     },
     "execution_count": 153,
     "metadata": {},
     "output_type": "execute_result"
    },
    {
     "data": {
      "image/png": "[encoded data removed]",
      "text/plain": [
       "<Figure size 432x288 with 1 Axes>"
      ]
     },
     "metadata": {
      "needs_background": "light"
     },
     "output_type": "display_data"
    }
   ],
   "source": [
    "comp['error'] = comp['target'] - comp['prediccion']\n",
    "comp[\"error_abs\"] =abs(comp['error'])\n",
    "comp[comp.columns.tolist()[:-1]].plot()"
   ]
  },
  {
   "cell_type": "code",
   "execution_count": 148,
   "id": "7a0af0bf",
   "metadata": {},
   "outputs": [
    {
     "data": {
      "text/plain": [
       "<AxesSubplot:xlabel='DATE'>"
      ]
     },
     "execution_count": 148,
     "metadata": {},
     "output_type": "execute_result"
    },
    {
     "data": {
      "image/png": "[encoded data removed]",
      "text/plain": [
       "<Figure size 432x288 with 1 Axes>"
      ]
     },
     "metadata": {
      "needs_background": "light"
     },
     "output_type": "display_data"
    }
   ],
   "source": [
    "comp['error'].plot()"
   ]
  },
  {
   "cell_type": "code",
   "execution_count": 154,
   "id": "db18c8af",
   "metadata": {},
   "outputs": [
    {
     "data": {
      "text/plain": [
       "<AxesSubplot:xlabel='DATE'>"
      ]
     },
     "execution_count": 154,
     "metadata": {},
     "output_type": "execute_result"
    },
    {
     "data": {
      "image/png": "[encoded data removed]",
      "text/plain": [
       "<Figure size 432x288 with 1 Axes>"
      ]
     },
     "metadata": {
      "needs_background": "light"
     },
     "output_type": "display_data"
    }
   ],
   "source": [
    "comp.groupby(comp.index.month)['error_abs'].mean().plot.bar()"
   ]
  }
 ],
 "metadata": {
  "kernelspec": {
   "display_name": "Python 3 (ipykernel)",
   "language": "python",
   "name": "python3"
  },
  "language_info": {
   "codemirror_mode": {
    "name": "ipython",
    "version": 3
   },
   "file_extension": ".py",
   "mimetype": "text/x-python",
   "name": "python",
   "nbconvert_exporter": "python",
   "pygments_lexer": "ipython3",
   "version": "3.9.7"
  },
  "toc": {
   "base_numbering": 1,
   "nav_menu": {},
   "number_sections": true,
   "sideBar": true,
   "skip_h1_title": false,
   "title_cell": "Table of Contents",
   "title_sidebar": "Contents",
   "toc_cell": true,
   "toc_position": {},
   "toc_section_display": true,
   "toc_window_display": false
  },
  "varInspector": {
   "cols": {
    "lenName": 16,
    "lenType": 16,
    "lenVar": 40
   },
   "kernels_config": {
    "python": {
     "delete_cmd_postfix": "",
     "delete_cmd_prefix": "del ",
     "library": "var_list.py",
     "varRefreshCmd": "print(var_dic_list())"
    },
    "r": {
     "delete_cmd_postfix": ") ",
     "delete_cmd_prefix": "rm(",
     "library": "var_list.r",
     "varRefreshCmd": "cat(var_dic_list()) "
    }
   },
   "types_to_exclude": [
    "module",
    "function",
    "builtin_function_or_method",
    "instance",
    "_Feature"
   ],
   "window_display": false
  }
 },
 "nbformat": 4,
 "nbformat_minor": 5
}
