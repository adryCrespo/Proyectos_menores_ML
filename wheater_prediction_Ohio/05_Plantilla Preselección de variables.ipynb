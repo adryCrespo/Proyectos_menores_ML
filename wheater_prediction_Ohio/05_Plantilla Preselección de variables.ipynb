{
 "cells": [
  {
   "cell_type": "markdown",
   "id": "d31dea65",
   "metadata": {},
   "source": [
    "# PLANTILLA PRESELECCIÓN DE VARIABLES"
   ]
  },
  {
   "cell_type": "markdown",
   "id": "a18ebc17",
   "metadata": {},
   "source": [
    "**IMPORTANTE**: Recuerda hacer una copia de esta plantilla para no machacar la original."
   ]
  },
  {
   "cell_type": "markdown",
   "id": "swiss-fault",
   "metadata": {},
   "source": [
    "## IMPORTAR PAQUETES"
   ]
  },
  {
   "cell_type": "code",
   "execution_count": 1,
   "id": "adjacent-toddler",
   "metadata": {},
   "outputs": [
    {
     "name": "stderr",
     "output_type": "stream",
     "text": [
      "C:\\Users\\acrespod\\Anaconda3\\lib\\site-packages\\scipy\\__init__.py:146: UserWarning: A NumPy version >=1.16.5 and <1.23.0 is required for this version of SciPy (detected version 1.23.1\n",
      "  warnings.warn(f\"A NumPy version >={np_minversion} and <{np_maxversion}\"\n",
      "C:\\Users\\acrespod\\Anaconda3\\lib\\site-packages\\xgboost\\compat.py:36: FutureWarning: pandas.Int64Index is deprecated and will be removed from pandas in a future version. Use pandas.Index with the appropriate dtype instead.\n",
      "  from pandas import MultiIndex, Int64Index\n"
     ]
    }
   ],
   "source": [
    "import numpy as np\n",
    "import pandas as pd\n",
    "import matplotlib.pyplot as plt\n",
    "%matplotlib inline\n",
    "\n",
    "from sklearn.feature_selection import mutual_info_classif\n",
    "from sklearn.feature_selection import mutual_info_regression\n",
    "from sklearn.feature_selection import RFE\n",
    "from xgboost import XGBClassifier\n",
    "from xgboost import XGBRegressor\n",
    "from sklearn.inspection import permutation_importance\n",
    "\n",
    "\n",
    "#Automcompletar rápido\n",
    "%config IPCompleter.greedy=True"
   ]
  },
  {
   "cell_type": "markdown",
   "id": "graduate-compensation",
   "metadata": {},
   "source": [
    "## IMPORTAR LOS DATOS"
   ]
  },
  {
   "cell_type": "markdown",
   "id": "3a5b94ef",
   "metadata": {},
   "source": [
    "Sustituir la ruta del proyecto."
   ]
  },
  {
   "cell_type": "code",
   "execution_count": 2,
   "id": "f9d2de58",
   "metadata": {},
   "outputs": [],
   "source": [
    "ruta_proyecto = 'C:/proyectos/weather_ohio/'"
   ]
  },
  {
   "cell_type": "markdown",
   "id": "c3363765",
   "metadata": {},
   "source": [
    "Nombres de los ficheros de datos."
   ]
  },
  {
   "cell_type": "code",
   "execution_count": 3,
   "id": "a9e2e04a",
   "metadata": {},
   "outputs": [],
   "source": [
    "nombre_df = 'df_tablon.pickle'"
   ]
  },
  {
   "cell_type": "markdown",
   "id": "b9825018",
   "metadata": {},
   "source": [
    "Cargar los datos."
   ]
  },
  {
   "cell_type": "code",
   "execution_count": 12,
   "id": "cab6ebcd",
   "metadata": {},
   "outputs": [],
   "source": [
    "df = pd.read_pickle(ruta_proyecto + '/02_Datos/03_Trabajo/' + nombre_df)"
   ]
  },
  {
   "cell_type": "code",
   "execution_count": 13,
   "id": "cc4ed869",
   "metadata": {},
   "outputs": [
    {
     "name": "stdout",
     "output_type": "stream",
     "text": [
      "<class 'pandas.core.frame.DataFrame'>\n",
      "DatetimeIndex: 8665 entries, 1998-04-04 to 2021-12-31\n",
      "Data columns (total 79 columns):\n",
      " #   Column           Non-Null Count  Dtype  \n",
      "---  ------           --------------  -----  \n",
      " 0   year             8665 non-null   int64  \n",
      " 1   month            8665 non-null   int64  \n",
      " 2   day              8665 non-null   int64  \n",
      " 3   tmax_mensual_ss  8665 non-null   float64\n",
      " 4   awnd_1_ss        8665 non-null   float64\n",
      " 5   awnd_2_ss        8665 non-null   float64\n",
      " 6   awnd_3_ss        8665 non-null   float64\n",
      " 7   awnd_4_ss        8665 non-null   float64\n",
      " 8   awnd_5_ss        8665 non-null   float64\n",
      " 9   awnd_6_ss        8665 non-null   float64\n",
      " 10  awnd_7_ss        8665 non-null   float64\n",
      " 11  prcp_1_ss        8665 non-null   float64\n",
      " 12  prcp_2_ss        8665 non-null   float64\n",
      " 13  prcp_3_ss        8665 non-null   float64\n",
      " 14  prcp_4_ss        8665 non-null   float64\n",
      " 15  prcp_5_ss        8665 non-null   float64\n",
      " 16  prcp_6_ss        8665 non-null   float64\n",
      " 17  prcp_7_ss        8665 non-null   float64\n",
      " 18  tmin_1_ss        8665 non-null   float64\n",
      " 19  tmin_2_ss        8665 non-null   float64\n",
      " 20  tmin_3_ss        8665 non-null   float64\n",
      " 21  tmin_4_ss        8665 non-null   float64\n",
      " 22  tmin_5_ss        8665 non-null   float64\n",
      " 23  tmin_6_ss        8665 non-null   float64\n",
      " 24  tmin_7_ss        8665 non-null   float64\n",
      " 25  wdf2_1_ss        8665 non-null   float64\n",
      " 26  wdf2_2_ss        8665 non-null   float64\n",
      " 27  wdf2_3_ss        8665 non-null   float64\n",
      " 28  wdf2_4_ss        8665 non-null   float64\n",
      " 29  wdf2_5_ss        8665 non-null   float64\n",
      " 30  wdf2_6_ss        8665 non-null   float64\n",
      " 31  wdf2_7_ss        8665 non-null   float64\n",
      " 32  wdf5_1_ss        8665 non-null   float64\n",
      " 33  wdf5_2_ss        8665 non-null   float64\n",
      " 34  wdf5_3_ss        8665 non-null   float64\n",
      " 35  wdf5_4_ss        8665 non-null   float64\n",
      " 36  wdf5_5_ss        8665 non-null   float64\n",
      " 37  wdf5_6_ss        8665 non-null   float64\n",
      " 38  wdf5_7_ss        8665 non-null   float64\n",
      " 39  wsf2_1_ss        8665 non-null   float64\n",
      " 40  wsf2_2_ss        8665 non-null   float64\n",
      " 41  wsf2_3_ss        8665 non-null   float64\n",
      " 42  wsf2_4_ss        8665 non-null   float64\n",
      " 43  wsf2_5_ss        8665 non-null   float64\n",
      " 44  wsf2_6_ss        8665 non-null   float64\n",
      " 45  wsf2_7_ss        8665 non-null   float64\n",
      " 46  wsf5_1_ss        8665 non-null   float64\n",
      " 47  wsf5_2_ss        8665 non-null   float64\n",
      " 48  wsf5_3_ss        8665 non-null   float64\n",
      " 49  wsf5_4_ss        8665 non-null   float64\n",
      " 50  wsf5_5_ss        8665 non-null   float64\n",
      " 51  wsf5_6_ss        8665 non-null   float64\n",
      " 52  wsf5_7_ss        8665 non-null   float64\n",
      " 53  tmax_1_ss        8665 non-null   float64\n",
      " 54  tmax_2_ss        8665 non-null   float64\n",
      " 55  tmax_3_ss        8665 non-null   float64\n",
      " 56  tmax_4_ss        8665 non-null   float64\n",
      " 57  tmax_5_ss        8665 non-null   float64\n",
      " 58  tmax_6_ss        8665 non-null   float64\n",
      " 59  tmax_7_ss        8665 non-null   float64\n",
      " 60  tmax_maxm_2_ss   8665 non-null   float64\n",
      " 61  tmax_maxm_3_ss   8665 non-null   float64\n",
      " 62  tmax_maxm_4_ss   8665 non-null   float64\n",
      " 63  tmax_maxm_5_ss   8665 non-null   float64\n",
      " 64  tmax_maxm_6_ss   8665 non-null   float64\n",
      " 65  tmax_maxm_7_ss   8665 non-null   float64\n",
      " 66  tmax_minm_2_ss   8665 non-null   float64\n",
      " 67  tmax_minm_3_ss   8665 non-null   float64\n",
      " 68  tmax_minm_4_ss   8665 non-null   float64\n",
      " 69  tmax_minm_5_ss   8665 non-null   float64\n",
      " 70  tmax_minm_6_ss   8665 non-null   float64\n",
      " 71  tmax_minm_7_ss   8665 non-null   float64\n",
      " 72  tmax_mm_2_ss     8665 non-null   float64\n",
      " 73  tmax_mm_3_ss     8665 non-null   float64\n",
      " 74  tmax_mm_4_ss     8665 non-null   float64\n",
      " 75  tmax_mm_5_ss     8665 non-null   float64\n",
      " 76  tmax_mm_6_ss     8665 non-null   float64\n",
      " 77  tmax_mm_7_ss     8665 non-null   float64\n",
      " 78  target           8665 non-null   float64\n",
      "dtypes: float64(76), int64(3)\n",
      "memory usage: 5.3 MB\n"
     ]
    }
   ],
   "source": [
    "df.drop(columns={'year_month'},inplace=True)\n",
    "df.info()"
   ]
  },
  {
   "cell_type": "code",
   "execution_count": 76,
   "id": "7aa04f20",
   "metadata": {},
   "outputs": [
    {
     "data": {
      "text/plain": [
       "3"
      ]
     },
     "execution_count": 76,
     "metadata": {},
     "output_type": "execute_result"
    }
   ],
   "source": [
    "abs(-3)"
   ]
  },
  {
   "cell_type": "code",
   "execution_count": 84,
   "id": "5a3e38e1",
   "metadata": {},
   "outputs": [
    {
     "data": {
      "text/plain": [
       "prcp_3_ss    0.002794\n",
       "prcp_2_ss    0.009121\n",
       "year         0.009165\n",
       "prcp_4_ss    0.022993\n",
       "prcp_5_ss    0.032648\n",
       "prcp_6_ss    0.037695\n",
       "prcp_7_ss    0.046744\n",
       "wdf5_7_ss    0.057224\n",
       "wdf5_6_ss    0.059260\n",
       "wdf2_7_ss    0.061295\n",
       "wdf2_6_ss    0.062898\n",
       "wdf5_5_ss    0.072484\n",
       "wdf5_4_ss    0.074271\n",
       "wdf2_5_ss    0.075261\n",
       "wdf2_4_ss    0.076583\n",
       "wdf5_1_ss    0.082101\n",
       "wdf2_1_ss    0.086844\n",
       "wdf5_3_ss    0.090267\n",
       "wdf2_3_ss    0.093659\n",
       "prcp_1_ss    0.094442\n",
       "wsf5_1_ss    0.113681\n",
       "wdf5_2_ss    0.141758\n",
       "wdf2_2_ss    0.150738\n",
       "wsf2_1_ss    0.155807\n",
       "wsf5_7_ss    0.172997\n",
       "wsf5_6_ss    0.181558\n",
       "wsf5_5_ss    0.200512\n",
       "day          0.212029\n",
       "wsf2_7_ss    0.212282\n",
       "month        0.215760\n",
       "Name: tmax_1_ss, dtype: float64"
      ]
     },
     "execution_count": 84,
     "metadata": {},
     "output_type": "execute_result"
    }
   ],
   "source": [
    "df.corr()['tmax_1_ss'].apply(lambda x: abs(x)).sort_values(ascending=True).head(30)"
   ]
  },
  {
   "cell_type": "code",
   "execution_count": 102,
   "id": "9dbe061b",
   "metadata": {},
   "outputs": [
    {
     "data": {
      "text/html": [
       "<div>\n",
       "<style scoped>\n",
       "    .dataframe tbody tr th:only-of-type {\n",
       "        vertical-align: middle;\n",
       "    }\n",
       "\n",
       "    .dataframe tbody tr th {\n",
       "        vertical-align: top;\n",
       "    }\n",
       "\n",
       "    .dataframe thead th {\n",
       "        text-align: right;\n",
       "    }\n",
       "</style>\n",
       "<table border=\"1\" class=\"dataframe\">\n",
       "  <thead>\n",
       "    <tr style=\"text-align: right;\">\n",
       "      <th></th>\n",
       "      <th>tmax_1_ss</th>\n",
       "      <th>tmin_1_ss</th>\n",
       "      <th>day</th>\n",
       "      <th>prcp_1_ss</th>\n",
       "      <th>awnd_1_ss</th>\n",
       "      <th>wsf2_1_ss</th>\n",
       "      <th>wdf2_1_ss</th>\n",
       "      <th>tmax_mm_7_ss</th>\n",
       "      <th>tmax_mm_6_ss</th>\n",
       "      <th>tmax_mensual_ss</th>\n",
       "    </tr>\n",
       "  </thead>\n",
       "  <tbody>\n",
       "    <tr>\n",
       "      <th>tmax_1_ss</th>\n",
       "      <td>1.000000</td>\n",
       "      <td>0.927632</td>\n",
       "      <td>0.212029</td>\n",
       "      <td>0.094442</td>\n",
       "      <td>-0.320971</td>\n",
       "      <td>-0.155807</td>\n",
       "      <td>-0.086844</td>\n",
       "      <td>0.902605</td>\n",
       "      <td>0.909703</td>\n",
       "      <td>0.722713</td>\n",
       "    </tr>\n",
       "    <tr>\n",
       "      <th>tmin_1_ss</th>\n",
       "      <td>0.927632</td>\n",
       "      <td>1.000000</td>\n",
       "      <td>0.247619</td>\n",
       "      <td>0.161162</td>\n",
       "      <td>-0.287684</td>\n",
       "      <td>-0.150135</td>\n",
       "      <td>-0.057954</td>\n",
       "      <td>0.894297</td>\n",
       "      <td>0.899640</td>\n",
       "      <td>0.740404</td>\n",
       "    </tr>\n",
       "    <tr>\n",
       "      <th>day</th>\n",
       "      <td>0.212029</td>\n",
       "      <td>0.247619</td>\n",
       "      <td>1.000000</td>\n",
       "      <td>-0.002981</td>\n",
       "      <td>-0.169356</td>\n",
       "      <td>-0.169347</td>\n",
       "      <td>-0.054956</td>\n",
       "      <td>0.264348</td>\n",
       "      <td>0.256608</td>\n",
       "      <td>0.584482</td>\n",
       "    </tr>\n",
       "    <tr>\n",
       "      <th>prcp_1_ss</th>\n",
       "      <td>0.094442</td>\n",
       "      <td>0.161162</td>\n",
       "      <td>-0.002981</td>\n",
       "      <td>1.000000</td>\n",
       "      <td>0.138121</td>\n",
       "      <td>0.283237</td>\n",
       "      <td>0.018398</td>\n",
       "      <td>0.085737</td>\n",
       "      <td>0.089076</td>\n",
       "      <td>0.037471</td>\n",
       "    </tr>\n",
       "    <tr>\n",
       "      <th>awnd_1_ss</th>\n",
       "      <td>-0.320971</td>\n",
       "      <td>-0.287684</td>\n",
       "      <td>-0.169356</td>\n",
       "      <td>0.138121</td>\n",
       "      <td>1.000000</td>\n",
       "      <td>0.811424</td>\n",
       "      <td>0.186920</td>\n",
       "      <td>-0.360413</td>\n",
       "      <td>-0.354998</td>\n",
       "      <td>-0.390307</td>\n",
       "    </tr>\n",
       "    <tr>\n",
       "      <th>wsf2_1_ss</th>\n",
       "      <td>-0.155807</td>\n",
       "      <td>-0.150135</td>\n",
       "      <td>-0.169347</td>\n",
       "      <td>0.283237</td>\n",
       "      <td>0.811424</td>\n",
       "      <td>1.000000</td>\n",
       "      <td>0.276150</td>\n",
       "      <td>-0.202888</td>\n",
       "      <td>-0.195812</td>\n",
       "      <td>-0.283044</td>\n",
       "    </tr>\n",
       "    <tr>\n",
       "      <th>wdf2_1_ss</th>\n",
       "      <td>-0.086844</td>\n",
       "      <td>-0.057954</td>\n",
       "      <td>-0.054956</td>\n",
       "      <td>0.018398</td>\n",
       "      <td>0.186920</td>\n",
       "      <td>0.276150</td>\n",
       "      <td>1.000000</td>\n",
       "      <td>-0.064192</td>\n",
       "      <td>-0.062457</td>\n",
       "      <td>-0.061029</td>\n",
       "    </tr>\n",
       "    <tr>\n",
       "      <th>tmax_mm_7_ss</th>\n",
       "      <td>0.902605</td>\n",
       "      <td>0.894297</td>\n",
       "      <td>0.264348</td>\n",
       "      <td>0.085737</td>\n",
       "      <td>-0.360413</td>\n",
       "      <td>-0.202888</td>\n",
       "      <td>-0.064192</td>\n",
       "      <td>1.000000</td>\n",
       "      <td>0.997011</td>\n",
       "      <td>0.809050</td>\n",
       "    </tr>\n",
       "    <tr>\n",
       "      <th>tmax_mm_6_ss</th>\n",
       "      <td>0.909703</td>\n",
       "      <td>0.899640</td>\n",
       "      <td>0.256608</td>\n",
       "      <td>0.089076</td>\n",
       "      <td>-0.354998</td>\n",
       "      <td>-0.195812</td>\n",
       "      <td>-0.062457</td>\n",
       "      <td>0.997011</td>\n",
       "      <td>1.000000</td>\n",
       "      <td>0.799521</td>\n",
       "    </tr>\n",
       "    <tr>\n",
       "      <th>tmax_mensual_ss</th>\n",
       "      <td>0.722713</td>\n",
       "      <td>0.740404</td>\n",
       "      <td>0.584482</td>\n",
       "      <td>0.037471</td>\n",
       "      <td>-0.390307</td>\n",
       "      <td>-0.283044</td>\n",
       "      <td>-0.061029</td>\n",
       "      <td>0.809050</td>\n",
       "      <td>0.799521</td>\n",
       "      <td>1.000000</td>\n",
       "    </tr>\n",
       "  </tbody>\n",
       "</table>\n",
       "</div>"
      ],
      "text/plain": [
       "                 tmax_1_ss  tmin_1_ss       day  prcp_1_ss  awnd_1_ss  \\\n",
       "tmax_1_ss         1.000000   0.927632  0.212029   0.094442  -0.320971   \n",
       "tmin_1_ss         0.927632   1.000000  0.247619   0.161162  -0.287684   \n",
       "day               0.212029   0.247619  1.000000  -0.002981  -0.169356   \n",
       "prcp_1_ss         0.094442   0.161162 -0.002981   1.000000   0.138121   \n",
       "awnd_1_ss        -0.320971  -0.287684 -0.169356   0.138121   1.000000   \n",
       "wsf2_1_ss        -0.155807  -0.150135 -0.169347   0.283237   0.811424   \n",
       "wdf2_1_ss        -0.086844  -0.057954 -0.054956   0.018398   0.186920   \n",
       "tmax_mm_7_ss      0.902605   0.894297  0.264348   0.085737  -0.360413   \n",
       "tmax_mm_6_ss      0.909703   0.899640  0.256608   0.089076  -0.354998   \n",
       "tmax_mensual_ss   0.722713   0.740404  0.584482   0.037471  -0.390307   \n",
       "\n",
       "                 wsf2_1_ss  wdf2_1_ss  tmax_mm_7_ss  tmax_mm_6_ss  \\\n",
       "tmax_1_ss        -0.155807  -0.086844      0.902605      0.909703   \n",
       "tmin_1_ss        -0.150135  -0.057954      0.894297      0.899640   \n",
       "day              -0.169347  -0.054956      0.264348      0.256608   \n",
       "prcp_1_ss         0.283237   0.018398      0.085737      0.089076   \n",
       "awnd_1_ss         0.811424   0.186920     -0.360413     -0.354998   \n",
       "wsf2_1_ss         1.000000   0.276150     -0.202888     -0.195812   \n",
       "wdf2_1_ss         0.276150   1.000000     -0.064192     -0.062457   \n",
       "tmax_mm_7_ss     -0.202888  -0.064192      1.000000      0.997011   \n",
       "tmax_mm_6_ss     -0.195812  -0.062457      0.997011      1.000000   \n",
       "tmax_mensual_ss  -0.283044  -0.061029      0.809050      0.799521   \n",
       "\n",
       "                 tmax_mensual_ss  \n",
       "tmax_1_ss               0.722713  \n",
       "tmin_1_ss               0.740404  \n",
       "day                     0.584482  \n",
       "prcp_1_ss               0.037471  \n",
       "awnd_1_ss              -0.390307  \n",
       "wsf2_1_ss              -0.283044  \n",
       "wdf2_1_ss              -0.061029  \n",
       "tmax_mm_7_ss            0.809050  \n",
       "tmax_mm_6_ss            0.799521  \n",
       "tmax_mensual_ss         1.000000  "
      ]
     },
     "execution_count": 102,
     "metadata": {},
     "output_type": "execute_result"
    }
   ],
   "source": [
    "x_per.iloc[:,:10].corr()"
   ]
  },
  {
   "cell_type": "code",
   "execution_count": 91,
   "id": "c8efbcc1",
   "metadata": {},
   "outputs": [
    {
     "name": "stdout",
     "output_type": "stream",
     "text": [
      "year : 0.01\n",
      "month : 0.22\n",
      "day : 0.21\n",
      "awnd_1_ss : -0.32\n",
      "awnd_4_ss : -0.39\n",
      "awnd_5_ss : -0.37\n",
      "awnd_6_ss : -0.36\n",
      "awnd_7_ss : -0.35\n",
      "prcp_1_ss : 0.09\n",
      "prcp_2_ss : 0.01\n",
      "prcp_3_ss : -0.0\n",
      "prcp_4_ss : 0.02\n",
      "prcp_5_ss : 0.03\n",
      "prcp_6_ss : 0.04\n",
      "prcp_7_ss : 0.05\n",
      "wdf2_1_ss : -0.09\n",
      "wdf2_2_ss : -0.15\n",
      "wdf2_3_ss : -0.09\n",
      "wdf2_4_ss : -0.08\n",
      "wdf2_5_ss : -0.08\n",
      "wdf2_6_ss : -0.06\n",
      "wdf2_7_ss : -0.06\n",
      "wdf5_1_ss : -0.08\n",
      "wdf5_2_ss : -0.14\n",
      "wdf5_3_ss : -0.09\n",
      "wdf5_4_ss : -0.07\n",
      "wdf5_5_ss : -0.07\n",
      "wdf5_6_ss : -0.06\n",
      "wdf5_7_ss : -0.06\n",
      "wsf2_1_ss : -0.16\n",
      "wsf2_2_ss : -0.32\n",
      "wsf2_3_ss : -0.3\n",
      "wsf2_4_ss : -0.26\n",
      "wsf2_5_ss : -0.24\n",
      "wsf2_6_ss : -0.22\n",
      "wsf2_7_ss : -0.21\n",
      "wsf5_1_ss : -0.11\n",
      "wsf5_2_ss : -0.27\n",
      "wsf5_3_ss : -0.26\n",
      "wsf5_4_ss : -0.22\n",
      "wsf5_5_ss : -0.2\n",
      "wsf5_6_ss : -0.18\n",
      "wsf5_7_ss : -0.17\n"
     ]
    }
   ],
   "source": [
    "for c in df.columns.tolist():\n",
    "    valor = round(df.corr()['tmax_1_ss'][c],2)\n",
    "    if abs(valor) <0.4:\n",
    "        print(f\"{c} : {round(df.corr()['tmax_1_ss'][c],2)}\" )"
   ]
  },
  {
   "cell_type": "code",
   "execution_count": 66,
   "id": "0a0fe296",
   "metadata": {},
   "outputs": [
    {
     "name": "stdout",
     "output_type": "stream",
     "text": [
      "<class 'pandas.core.frame.DataFrame'>\n",
      "DatetimeIndex: 8665 entries, 1998-04-04 to 2021-12-31\n",
      "Data columns (total 40 columns):\n",
      " #   Column           Non-Null Count  Dtype  \n",
      "---  ------           --------------  -----  \n",
      " 0   tmax_1_ss        8665 non-null   float64\n",
      " 1   tmin_1_ss        8665 non-null   float64\n",
      " 2   day              8665 non-null   int64  \n",
      " 3   prcp_1_ss        8665 non-null   float64\n",
      " 4   awnd_1_ss        8665 non-null   float64\n",
      " 5   wsf2_1_ss        8665 non-null   float64\n",
      " 6   wdf2_1_ss        8665 non-null   float64\n",
      " 7   tmax_mm_7_ss     8665 non-null   float64\n",
      " 8   tmax_mm_6_ss     8665 non-null   float64\n",
      " 9   tmax_mensual_ss  8665 non-null   float64\n",
      " 10  tmin_2_ss        8665 non-null   float64\n",
      " 11  wdf5_1_ss        8665 non-null   float64\n",
      " 12  awnd_2_ss        8665 non-null   float64\n",
      " 13  tmax_2_ss        8665 non-null   float64\n",
      " 14  tmin_4_ss        8665 non-null   float64\n",
      " 15  tmax_5_ss        8665 non-null   float64\n",
      " 16  tmin_7_ss        8665 non-null   float64\n",
      " 17  tmax_mm_3_ss     8665 non-null   float64\n",
      " 18  awnd_7_ss        8665 non-null   float64\n",
      " 19  wdf2_2_ss        8665 non-null   float64\n",
      " 20  tmin_3_ss        8665 non-null   float64\n",
      " 21  tmax_minm_2_ss   8665 non-null   float64\n",
      " 22  wsf5_1_ss        8665 non-null   float64\n",
      " 23  awnd_4_ss        8665 non-null   float64\n",
      " 24  tmax_6_ss        8665 non-null   float64\n",
      " 25  tmin_6_ss        8665 non-null   float64\n",
      " 26  tmax_mm_5_ss     8665 non-null   float64\n",
      " 27  awnd_5_ss        8665 non-null   float64\n",
      " 28  tmax_4_ss        8665 non-null   float64\n",
      " 29  awnd_3_ss        8665 non-null   float64\n",
      " 30  wdf5_2_ss        8665 non-null   float64\n",
      " 31  tmax_mm_2_ss     8665 non-null   float64\n",
      " 32  wsf2_3_ss        8665 non-null   float64\n",
      " 33  tmax_maxm_5_ss   8665 non-null   float64\n",
      " 34  tmin_5_ss        8665 non-null   float64\n",
      " 35  wsf2_2_ss        8665 non-null   float64\n",
      " 36  awnd_6_ss        8665 non-null   float64\n",
      " 37  wdf5_7_ss        8665 non-null   float64\n",
      " 38  tmax_3_ss        8665 non-null   float64\n",
      " 39  year             8665 non-null   int64  \n",
      "dtypes: float64(38), int64(2)\n",
      "memory usage: 2.7 MB\n"
     ]
    }
   ],
   "source": [
    "x_per.info()"
   ]
  },
  {
   "cell_type": "markdown",
   "id": "9790d322",
   "metadata": {},
   "source": [
    "## MÉTODOS SUPERVISADOS"
   ]
  },
  {
   "cell_type": "markdown",
   "id": "f1fa5201",
   "metadata": {},
   "source": [
    "### Preparar x e y"
   ]
  },
  {
   "cell_type": "code",
   "execution_count": 16,
   "id": "71f5e056",
   "metadata": {},
   "outputs": [],
   "source": [
    "target = 'target'\n",
    "x = df.drop(columns = target).copy()\n",
    "y =  df[target].copy()"
   ]
  },
  {
   "cell_type": "markdown",
   "id": "80356ca1",
   "metadata": {},
   "source": [
    "### Mutual Information"
   ]
  },
  {
   "cell_type": "markdown",
   "id": "b54a5fcd",
   "metadata": {},
   "source": [
    "#### Crear una función para mostrar el resultado"
   ]
  },
  {
   "cell_type": "code",
   "execution_count": 17,
   "id": "02607b69",
   "metadata": {},
   "outputs": [],
   "source": [
    "def ranking_mi(mutual_selector, modo = 'tabla'):\n",
    "    #Maqueta el ranking\n",
    "    ranking_mi = pd.DataFrame(mutual_selector, index = x.columns).reset_index()\n",
    "    ranking_mi.columns = ['variable','importancia_mi']\n",
    "    ranking_mi = ranking_mi.sort_values(by = 'importancia_mi', ascending = False)\n",
    "    ranking_mi['ranking_mi'] = np.arange(0,ranking_mi.shape[0])\n",
    "    #Muestra la salida\n",
    "    if modo == 'tabla':\n",
    "        return(ranking_mi)\n",
    "    else:\n",
    "        g = ranking_mi.importancia_mi.sort_values().plot.barh(figsize = (12,20))\n",
    "        g.set_yticklabels(ranking_mi.sort_values(by = 'importancia_mi').variable)\n",
    "        return(g)"
   ]
  },
  {
   "cell_type": "markdown",
   "id": "3de36320",
   "metadata": {},
   "source": [
    "#### Calcular y revisar"
   ]
  },
  {
   "cell_type": "code",
   "execution_count": 18,
   "id": "9bd19c38",
   "metadata": {},
   "outputs": [
    {
     "data": {
      "image/png": "[encoded data removed]",
      "text/plain": [
       "<Figure size 864x1440 with 1 Axes>"
      ]
     },
     "metadata": {
      "needs_background": "light"
     },
     "output_type": "display_data"
    }
   ],
   "source": [
    "mutual_selector = mutual_info_regression(x,y)\n",
    "\n",
    "rank_mi = ranking_mi(mutual_selector, modo = 'grafico')"
   ]
  },
  {
   "cell_type": "code",
   "execution_count": null,
   "id": "ac73b5c3",
   "metadata": {},
   "outputs": [],
   "source": [
    "rank_mi = ranking_mi(mutual_selector)"
   ]
  },
  {
   "cell_type": "code",
   "execution_count": 27,
   "id": "7af43c79",
   "metadata": {},
   "outputs": [
    {
     "data": {
      "text/plain": [
       "['tmax_1_ss',\n",
       " 'tmax_mm_2_ss',\n",
       " 'tmax_minm_2_ss',\n",
       " 'tmax_maxm_2_ss',\n",
       " 'tmax_mm_3_ss',\n",
       " 'tmax_minm_3_ss',\n",
       " 'tmax_mm_4_ss',\n",
       " 'tmin_1_ss',\n",
       " 'tmax_maxm_3_ss',\n",
       " 'tmax_minm_4_ss',\n",
       " 'tmax_mm_5_ss',\n",
       " 'tmax_minm_5_ss',\n",
       " 'tmax_mm_6_ss',\n",
       " 'tmax_mm_7_ss',\n",
       " 'day',\n",
       " 'tmax_minm_6_ss',\n",
       " 'tmax_minm_7_ss',\n",
       " 'tmax_maxm_4_ss',\n",
       " 'tmax_maxm_5_ss',\n",
       " 'tmax_maxm_6_ss',\n",
       " 'tmax_maxm_7_ss',\n",
       " 'month',\n",
       " 'tmax_2_ss',\n",
       " 'tmin_2_ss',\n",
       " 'tmax_3_ss',\n",
       " 'tmax_mensual_ss',\n",
       " 'tmax_4_ss',\n",
       " 'tmin_3_ss',\n",
       " 'tmax_5_ss',\n",
       " 'tmin_5_ss',\n",
       " 'tmin_4_ss',\n",
       " 'tmax_6_ss',\n",
       " 'tmin_6_ss',\n",
       " 'tmax_7_ss',\n",
       " 'tmin_7_ss',\n",
       " 'awnd_1_ss',\n",
       " 'awnd_2_ss',\n",
       " 'awnd_3_ss',\n",
       " 'awnd_5_ss',\n",
       " 'awnd_4_ss',\n",
       " 'wsf2_1_ss',\n",
       " 'awnd_7_ss',\n",
       " 'awnd_6_ss',\n",
       " 'wsf2_2_ss',\n",
       " 'wsf5_2_ss',\n",
       " 'wsf5_1_ss',\n",
       " 'wsf2_3_ss',\n",
       " 'wdf5_1_ss',\n",
       " 'wdf2_1_ss',\n",
       " 'wsf2_4_ss',\n",
       " 'wsf5_6_ss',\n",
       " 'wdf2_6_ss',\n",
       " 'wdf2_5_ss',\n",
       " 'wsf2_7_ss',\n",
       " 'wsf2_5_ss',\n",
       " 'wsf5_3_ss',\n",
       " 'wdf5_5_ss',\n",
       " 'wdf5_6_ss',\n",
       " 'wdf2_4_ss',\n",
       " 'wdf2_7_ss',\n",
       " 'wsf2_6_ss',\n",
       " 'wsf5_4_ss',\n",
       " 'wdf5_2_ss',\n",
       " 'prcp_1_ss',\n",
       " 'wdf2_2_ss',\n",
       " 'wdf5_3_ss',\n",
       " 'year',\n",
       " 'wdf5_7_ss',\n",
       " 'wdf2_3_ss',\n",
       " 'prcp_2_ss',\n",
       " 'wsf5_7_ss',\n",
       " 'wsf5_5_ss',\n",
       " 'wdf5_4_ss',\n",
       " 'prcp_5_ss',\n",
       " 'prcp_6_ss',\n",
       " 'prcp_7_ss',\n",
       " 'prcp_4_ss',\n",
       " 'prcp_3_ss']"
      ]
     },
     "execution_count": 27,
     "metadata": {},
     "output_type": "execute_result"
    }
   ],
   "source": [
    "rank_mi.variable.tolist()"
   ]
  },
  {
   "cell_type": "markdown",
   "id": "ce5df9e6",
   "metadata": {},
   "source": [
    "#### Seleccionar las variables que pasan"
   ]
  },
  {
   "cell_type": "markdown",
   "id": "4b0676e3",
   "metadata": {},
   "source": [
    "##### Definir la posición de la última variable que va a entrar"
   ]
  },
  {
   "cell_type": "code",
   "execution_count": 39,
   "id": "811cb8b4",
   "metadata": {},
   "outputs": [],
   "source": [
    "posicion_variable_limite = 40"
   ]
  },
  {
   "cell_type": "markdown",
   "id": "8d1250a9",
   "metadata": {},
   "source": [
    "##### Extraer los nombres de las que entran"
   ]
  },
  {
   "cell_type": "code",
   "execution_count": 40,
   "id": "40183952",
   "metadata": {},
   "outputs": [],
   "source": [
    "entran_mi = ranking_mi(mutual_selector).iloc[0:posicion_variable_limite].variable"
   ]
  },
  {
   "cell_type": "markdown",
   "id": "96d5e3c2",
   "metadata": {},
   "source": [
    "##### Crear el dataframe con la selección"
   ]
  },
  {
   "cell_type": "code",
   "execution_count": 41,
   "id": "8bae3be8",
   "metadata": {},
   "outputs": [],
   "source": [
    "x_mi = x[entran_mi].copy()"
   ]
  },
  {
   "cell_type": "markdown",
   "id": "81764cb5",
   "metadata": {},
   "source": [
    "### Recursive Feature Elimination"
   ]
  },
  {
   "cell_type": "markdown",
   "id": "d14432f9",
   "metadata": {},
   "source": [
    "#### Instanciar"
   ]
  },
  {
   "cell_type": "code",
   "execution_count": 24,
   "id": "3df12ccf",
   "metadata": {},
   "outputs": [],
   "source": [
    "rfe = RFE(estimator = XGBRegressor( n_jobs = -1))"
   ]
  },
  {
   "cell_type": "markdown",
   "id": "0d2b1306",
   "metadata": {},
   "source": [
    "#### Entrenar"
   ]
  },
  {
   "cell_type": "code",
   "execution_count": 25,
   "id": "c85b9d2f",
   "metadata": {},
   "outputs": [
    {
     "data": {
      "text/plain": [
       "RFE(estimator=XGBRegressor(base_score=None, booster=None,\n",
       "                           colsample_bylevel=None, colsample_bynode=None,\n",
       "                           colsample_bytree=None, enable_categorical=False,\n",
       "                           gamma=None, gpu_id=None, importance_type=None,\n",
       "                           interaction_constraints=None, learning_rate=None,\n",
       "                           max_delta_step=None, max_depth=None,\n",
       "                           min_child_weight=None, missing=nan,\n",
       "                           monotone_constraints=None, n_estimators=100,\n",
       "                           n_jobs=-1, num_parallel_tree=None, predictor=None,\n",
       "                           random_state=None, reg_alpha=None, reg_lambda=None,\n",
       "                           scale_pos_weight=None, subsample=None,\n",
       "                           tree_method=None, validate_parameters=None,\n",
       "                           verbosity=None))"
      ]
     },
     "execution_count": 25,
     "metadata": {},
     "output_type": "execute_result"
    }
   ],
   "source": [
    "rfe.fit(x,y)"
   ]
  },
  {
   "cell_type": "markdown",
   "id": "966ffea8",
   "metadata": {},
   "source": [
    "##### Extraer los nombres de las que entran"
   ]
  },
  {
   "cell_type": "code",
   "execution_count": 28,
   "id": "cb91f9ee",
   "metadata": {},
   "outputs": [],
   "source": [
    "entran_rfe = x.columns[rfe.support_]"
   ]
  },
  {
   "cell_type": "markdown",
   "id": "29e5e5bb",
   "metadata": {},
   "source": [
    "#### Crear el dataframe con la selección"
   ]
  },
  {
   "cell_type": "code",
   "execution_count": 29,
   "id": "947dc528",
   "metadata": {},
   "outputs": [],
   "source": [
    "x_rfe = x[entran_rfe].copy()"
   ]
  },
  {
   "cell_type": "code",
   "execution_count": 30,
   "id": "4f7d7055",
   "metadata": {},
   "outputs": [
    {
     "data": {
      "text/plain": [
       "(8665, 39)"
      ]
     },
     "execution_count": 30,
     "metadata": {},
     "output_type": "execute_result"
    }
   ],
   "source": [
    "x_rfe.shape"
   ]
  },
  {
   "cell_type": "code",
   "execution_count": 32,
   "id": "128c35c4",
   "metadata": {},
   "outputs": [
    {
     "data": {
      "text/plain": [
       "Index(['day', 'awnd_1_ss', 'awnd_2_ss', 'prcp_1_ss', 'tmin_1_ss', 'tmin_4_ss',\n",
       "       'tmin_7_ss', 'wdf2_1_ss', 'wdf2_2_ss', 'wdf5_1_ss', 'wdf5_2_ss',\n",
       "       'wdf5_5_ss', 'wsf2_1_ss', 'wsf2_2_ss', 'wsf5_1_ss', 'wsf5_2_ss',\n",
       "       'wsf5_6_ss', 'wsf5_7_ss', 'tmax_1_ss', 'tmax_2_ss', 'tmax_4_ss',\n",
       "       'tmax_5_ss', 'tmax_6_ss', 'tmax_7_ss', 'tmax_maxm_2_ss',\n",
       "       'tmax_maxm_3_ss', 'tmax_maxm_4_ss', 'tmax_maxm_5_ss', 'tmax_maxm_6_ss',\n",
       "       'tmax_maxm_7_ss', 'tmax_minm_2_ss', 'tmax_minm_4_ss', 'tmax_minm_5_ss',\n",
       "       'tmax_minm_7_ss', 'tmax_mm_3_ss', 'tmax_mm_4_ss', 'tmax_mm_5_ss',\n",
       "       'tmax_mm_6_ss', 'tmax_mm_7_ss'],\n",
       "      dtype='object')"
      ]
     },
     "execution_count": 32,
     "metadata": {},
     "output_type": "execute_result"
    }
   ],
   "source": [
    "entran_rfe"
   ]
  },
  {
   "cell_type": "code",
   "execution_count": 31,
   "id": "eefb7d13",
   "metadata": {},
   "outputs": [
    {
     "name": "stdout",
     "output_type": "stream",
     "text": [
      "<class 'pandas.core.frame.DataFrame'>\n",
      "DatetimeIndex: 8665 entries, 1998-04-04 to 2021-12-31\n",
      "Data columns (total 39 columns):\n",
      " #   Column          Non-Null Count  Dtype  \n",
      "---  ------          --------------  -----  \n",
      " 0   day             8665 non-null   int64  \n",
      " 1   awnd_1_ss       8665 non-null   float64\n",
      " 2   awnd_2_ss       8665 non-null   float64\n",
      " 3   prcp_1_ss       8665 non-null   float64\n",
      " 4   tmin_1_ss       8665 non-null   float64\n",
      " 5   tmin_4_ss       8665 non-null   float64\n",
      " 6   tmin_7_ss       8665 non-null   float64\n",
      " 7   wdf2_1_ss       8665 non-null   float64\n",
      " 8   wdf2_2_ss       8665 non-null   float64\n",
      " 9   wdf5_1_ss       8665 non-null   float64\n",
      " 10  wdf5_2_ss       8665 non-null   float64\n",
      " 11  wdf5_5_ss       8665 non-null   float64\n",
      " 12  wsf2_1_ss       8665 non-null   float64\n",
      " 13  wsf2_2_ss       8665 non-null   float64\n",
      " 14  wsf5_1_ss       8665 non-null   float64\n",
      " 15  wsf5_2_ss       8665 non-null   float64\n",
      " 16  wsf5_6_ss       8665 non-null   float64\n",
      " 17  wsf5_7_ss       8665 non-null   float64\n",
      " 18  tmax_1_ss       8665 non-null   float64\n",
      " 19  tmax_2_ss       8665 non-null   float64\n",
      " 20  tmax_4_ss       8665 non-null   float64\n",
      " 21  tmax_5_ss       8665 non-null   float64\n",
      " 22  tmax_6_ss       8665 non-null   float64\n",
      " 23  tmax_7_ss       8665 non-null   float64\n",
      " 24  tmax_maxm_2_ss  8665 non-null   float64\n",
      " 25  tmax_maxm_3_ss  8665 non-null   float64\n",
      " 26  tmax_maxm_4_ss  8665 non-null   float64\n",
      " 27  tmax_maxm_5_ss  8665 non-null   float64\n",
      " 28  tmax_maxm_6_ss  8665 non-null   float64\n",
      " 29  tmax_maxm_7_ss  8665 non-null   float64\n",
      " 30  tmax_minm_2_ss  8665 non-null   float64\n",
      " 31  tmax_minm_4_ss  8665 non-null   float64\n",
      " 32  tmax_minm_5_ss  8665 non-null   float64\n",
      " 33  tmax_minm_7_ss  8665 non-null   float64\n",
      " 34  tmax_mm_3_ss    8665 non-null   float64\n",
      " 35  tmax_mm_4_ss    8665 non-null   float64\n",
      " 36  tmax_mm_5_ss    8665 non-null   float64\n",
      " 37  tmax_mm_6_ss    8665 non-null   float64\n",
      " 38  tmax_mm_7_ss    8665 non-null   float64\n",
      "dtypes: float64(38), int64(1)\n",
      "memory usage: 2.6 MB\n"
     ]
    }
   ],
   "source": [
    "x_rfe.info()"
   ]
  },
  {
   "cell_type": "markdown",
   "id": "3ebdee99",
   "metadata": {},
   "source": [
    "### Permutation Importance"
   ]
  },
  {
   "cell_type": "markdown",
   "id": "ce1f6aea",
   "metadata": {},
   "source": [
    "#### Crear una función para mostrar el resultado"
   ]
  },
  {
   "cell_type": "code",
   "execution_count": 33,
   "id": "0b598224",
   "metadata": {},
   "outputs": [],
   "source": [
    "def ranking_per(predictoras,permutacion):\n",
    "    ranking_per = pd.DataFrame({'variable': predictoras.columns, 'importancia_per': permutacion.importances_mean}).sort_values(by = 'importancia_per', ascending = False)\n",
    "    ranking_per['ranking_per'] = np.arange(0,ranking_per.shape[0])\n",
    "    return(ranking_per)"
   ]
  },
  {
   "cell_type": "markdown",
   "id": "18b55e50",
   "metadata": {},
   "source": [
    "#### Instanciar y entrenar"
   ]
  },
  {
   "cell_type": "code",
   "execution_count": 35,
   "id": "f72dac04",
   "metadata": {},
   "outputs": [
    {
     "name": "stderr",
     "output_type": "stream",
     "text": [
      "C:\\Users\\acrespod\\Anaconda3\\lib\\site-packages\\xgboost\\data.py:250: FutureWarning: pandas.Int64Index is deprecated and will be removed from pandas in a future version. Use pandas.Index with the appropriate dtype instead.\n",
      "  elif isinstance(data.columns, (pd.Int64Index, pd.RangeIndex)):\n"
     ]
    }
   ],
   "source": [
    "import warnings\n",
    "warnings.filterwarnings(action=\"ignore\", message=r'.*Use subset.*of np.ndarray is not recommended')\n",
    "\n",
    "xgb = XGBRegressor( n_jobs = -1)\n",
    "\n",
    "xgb.fit(x,y)\n",
    "\n",
    "permutacion = permutation_importance(xgb, \n",
    "                                     x, y, \n",
    "                                     \n",
    "                                     n_repeats=5, n_jobs = -1)"
   ]
  },
  {
   "cell_type": "markdown",
   "id": "b26d81b6",
   "metadata": {},
   "source": [
    "#### Revisar la salida"
   ]
  },
  {
   "cell_type": "code",
   "execution_count": 36,
   "id": "e9cbce90",
   "metadata": {},
   "outputs": [
    {
     "data": {
      "image/png": "[encoded data removed]",
      "text/plain": [
       "<Figure size 864x1440 with 1 Axes>"
      ]
     },
     "metadata": {
      "needs_background": "light"
     },
     "output_type": "display_data"
    }
   ],
   "source": [
    "rank_per = ranking_per(x,permutacion)\n",
    "\n",
    "rank_per.set_index('variable').importancia_per.sort_values().plot.barh(figsize = (12,20));"
   ]
  },
  {
   "cell_type": "code",
   "execution_count": 38,
   "id": "82b759e9",
   "metadata": {},
   "outputs": [
    {
     "data": {
      "text/html": [
       "<div>\n",
       "<style scoped>\n",
       "    .dataframe tbody tr th:only-of-type {\n",
       "        vertical-align: middle;\n",
       "    }\n",
       "\n",
       "    .dataframe tbody tr th {\n",
       "        vertical-align: top;\n",
       "    }\n",
       "\n",
       "    .dataframe thead th {\n",
       "        text-align: right;\n",
       "    }\n",
       "</style>\n",
       "<table border=\"1\" class=\"dataframe\">\n",
       "  <thead>\n",
       "    <tr style=\"text-align: right;\">\n",
       "      <th></th>\n",
       "      <th>variable</th>\n",
       "      <th>importancia_per</th>\n",
       "      <th>ranking_per</th>\n",
       "    </tr>\n",
       "  </thead>\n",
       "  <tbody>\n",
       "    <tr>\n",
       "      <th>53</th>\n",
       "      <td>tmax_1_ss</td>\n",
       "      <td>0.961701</td>\n",
       "      <td>0</td>\n",
       "    </tr>\n",
       "    <tr>\n",
       "      <th>18</th>\n",
       "      <td>tmin_1_ss</td>\n",
       "      <td>0.057416</td>\n",
       "      <td>1</td>\n",
       "    </tr>\n",
       "    <tr>\n",
       "      <th>2</th>\n",
       "      <td>day</td>\n",
       "      <td>0.048818</td>\n",
       "      <td>2</td>\n",
       "    </tr>\n",
       "    <tr>\n",
       "      <th>11</th>\n",
       "      <td>prcp_1_ss</td>\n",
       "      <td>0.019923</td>\n",
       "      <td>3</td>\n",
       "    </tr>\n",
       "    <tr>\n",
       "      <th>4</th>\n",
       "      <td>awnd_1_ss</td>\n",
       "      <td>0.018725</td>\n",
       "      <td>4</td>\n",
       "    </tr>\n",
       "    <tr>\n",
       "      <th>39</th>\n",
       "      <td>wsf2_1_ss</td>\n",
       "      <td>0.018042</td>\n",
       "      <td>5</td>\n",
       "    </tr>\n",
       "    <tr>\n",
       "      <th>25</th>\n",
       "      <td>wdf2_1_ss</td>\n",
       "      <td>0.012808</td>\n",
       "      <td>6</td>\n",
       "    </tr>\n",
       "    <tr>\n",
       "      <th>77</th>\n",
       "      <td>tmax_mm_7_ss</td>\n",
       "      <td>0.011858</td>\n",
       "      <td>7</td>\n",
       "    </tr>\n",
       "    <tr>\n",
       "      <th>76</th>\n",
       "      <td>tmax_mm_6_ss</td>\n",
       "      <td>0.008198</td>\n",
       "      <td>8</td>\n",
       "    </tr>\n",
       "    <tr>\n",
       "      <th>3</th>\n",
       "      <td>tmax_mensual_ss</td>\n",
       "      <td>0.007952</td>\n",
       "      <td>9</td>\n",
       "    </tr>\n",
       "    <tr>\n",
       "      <th>19</th>\n",
       "      <td>tmin_2_ss</td>\n",
       "      <td>0.007751</td>\n",
       "      <td>10</td>\n",
       "    </tr>\n",
       "    <tr>\n",
       "      <th>32</th>\n",
       "      <td>wdf5_1_ss</td>\n",
       "      <td>0.007100</td>\n",
       "      <td>11</td>\n",
       "    </tr>\n",
       "    <tr>\n",
       "      <th>5</th>\n",
       "      <td>awnd_2_ss</td>\n",
       "      <td>0.007068</td>\n",
       "      <td>12</td>\n",
       "    </tr>\n",
       "    <tr>\n",
       "      <th>54</th>\n",
       "      <td>tmax_2_ss</td>\n",
       "      <td>0.006385</td>\n",
       "      <td>13</td>\n",
       "    </tr>\n",
       "    <tr>\n",
       "      <th>21</th>\n",
       "      <td>tmin_4_ss</td>\n",
       "      <td>0.006225</td>\n",
       "      <td>14</td>\n",
       "    </tr>\n",
       "    <tr>\n",
       "      <th>57</th>\n",
       "      <td>tmax_5_ss</td>\n",
       "      <td>0.005480</td>\n",
       "      <td>15</td>\n",
       "    </tr>\n",
       "    <tr>\n",
       "      <th>24</th>\n",
       "      <td>tmin_7_ss</td>\n",
       "      <td>0.005341</td>\n",
       "      <td>16</td>\n",
       "    </tr>\n",
       "    <tr>\n",
       "      <th>73</th>\n",
       "      <td>tmax_mm_3_ss</td>\n",
       "      <td>0.005034</td>\n",
       "      <td>17</td>\n",
       "    </tr>\n",
       "    <tr>\n",
       "      <th>10</th>\n",
       "      <td>awnd_7_ss</td>\n",
       "      <td>0.005020</td>\n",
       "      <td>18</td>\n",
       "    </tr>\n",
       "    <tr>\n",
       "      <th>26</th>\n",
       "      <td>wdf2_2_ss</td>\n",
       "      <td>0.004994</td>\n",
       "      <td>19</td>\n",
       "    </tr>\n",
       "    <tr>\n",
       "      <th>20</th>\n",
       "      <td>tmin_3_ss</td>\n",
       "      <td>0.004801</td>\n",
       "      <td>20</td>\n",
       "    </tr>\n",
       "    <tr>\n",
       "      <th>66</th>\n",
       "      <td>tmax_minm_2_ss</td>\n",
       "      <td>0.004442</td>\n",
       "      <td>21</td>\n",
       "    </tr>\n",
       "    <tr>\n",
       "      <th>46</th>\n",
       "      <td>wsf5_1_ss</td>\n",
       "      <td>0.004039</td>\n",
       "      <td>22</td>\n",
       "    </tr>\n",
       "    <tr>\n",
       "      <th>7</th>\n",
       "      <td>awnd_4_ss</td>\n",
       "      <td>0.003975</td>\n",
       "      <td>23</td>\n",
       "    </tr>\n",
       "    <tr>\n",
       "      <th>58</th>\n",
       "      <td>tmax_6_ss</td>\n",
       "      <td>0.003901</td>\n",
       "      <td>24</td>\n",
       "    </tr>\n",
       "    <tr>\n",
       "      <th>23</th>\n",
       "      <td>tmin_6_ss</td>\n",
       "      <td>0.003841</td>\n",
       "      <td>25</td>\n",
       "    </tr>\n",
       "    <tr>\n",
       "      <th>75</th>\n",
       "      <td>tmax_mm_5_ss</td>\n",
       "      <td>0.003563</td>\n",
       "      <td>26</td>\n",
       "    </tr>\n",
       "    <tr>\n",
       "      <th>8</th>\n",
       "      <td>awnd_5_ss</td>\n",
       "      <td>0.003541</td>\n",
       "      <td>27</td>\n",
       "    </tr>\n",
       "    <tr>\n",
       "      <th>56</th>\n",
       "      <td>tmax_4_ss</td>\n",
       "      <td>0.003486</td>\n",
       "      <td>28</td>\n",
       "    </tr>\n",
       "    <tr>\n",
       "      <th>6</th>\n",
       "      <td>awnd_3_ss</td>\n",
       "      <td>0.003453</td>\n",
       "      <td>29</td>\n",
       "    </tr>\n",
       "  </tbody>\n",
       "</table>\n",
       "</div>"
      ],
      "text/plain": [
       "           variable  importancia_per  ranking_per\n",
       "53        tmax_1_ss         0.961701            0\n",
       "18        tmin_1_ss         0.057416            1\n",
       "2               day         0.048818            2\n",
       "11        prcp_1_ss         0.019923            3\n",
       "4         awnd_1_ss         0.018725            4\n",
       "39        wsf2_1_ss         0.018042            5\n",
       "25        wdf2_1_ss         0.012808            6\n",
       "77     tmax_mm_7_ss         0.011858            7\n",
       "76     tmax_mm_6_ss         0.008198            8\n",
       "3   tmax_mensual_ss         0.007952            9\n",
       "19        tmin_2_ss         0.007751           10\n",
       "32        wdf5_1_ss         0.007100           11\n",
       "5         awnd_2_ss         0.007068           12\n",
       "54        tmax_2_ss         0.006385           13\n",
       "21        tmin_4_ss         0.006225           14\n",
       "57        tmax_5_ss         0.005480           15\n",
       "24        tmin_7_ss         0.005341           16\n",
       "73     tmax_mm_3_ss         0.005034           17\n",
       "10        awnd_7_ss         0.005020           18\n",
       "26        wdf2_2_ss         0.004994           19\n",
       "20        tmin_3_ss         0.004801           20\n",
       "66   tmax_minm_2_ss         0.004442           21\n",
       "46        wsf5_1_ss         0.004039           22\n",
       "7         awnd_4_ss         0.003975           23\n",
       "58        tmax_6_ss         0.003901           24\n",
       "23        tmin_6_ss         0.003841           25\n",
       "75     tmax_mm_5_ss         0.003563           26\n",
       "8         awnd_5_ss         0.003541           27\n",
       "56        tmax_4_ss         0.003486           28\n",
       "6         awnd_3_ss         0.003453           29"
      ]
     },
     "execution_count": 38,
     "metadata": {},
     "output_type": "execute_result"
    }
   ],
   "source": [
    "rank_per.head(30)"
   ]
  },
  {
   "cell_type": "markdown",
   "id": "a7c756cc",
   "metadata": {},
   "source": [
    "#### Seleccionar las variables que pasan"
   ]
  },
  {
   "cell_type": "markdown",
   "id": "0e6a96f2",
   "metadata": {},
   "source": [
    "##### Definir la posición de la última variable que va a entrar"
   ]
  },
  {
   "cell_type": "code",
   "execution_count": 103,
   "id": "5b034a55",
   "metadata": {},
   "outputs": [],
   "source": [
    "posicion_variable_limite = 10"
   ]
  },
  {
   "cell_type": "markdown",
   "id": "7ae0d63a",
   "metadata": {},
   "source": [
    "##### Extraer los nombres de las que entran"
   ]
  },
  {
   "cell_type": "code",
   "execution_count": 104,
   "id": "b1b860a1",
   "metadata": {},
   "outputs": [],
   "source": [
    "entran_per = rank_per.iloc[0:posicion_variable_limite].variable"
   ]
  },
  {
   "cell_type": "markdown",
   "id": "b522076c",
   "metadata": {},
   "source": [
    "##### Crear el dataframe con la selección"
   ]
  },
  {
   "cell_type": "code",
   "execution_count": 105,
   "id": "ae2a4404",
   "metadata": {},
   "outputs": [],
   "source": [
    "x_per = x[entran_per].copy()"
   ]
  },
  {
   "cell_type": "markdown",
   "id": "b332a368",
   "metadata": {},
   "source": [
    "## SELECCIONAR EL MÉTODO FINAL"
   ]
  },
  {
   "cell_type": "markdown",
   "id": "7656ba95",
   "metadata": {},
   "source": [
    "Descomentar el método de preselección elegido y dejar comentados el resto."
   ]
  },
  {
   "cell_type": "code",
   "execution_count": 106,
   "id": "0748834c",
   "metadata": {},
   "outputs": [],
   "source": [
    "# x_preseleccionado = x_mi\n",
    "# x_preseleccionado = x_rfe\n",
    "x_preseleccionado = x_per"
   ]
  },
  {
   "cell_type": "markdown",
   "id": "f1d963a6",
   "metadata": {},
   "source": [
    "## MÉTODOS NO SUPERVISADOS"
   ]
  },
  {
   "cell_type": "markdown",
   "id": "34b364e9",
   "metadata": {},
   "source": [
    "### Correlación"
   ]
  },
  {
   "cell_type": "markdown",
   "id": "7a658fbc",
   "metadata": {},
   "source": [
    "#### Crear una función para mostrar el resultado"
   ]
  },
  {
   "cell_type": "code",
   "execution_count": 107,
   "id": "bad3c657",
   "metadata": {},
   "outputs": [],
   "source": [
    "def correlaciones_fuertes(df, lim_inf = 0.3, lim_sup = 1,drop_dupli=True):\n",
    "    #Calcula la matriz de correlación\n",
    "    c = df.corr().abs()\n",
    "    #Lo pasa todo a filas\n",
    "    c= c.unstack()\n",
    "    #Pasa el índice a columnas y le pone nombres\n",
    "    c = pd.DataFrame(c).reset_index()\n",
    "    c.columns = ['var1','var2','corr']\n",
    "    #A dataframe, filtra limites y ordena en descendiente\n",
    "    c = c.loc[(c['corr'] > lim_inf) &  (c['corr'] < lim_sup),:].sort_values(by = 'corr', ascending=False)\n",
    "    #Desduplica las correlaciones (o no si drop_dupli es False)\n",
    "    c = c if drop_dupli == False else c.drop_duplicates(subset = ['corr'])\n",
    "    #Devuelve la salida\n",
    "    return(c)"
   ]
  },
  {
   "cell_type": "markdown",
   "id": "b3b33732",
   "metadata": {},
   "source": [
    "#### Calcular y revisar"
   ]
  },
  {
   "cell_type": "markdown",
   "id": "c3eff4be",
   "metadata": {},
   "source": [
    "##### Calcular"
   ]
  },
  {
   "cell_type": "code",
   "execution_count": 134,
   "id": "3df62665",
   "metadata": {},
   "outputs": [],
   "source": [
    "x_preseleccionado2 = x_preseleccionado.copy()\n",
    "x_preseleccionado2.drop(columns={\"tmax_mm_7_ss\",\"tmax_mm_6_ss\",'tmin_1_ss','tmax_mensual_ss','awnd_1_ss'},inplace=True)"
   ]
  },
  {
   "cell_type": "code",
   "execution_count": 135,
   "id": "688d0ec5",
   "metadata": {},
   "outputs": [],
   "source": [
    "cor_finales = correlaciones_fuertes(x_preseleccionado2)"
   ]
  },
  {
   "cell_type": "markdown",
   "id": "c45379b3",
   "metadata": {},
   "source": [
    "##### Revisar agregado"
   ]
  },
  {
   "cell_type": "code",
   "execution_count": 132,
   "id": "05438e63",
   "metadata": {},
   "outputs": [
    {
     "data": {
      "text/plain": [
       "tmax_1_ss    1\n",
       "Name: var1, dtype: int64"
      ]
     },
     "execution_count": 132,
     "metadata": {},
     "output_type": "execute_result"
    }
   ],
   "source": [
    "cor_finales.var1.value_counts()"
   ]
  },
  {
   "cell_type": "markdown",
   "id": "45fde6af",
   "metadata": {},
   "source": [
    "##### Revisar detalle"
   ]
  },
  {
   "cell_type": "code",
   "execution_count": 136,
   "id": "d178fe88",
   "metadata": {},
   "outputs": [
    {
     "data": {
      "text/html": [
       "<div>\n",
       "<style scoped>\n",
       "    .dataframe tbody tr th:only-of-type {\n",
       "        vertical-align: middle;\n",
       "    }\n",
       "\n",
       "    .dataframe tbody tr th {\n",
       "        vertical-align: top;\n",
       "    }\n",
       "\n",
       "    .dataframe thead th {\n",
       "        text-align: right;\n",
       "    }\n",
       "</style>\n",
       "<table border=\"1\" class=\"dataframe\">\n",
       "  <thead>\n",
       "    <tr style=\"text-align: right;\">\n",
       "      <th></th>\n",
       "      <th>var1</th>\n",
       "      <th>var2</th>\n",
       "      <th>corr</th>\n",
       "    </tr>\n",
       "  </thead>\n",
       "  <tbody>\n",
       "  </tbody>\n",
       "</table>\n",
       "</div>"
      ],
      "text/plain": [
       "Empty DataFrame\n",
       "Columns: [var1, var2, corr]\n",
       "Index: []"
      ]
     },
     "execution_count": 136,
     "metadata": {},
     "output_type": "execute_result"
    }
   ],
   "source": [
    "cor_finales"
   ]
  },
  {
   "cell_type": "code",
   "execution_count": 137,
   "id": "918dcfa8",
   "metadata": {},
   "outputs": [
    {
     "name": "stdout",
     "output_type": "stream",
     "text": [
      "<class 'pandas.core.frame.DataFrame'>\n",
      "DatetimeIndex: 8665 entries, 1998-04-04 to 2021-12-31\n",
      "Data columns (total 5 columns):\n",
      " #   Column     Non-Null Count  Dtype  \n",
      "---  ------     --------------  -----  \n",
      " 0   tmax_1_ss  8665 non-null   float64\n",
      " 1   day        8665 non-null   int64  \n",
      " 2   prcp_1_ss  8665 non-null   float64\n",
      " 3   wsf2_1_ss  8665 non-null   float64\n",
      " 4   wdf2_1_ss  8665 non-null   float64\n",
      "dtypes: float64(4), int64(1)\n",
      "memory usage: 406.2 KB\n"
     ]
    }
   ],
   "source": [
    "x_preseleccionado2.info()"
   ]
  },
  {
   "cell_type": "code",
   "execution_count": 138,
   "id": "a7fb3615",
   "metadata": {},
   "outputs": [
    {
     "name": "stdout",
     "output_type": "stream",
     "text": [
      "<class 'pandas.core.frame.DataFrame'>\n",
      "DatetimeIndex: 8665 entries, 1998-04-04 to 2021-12-31\n",
      "Data columns (total 10 columns):\n",
      " #   Column           Non-Null Count  Dtype  \n",
      "---  ------           --------------  -----  \n",
      " 0   tmax_1_ss        8665 non-null   float64\n",
      " 1   tmin_1_ss        8665 non-null   float64\n",
      " 2   day              8665 non-null   int64  \n",
      " 3   prcp_1_ss        8665 non-null   float64\n",
      " 4   awnd_1_ss        8665 non-null   float64\n",
      " 5   wsf2_1_ss        8665 non-null   float64\n",
      " 6   wdf2_1_ss        8665 non-null   float64\n",
      " 7   tmax_mm_7_ss     8665 non-null   float64\n",
      " 8   tmax_mm_6_ss     8665 non-null   float64\n",
      " 9   tmax_mensual_ss  8665 non-null   float64\n",
      "dtypes: float64(9), int64(1)\n",
      "memory usage: 744.6 KB\n"
     ]
    }
   ],
   "source": [
    "x_preseleccionado.info()"
   ]
  },
  {
   "cell_type": "markdown",
   "id": "3c8b2288",
   "metadata": {},
   "source": [
    "#### Filtrar variables"
   ]
  },
  {
   "cell_type": "markdown",
   "id": "54766641",
   "metadata": {},
   "source": [
    "Meter en una lista las que queramos descartar por alta correlacion y eliminarlas."
   ]
  },
  {
   "cell_type": "code",
   "execution_count": 32,
   "id": "38b27456",
   "metadata": {},
   "outputs": [],
   "source": [
    "# a_eliminar_corr = ['euribor3m_qt', 'euribor3m_yeo_rs']"
   ]
  },
  {
   "cell_type": "code",
   "execution_count": 33,
   "id": "2c67fadf",
   "metadata": {},
   "outputs": [],
   "source": [
    "# x_preseleccionado.drop(columns = a_eliminar_corr, inplace = True)"
   ]
  },
  {
   "cell_type": "code",
   "execution_count": 139,
   "id": "bd9538f5",
   "metadata": {},
   "outputs": [],
   "source": [
    "\n",
    "# x_preseleccionado.columns.to_list()"
   ]
  },
  {
   "cell_type": "markdown",
   "id": "87434e0c",
   "metadata": {},
   "source": [
    "## GUARDAR DATASETS TRAS PRESELECCION DE VARIABLES"
   ]
  },
  {
   "cell_type": "code",
   "execution_count": 149,
   "id": "782bf43c",
   "metadata": {},
   "outputs": [],
   "source": [
    "#Definir los nombres de los archivos\n",
    "nombre_x_preseleccionado2 = ruta_proyecto + '/02_Datos/03_Trabajo/' + 'x_preseleccionado2.pickle'\n",
    "nombre_y_preseleccionado = ruta_proyecto + '/02_Datos/03_Trabajo/' + 'y_preseleccionado.pickle'"
   ]
  },
  {
   "cell_type": "code",
   "execution_count": 152,
   "id": "44c7dd60",
   "metadata": {},
   "outputs": [],
   "source": [
    "#Guardar los archivos\n",
    "x_preseleccionado2.to_pickle(nombre_x_preseleccionado2)\n",
    "\n",
    "y_preseleccionado = y.copy()\n",
    "y_preseleccionado.to_pickle(nombre_y_preseleccionado)"
   ]
  },
  {
   "cell_type": "code",
   "execution_count": 151,
   "id": "acd053bb",
   "metadata": {},
   "outputs": [],
   "source": [
    "#Guardar los nombres de las variables finales\n",
    "nombre_variables_finales = ruta_proyecto + '/05_Resultados/' + 'variables_finales2.pickle'\n",
    "\n",
    "x_preseleccionado2.iloc[0].to_pickle(nombre_variables_finales)"
   ]
  },
  {
   "cell_type": "code",
   "execution_count": null,
   "id": "5e1e9a25",
   "metadata": {},
   "outputs": [],
   "source": []
  }
 ],
 "metadata": {
  "kernelspec": {
   "display_name": "Python 3 (ipykernel)",
   "language": "python",
   "name": "python3"
  },
  "language_info": {
   "codemirror_mode": {
    "name": "ipython",
    "version": 3
   },
   "file_extension": ".py",
   "mimetype": "text/x-python",
   "name": "python",
   "nbconvert_exporter": "python",
   "pygments_lexer": "ipython3",
   "version": "3.9.7"
  },
  "toc": {
   "base_numbering": 1,
   "nav_menu": {},
   "number_sections": true,
   "sideBar": true,
   "skip_h1_title": false,
   "title_cell": "Table of Contents",
   "title_sidebar": "Contents",
   "toc_cell": false,
   "toc_position": {
    "height": "calc(100% - 180px)",
    "left": "10px",
    "top": "150px",
    "width": "313.55px"
   },
   "toc_section_display": true,
   "toc_window_display": true
  },
  "varInspector": {
   "cols": {
    "lenName": 16,
    "lenType": 16,
    "lenVar": 40
   },
   "kernels_config": {
    "python": {
     "delete_cmd_postfix": "",
     "delete_cmd_prefix": "del ",
     "library": "var_list.py",
     "varRefreshCmd": "print(var_dic_list())"
    },
    "r": {
     "delete_cmd_postfix": ") ",
     "delete_cmd_prefix": "rm(",
     "library": "var_list.r",
     "varRefreshCmd": "cat(var_dic_list()) "
    }
   },
   "position": {
    "height": "546.85px",
    "left": "1531.75px",
    "right": "20px",
    "top": "115px",
    "width": "350px"
   },
   "types_to_exclude": [
    "module",
    "function",
    "builtin_function_or_method",
    "instance",
    "_Feature"
   ],
   "window_display": false
  }
 },
 "nbformat": 4,
 "nbformat_minor": 5
}
