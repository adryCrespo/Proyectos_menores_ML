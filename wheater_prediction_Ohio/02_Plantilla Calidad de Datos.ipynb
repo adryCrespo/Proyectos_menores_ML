{
 "cells": [
  {
   "cell_type": "markdown",
   "id": "d31dea65",
   "metadata": {},
   "source": [
    "# PLANTILLA CALIDAD DE DATOS"
   ]
  },
  {
   "cell_type": "markdown",
   "id": "bdeb42e6",
   "metadata": {},
   "source": [
    "**IMPORTANTE**: Recuerda hacer una copia de esta plantilla para no machacar la original."
   ]
  },
  {
   "cell_type": "markdown",
   "id": "swiss-fault",
   "metadata": {},
   "source": [
    "## IMPORTAR PAQUETES"
   ]
  },
  {
   "cell_type": "code",
   "execution_count": 4,
   "id": "adjacent-toddler",
   "metadata": {},
   "outputs": [
    {
     "name": "stderr",
     "output_type": "stream",
     "text": [
      "C:\\Users\\acrespod\\Anaconda3\\lib\\site-packages\\scipy\\__init__.py:146: UserWarning: A NumPy version >=1.16.5 and <1.23.0 is required for this version of SciPy (detected version 1.23.1\n",
      "  warnings.warn(f\"A NumPy version >={np_minversion} and <{np_maxversion}\"\n"
     ]
    }
   ],
   "source": [
    "import numpy as np\n",
    "import pandas as pd\n",
    "from janitor import clean_names\n",
    "\n",
    "#Automcompletar rápido\n",
    "%config IPCompleter.greedy=True"
   ]
  },
  {
   "cell_type": "markdown",
   "id": "graduate-compensation",
   "metadata": {},
   "source": [
    "## IMPORTAR LOS DATOS"
   ]
  },
  {
   "cell_type": "markdown",
   "id": "38bb812b",
   "metadata": {},
   "source": [
    "Sustituir la ruta del proyecto."
   ]
  },
  {
   "cell_type": "code",
   "execution_count": 1,
   "id": "28c63848",
   "metadata": {},
   "outputs": [],
   "source": [
    "ruta_proyecto = 'C:/proyectos/weather_ohio/'"
   ]
  },
  {
   "cell_type": "markdown",
   "id": "ba473b09",
   "metadata": {},
   "source": [
    "Sustituir el nombre_fichero_datos."
   ]
  },
  {
   "cell_type": "code",
   "execution_count": 2,
   "id": "5d9dc5ea",
   "metadata": {},
   "outputs": [],
   "source": [
    "nombre_fichero_datos = 'trabajo.csv'"
   ]
  },
  {
   "cell_type": "markdown",
   "id": "ae75bf0b",
   "metadata": {},
   "source": [
    "Cargar los datos."
   ]
  },
  {
   "cell_type": "code",
   "execution_count": 5,
   "id": "24ff453b",
   "metadata": {},
   "outputs": [
    {
     "data": {
      "text/html": [
       "<div>\n",
       "<style scoped>\n",
       "    .dataframe tbody tr th:only-of-type {\n",
       "        vertical-align: middle;\n",
       "    }\n",
       "\n",
       "    .dataframe tbody tr th {\n",
       "        vertical-align: top;\n",
       "    }\n",
       "\n",
       "    .dataframe thead th {\n",
       "        text-align: right;\n",
       "    }\n",
       "</style>\n",
       "<table border=\"1\" class=\"dataframe\">\n",
       "  <thead>\n",
       "    <tr style=\"text-align: right;\">\n",
       "      <th></th>\n",
       "      <th>AWND</th>\n",
       "      <th>AWND_ATTRIBUTES</th>\n",
       "      <th>FMTM</th>\n",
       "      <th>FMTM_ATTRIBUTES</th>\n",
       "      <th>PGTM</th>\n",
       "      <th>PRCP</th>\n",
       "      <th>PRCP_ATTRIBUTES</th>\n",
       "      <th>TAVG</th>\n",
       "      <th>TAVG_ATTRIBUTES</th>\n",
       "      <th>TMAX</th>\n",
       "      <th>...</th>\n",
       "      <th>TMIN</th>\n",
       "      <th>TMIN_ATTRIBUTES</th>\n",
       "      <th>WDF2</th>\n",
       "      <th>WDF2_ATTRIBUTES</th>\n",
       "      <th>WDF5</th>\n",
       "      <th>WDF5_ATTRIBUTES</th>\n",
       "      <th>WSF2</th>\n",
       "      <th>WSF2_ATTRIBUTES</th>\n",
       "      <th>WSF5</th>\n",
       "      <th>WSF5_ATTRIBUTES</th>\n",
       "    </tr>\n",
       "    <tr>\n",
       "      <th>DATE</th>\n",
       "      <th></th>\n",
       "      <th></th>\n",
       "      <th></th>\n",
       "      <th></th>\n",
       "      <th></th>\n",
       "      <th></th>\n",
       "      <th></th>\n",
       "      <th></th>\n",
       "      <th></th>\n",
       "      <th></th>\n",
       "      <th></th>\n",
       "      <th></th>\n",
       "      <th></th>\n",
       "      <th></th>\n",
       "      <th></th>\n",
       "      <th></th>\n",
       "      <th></th>\n",
       "      <th></th>\n",
       "      <th></th>\n",
       "      <th></th>\n",
       "      <th></th>\n",
       "    </tr>\n",
       "  </thead>\n",
       "  <tbody>\n",
       "    <tr>\n",
       "      <th>1998-03-26</th>\n",
       "      <td>NaN</td>\n",
       "      <td>NaN</td>\n",
       "      <td>NaN</td>\n",
       "      <td>NaN</td>\n",
       "      <td>NaN</td>\n",
       "      <td>NaN</td>\n",
       "      <td>NaN</td>\n",
       "      <td>NaN</td>\n",
       "      <td>NaN</td>\n",
       "      <td>77.0</td>\n",
       "      <td>...</td>\n",
       "      <td>48.0</td>\n",
       "      <td>,,M</td>\n",
       "      <td>NaN</td>\n",
       "      <td>NaN</td>\n",
       "      <td>NaN</td>\n",
       "      <td>NaN</td>\n",
       "      <td>NaN</td>\n",
       "      <td>NaN</td>\n",
       "      <td>NaN</td>\n",
       "      <td>NaN</td>\n",
       "    </tr>\n",
       "    <tr>\n",
       "      <th>1998-03-27</th>\n",
       "      <td>NaN</td>\n",
       "      <td>NaN</td>\n",
       "      <td>NaN</td>\n",
       "      <td>NaN</td>\n",
       "      <td>NaN</td>\n",
       "      <td>NaN</td>\n",
       "      <td>NaN</td>\n",
       "      <td>NaN</td>\n",
       "      <td>NaN</td>\n",
       "      <td>80.0</td>\n",
       "      <td>...</td>\n",
       "      <td>64.0</td>\n",
       "      <td>,,M</td>\n",
       "      <td>NaN</td>\n",
       "      <td>NaN</td>\n",
       "      <td>NaN</td>\n",
       "      <td>NaN</td>\n",
       "      <td>NaN</td>\n",
       "      <td>NaN</td>\n",
       "      <td>NaN</td>\n",
       "      <td>NaN</td>\n",
       "    </tr>\n",
       "    <tr>\n",
       "      <th>1998-03-28</th>\n",
       "      <td>NaN</td>\n",
       "      <td>NaN</td>\n",
       "      <td>NaN</td>\n",
       "      <td>NaN</td>\n",
       "      <td>NaN</td>\n",
       "      <td>NaN</td>\n",
       "      <td>NaN</td>\n",
       "      <td>NaN</td>\n",
       "      <td>NaN</td>\n",
       "      <td>78.0</td>\n",
       "      <td>...</td>\n",
       "      <td>61.0</td>\n",
       "      <td>,,M</td>\n",
       "      <td>NaN</td>\n",
       "      <td>NaN</td>\n",
       "      <td>NaN</td>\n",
       "      <td>NaN</td>\n",
       "      <td>NaN</td>\n",
       "      <td>NaN</td>\n",
       "      <td>NaN</td>\n",
       "      <td>NaN</td>\n",
       "    </tr>\n",
       "    <tr>\n",
       "      <th>1998-03-29</th>\n",
       "      <td>NaN</td>\n",
       "      <td>NaN</td>\n",
       "      <td>NaN</td>\n",
       "      <td>NaN</td>\n",
       "      <td>NaN</td>\n",
       "      <td>NaN</td>\n",
       "      <td>NaN</td>\n",
       "      <td>NaN</td>\n",
       "      <td>NaN</td>\n",
       "      <td>79.0</td>\n",
       "      <td>...</td>\n",
       "      <td>59.0</td>\n",
       "      <td>,,M</td>\n",
       "      <td>NaN</td>\n",
       "      <td>NaN</td>\n",
       "      <td>NaN</td>\n",
       "      <td>NaN</td>\n",
       "      <td>NaN</td>\n",
       "      <td>NaN</td>\n",
       "      <td>NaN</td>\n",
       "      <td>NaN</td>\n",
       "    </tr>\n",
       "    <tr>\n",
       "      <th>1998-04-01</th>\n",
       "      <td>11.63</td>\n",
       "      <td>,,W</td>\n",
       "      <td>335.0</td>\n",
       "      <td>,,W</td>\n",
       "      <td>334.0</td>\n",
       "      <td>0.23</td>\n",
       "      <td>,,W,2400</td>\n",
       "      <td>61.0</td>\n",
       "      <td>,,W</td>\n",
       "      <td>71.0</td>\n",
       "      <td>...</td>\n",
       "      <td>50.0</td>\n",
       "      <td>,,W</td>\n",
       "      <td>250.0</td>\n",
       "      <td>,,W</td>\n",
       "      <td>250.0</td>\n",
       "      <td>,,W</td>\n",
       "      <td>29.1</td>\n",
       "      <td>,,W</td>\n",
       "      <td>36.0</td>\n",
       "      <td>,,W</td>\n",
       "    </tr>\n",
       "    <tr>\n",
       "      <th>...</th>\n",
       "      <td>...</td>\n",
       "      <td>...</td>\n",
       "      <td>...</td>\n",
       "      <td>...</td>\n",
       "      <td>...</td>\n",
       "      <td>...</td>\n",
       "      <td>...</td>\n",
       "      <td>...</td>\n",
       "      <td>...</td>\n",
       "      <td>...</td>\n",
       "      <td>...</td>\n",
       "      <td>...</td>\n",
       "      <td>...</td>\n",
       "      <td>...</td>\n",
       "      <td>...</td>\n",
       "      <td>...</td>\n",
       "      <td>...</td>\n",
       "      <td>...</td>\n",
       "      <td>...</td>\n",
       "      <td>...</td>\n",
       "      <td>...</td>\n",
       "    </tr>\n",
       "    <tr>\n",
       "      <th>2021-12-27</th>\n",
       "      <td>9.62</td>\n",
       "      <td>,,W</td>\n",
       "      <td>NaN</td>\n",
       "      <td>NaN</td>\n",
       "      <td>NaN</td>\n",
       "      <td>0.40</td>\n",
       "      <td>,,W,2400</td>\n",
       "      <td>NaN</td>\n",
       "      <td>NaN</td>\n",
       "      <td>59.0</td>\n",
       "      <td>...</td>\n",
       "      <td>35.0</td>\n",
       "      <td>,,W</td>\n",
       "      <td>80.0</td>\n",
       "      <td>,,W</td>\n",
       "      <td>280.0</td>\n",
       "      <td>,,W</td>\n",
       "      <td>21.9</td>\n",
       "      <td>,,W</td>\n",
       "      <td>30.0</td>\n",
       "      <td>,,W</td>\n",
       "    </tr>\n",
       "    <tr>\n",
       "      <th>2021-12-28</th>\n",
       "      <td>7.38</td>\n",
       "      <td>,,W</td>\n",
       "      <td>NaN</td>\n",
       "      <td>NaN</td>\n",
       "      <td>NaN</td>\n",
       "      <td>0.29</td>\n",
       "      <td>,,W,2400</td>\n",
       "      <td>NaN</td>\n",
       "      <td>NaN</td>\n",
       "      <td>53.0</td>\n",
       "      <td>...</td>\n",
       "      <td>38.0</td>\n",
       "      <td>,,W</td>\n",
       "      <td>300.0</td>\n",
       "      <td>,,W</td>\n",
       "      <td>300.0</td>\n",
       "      <td>,,W</td>\n",
       "      <td>21.0</td>\n",
       "      <td>,,W</td>\n",
       "      <td>29.1</td>\n",
       "      <td>,,W</td>\n",
       "    </tr>\n",
       "    <tr>\n",
       "      <th>2021-12-29</th>\n",
       "      <td>4.03</td>\n",
       "      <td>,,W</td>\n",
       "      <td>NaN</td>\n",
       "      <td>NaN</td>\n",
       "      <td>NaN</td>\n",
       "      <td>0.05</td>\n",
       "      <td>,,W,2400</td>\n",
       "      <td>NaN</td>\n",
       "      <td>NaN</td>\n",
       "      <td>50.0</td>\n",
       "      <td>...</td>\n",
       "      <td>43.0</td>\n",
       "      <td>,,W</td>\n",
       "      <td>230.0</td>\n",
       "      <td>,,W</td>\n",
       "      <td>220.0</td>\n",
       "      <td>,,W</td>\n",
       "      <td>13.0</td>\n",
       "      <td>,,W</td>\n",
       "      <td>16.1</td>\n",
       "      <td>,,W</td>\n",
       "    </tr>\n",
       "    <tr>\n",
       "      <th>2021-12-30</th>\n",
       "      <td>5.37</td>\n",
       "      <td>,,W</td>\n",
       "      <td>NaN</td>\n",
       "      <td>NaN</td>\n",
       "      <td>NaN</td>\n",
       "      <td>0.04</td>\n",
       "      <td>,,W,2400</td>\n",
       "      <td>NaN</td>\n",
       "      <td>NaN</td>\n",
       "      <td>56.0</td>\n",
       "      <td>...</td>\n",
       "      <td>44.0</td>\n",
       "      <td>,,W</td>\n",
       "      <td>220.0</td>\n",
       "      <td>,,W</td>\n",
       "      <td>210.0</td>\n",
       "      <td>,,W</td>\n",
       "      <td>13.0</td>\n",
       "      <td>,,W</td>\n",
       "      <td>17.0</td>\n",
       "      <td>,,W</td>\n",
       "    </tr>\n",
       "    <tr>\n",
       "      <th>2021-12-31</th>\n",
       "      <td>6.93</td>\n",
       "      <td>,,W</td>\n",
       "      <td>NaN</td>\n",
       "      <td>NaN</td>\n",
       "      <td>NaN</td>\n",
       "      <td>0.03</td>\n",
       "      <td>,,W,2400</td>\n",
       "      <td>NaN</td>\n",
       "      <td>NaN</td>\n",
       "      <td>56.0</td>\n",
       "      <td>...</td>\n",
       "      <td>48.0</td>\n",
       "      <td>,,W</td>\n",
       "      <td>180.0</td>\n",
       "      <td>,,W</td>\n",
       "      <td>190.0</td>\n",
       "      <td>,,W</td>\n",
       "      <td>16.1</td>\n",
       "      <td>,,W</td>\n",
       "      <td>23.0</td>\n",
       "      <td>,,W</td>\n",
       "    </tr>\n",
       "  </tbody>\n",
       "</table>\n",
       "<p>8672 rows × 21 columns</p>\n",
       "</div>"
      ],
      "text/plain": [
       "             AWND AWND_ATTRIBUTES   FMTM FMTM_ATTRIBUTES   PGTM  PRCP  \\\n",
       "DATE                                                                    \n",
       "1998-03-26    NaN             NaN    NaN             NaN    NaN   NaN   \n",
       "1998-03-27    NaN             NaN    NaN             NaN    NaN   NaN   \n",
       "1998-03-28    NaN             NaN    NaN             NaN    NaN   NaN   \n",
       "1998-03-29    NaN             NaN    NaN             NaN    NaN   NaN   \n",
       "1998-04-01  11.63             ,,W  335.0             ,,W  334.0  0.23   \n",
       "...           ...             ...    ...             ...    ...   ...   \n",
       "2021-12-27   9.62             ,,W    NaN             NaN    NaN  0.40   \n",
       "2021-12-28   7.38             ,,W    NaN             NaN    NaN  0.29   \n",
       "2021-12-29   4.03             ,,W    NaN             NaN    NaN  0.05   \n",
       "2021-12-30   5.37             ,,W    NaN             NaN    NaN  0.04   \n",
       "2021-12-31   6.93             ,,W    NaN             NaN    NaN  0.03   \n",
       "\n",
       "           PRCP_ATTRIBUTES  TAVG TAVG_ATTRIBUTES  TMAX  ...  TMIN  \\\n",
       "DATE                                                    ...         \n",
       "1998-03-26             NaN   NaN             NaN  77.0  ...  48.0   \n",
       "1998-03-27             NaN   NaN             NaN  80.0  ...  64.0   \n",
       "1998-03-28             NaN   NaN             NaN  78.0  ...  61.0   \n",
       "1998-03-29             NaN   NaN             NaN  79.0  ...  59.0   \n",
       "1998-04-01        ,,W,2400  61.0             ,,W  71.0  ...  50.0   \n",
       "...                    ...   ...             ...   ...  ...   ...   \n",
       "2021-12-27        ,,W,2400   NaN             NaN  59.0  ...  35.0   \n",
       "2021-12-28        ,,W,2400   NaN             NaN  53.0  ...  38.0   \n",
       "2021-12-29        ,,W,2400   NaN             NaN  50.0  ...  43.0   \n",
       "2021-12-30        ,,W,2400   NaN             NaN  56.0  ...  44.0   \n",
       "2021-12-31        ,,W,2400   NaN             NaN  56.0  ...  48.0   \n",
       "\n",
       "            TMIN_ATTRIBUTES   WDF2  WDF2_ATTRIBUTES   WDF5  WDF5_ATTRIBUTES  \\\n",
       "DATE                                                                          \n",
       "1998-03-26              ,,M    NaN              NaN    NaN              NaN   \n",
       "1998-03-27              ,,M    NaN              NaN    NaN              NaN   \n",
       "1998-03-28              ,,M    NaN              NaN    NaN              NaN   \n",
       "1998-03-29              ,,M    NaN              NaN    NaN              NaN   \n",
       "1998-04-01              ,,W  250.0              ,,W  250.0              ,,W   \n",
       "...                     ...    ...              ...    ...              ...   \n",
       "2021-12-27              ,,W   80.0              ,,W  280.0              ,,W   \n",
       "2021-12-28              ,,W  300.0              ,,W  300.0              ,,W   \n",
       "2021-12-29              ,,W  230.0              ,,W  220.0              ,,W   \n",
       "2021-12-30              ,,W  220.0              ,,W  210.0              ,,W   \n",
       "2021-12-31              ,,W  180.0              ,,W  190.0              ,,W   \n",
       "\n",
       "            WSF2  WSF2_ATTRIBUTES  WSF5  WSF5_ATTRIBUTES  \n",
       "DATE                                                      \n",
       "1998-03-26   NaN              NaN   NaN              NaN  \n",
       "1998-03-27   NaN              NaN   NaN              NaN  \n",
       "1998-03-28   NaN              NaN   NaN              NaN  \n",
       "1998-03-29   NaN              NaN   NaN              NaN  \n",
       "1998-04-01  29.1              ,,W  36.0              ,,W  \n",
       "...          ...              ...   ...              ...  \n",
       "2021-12-27  21.9              ,,W  30.0              ,,W  \n",
       "2021-12-28  21.0              ,,W  29.1              ,,W  \n",
       "2021-12-29  13.0              ,,W  16.1              ,,W  \n",
       "2021-12-30  13.0              ,,W  17.0              ,,W  \n",
       "2021-12-31  16.1              ,,W  23.0              ,,W  \n",
       "\n",
       "[8672 rows x 21 columns]"
      ]
     },
     "execution_count": 5,
     "metadata": {},
     "output_type": "execute_result"
    }
   ],
   "source": [
    "ruta_completa = ruta_proyecto + '/02_Datos/03_Trabajo/' + nombre_fichero_datos\n",
    "\n",
    "df = pd.read_csv(ruta_completa,index_col=0)\n",
    "df"
   ]
  },
  {
   "cell_type": "code",
   "execution_count": 6,
   "id": "053afccf",
   "metadata": {},
   "outputs": [
    {
     "data": {
      "text/plain": [
       "Index(['AWND', 'AWND_ATTRIBUTES', 'FMTM', 'FMTM_ATTRIBUTES', 'PGTM', 'PRCP',\n",
       "       'PRCP_ATTRIBUTES', 'TAVG', 'TAVG_ATTRIBUTES', 'TMAX', 'TMAX_ATTRIBUTES',\n",
       "       'TMIN', 'TMIN_ATTRIBUTES', 'WDF2', 'WDF2_ATTRIBUTES', 'WDF5',\n",
       "       'WDF5_ATTRIBUTES', 'WSF2', 'WSF2_ATTRIBUTES', 'WSF5',\n",
       "       'WSF5_ATTRIBUTES'],\n",
       "      dtype='object')"
      ]
     },
     "execution_count": 6,
     "metadata": {},
     "output_type": "execute_result"
    }
   ],
   "source": [
    "df.columns"
   ]
  },
  {
   "cell_type": "code",
   "execution_count": null,
   "id": "1a9a4417",
   "metadata": {},
   "outputs": [],
   "source": [
    "df."
   ]
  },
  {
   "cell_type": "markdown",
   "id": "9790d322",
   "metadata": {},
   "source": [
    "## CORRECCIÓN DE NOMBRES DE VARIABLES"
   ]
  },
  {
   "cell_type": "markdown",
   "id": "f1fa5201",
   "metadata": {},
   "source": [
    "### Corrección automática"
   ]
  },
  {
   "cell_type": "code",
   "execution_count": 7,
   "id": "02607b69",
   "metadata": {},
   "outputs": [
    {
     "data": {
      "text/html": [
       "<div>\n",
       "<style scoped>\n",
       "    .dataframe tbody tr th:only-of-type {\n",
       "        vertical-align: middle;\n",
       "    }\n",
       "\n",
       "    .dataframe tbody tr th {\n",
       "        vertical-align: top;\n",
       "    }\n",
       "\n",
       "    .dataframe thead th {\n",
       "        text-align: right;\n",
       "    }\n",
       "</style>\n",
       "<table border=\"1\" class=\"dataframe\">\n",
       "  <thead>\n",
       "    <tr style=\"text-align: right;\">\n",
       "      <th></th>\n",
       "      <th>awnd</th>\n",
       "      <th>awnd_attributes</th>\n",
       "      <th>fmtm</th>\n",
       "      <th>fmtm_attributes</th>\n",
       "      <th>pgtm</th>\n",
       "      <th>prcp</th>\n",
       "      <th>prcp_attributes</th>\n",
       "      <th>tavg</th>\n",
       "      <th>tavg_attributes</th>\n",
       "      <th>tmax</th>\n",
       "      <th>...</th>\n",
       "      <th>tmin</th>\n",
       "      <th>tmin_attributes</th>\n",
       "      <th>wdf2</th>\n",
       "      <th>wdf2_attributes</th>\n",
       "      <th>wdf5</th>\n",
       "      <th>wdf5_attributes</th>\n",
       "      <th>wsf2</th>\n",
       "      <th>wsf2_attributes</th>\n",
       "      <th>wsf5</th>\n",
       "      <th>wsf5_attributes</th>\n",
       "    </tr>\n",
       "    <tr>\n",
       "      <th>DATE</th>\n",
       "      <th></th>\n",
       "      <th></th>\n",
       "      <th></th>\n",
       "      <th></th>\n",
       "      <th></th>\n",
       "      <th></th>\n",
       "      <th></th>\n",
       "      <th></th>\n",
       "      <th></th>\n",
       "      <th></th>\n",
       "      <th></th>\n",
       "      <th></th>\n",
       "      <th></th>\n",
       "      <th></th>\n",
       "      <th></th>\n",
       "      <th></th>\n",
       "      <th></th>\n",
       "      <th></th>\n",
       "      <th></th>\n",
       "      <th></th>\n",
       "      <th></th>\n",
       "    </tr>\n",
       "  </thead>\n",
       "  <tbody>\n",
       "    <tr>\n",
       "      <th>1998-03-26</th>\n",
       "      <td>NaN</td>\n",
       "      <td>NaN</td>\n",
       "      <td>NaN</td>\n",
       "      <td>NaN</td>\n",
       "      <td>NaN</td>\n",
       "      <td>NaN</td>\n",
       "      <td>NaN</td>\n",
       "      <td>NaN</td>\n",
       "      <td>NaN</td>\n",
       "      <td>77.0</td>\n",
       "      <td>...</td>\n",
       "      <td>48.0</td>\n",
       "      <td>,,M</td>\n",
       "      <td>NaN</td>\n",
       "      <td>NaN</td>\n",
       "      <td>NaN</td>\n",
       "      <td>NaN</td>\n",
       "      <td>NaN</td>\n",
       "      <td>NaN</td>\n",
       "      <td>NaN</td>\n",
       "      <td>NaN</td>\n",
       "    </tr>\n",
       "    <tr>\n",
       "      <th>1998-03-27</th>\n",
       "      <td>NaN</td>\n",
       "      <td>NaN</td>\n",
       "      <td>NaN</td>\n",
       "      <td>NaN</td>\n",
       "      <td>NaN</td>\n",
       "      <td>NaN</td>\n",
       "      <td>NaN</td>\n",
       "      <td>NaN</td>\n",
       "      <td>NaN</td>\n",
       "      <td>80.0</td>\n",
       "      <td>...</td>\n",
       "      <td>64.0</td>\n",
       "      <td>,,M</td>\n",
       "      <td>NaN</td>\n",
       "      <td>NaN</td>\n",
       "      <td>NaN</td>\n",
       "      <td>NaN</td>\n",
       "      <td>NaN</td>\n",
       "      <td>NaN</td>\n",
       "      <td>NaN</td>\n",
       "      <td>NaN</td>\n",
       "    </tr>\n",
       "    <tr>\n",
       "      <th>1998-03-28</th>\n",
       "      <td>NaN</td>\n",
       "      <td>NaN</td>\n",
       "      <td>NaN</td>\n",
       "      <td>NaN</td>\n",
       "      <td>NaN</td>\n",
       "      <td>NaN</td>\n",
       "      <td>NaN</td>\n",
       "      <td>NaN</td>\n",
       "      <td>NaN</td>\n",
       "      <td>78.0</td>\n",
       "      <td>...</td>\n",
       "      <td>61.0</td>\n",
       "      <td>,,M</td>\n",
       "      <td>NaN</td>\n",
       "      <td>NaN</td>\n",
       "      <td>NaN</td>\n",
       "      <td>NaN</td>\n",
       "      <td>NaN</td>\n",
       "      <td>NaN</td>\n",
       "      <td>NaN</td>\n",
       "      <td>NaN</td>\n",
       "    </tr>\n",
       "    <tr>\n",
       "      <th>1998-03-29</th>\n",
       "      <td>NaN</td>\n",
       "      <td>NaN</td>\n",
       "      <td>NaN</td>\n",
       "      <td>NaN</td>\n",
       "      <td>NaN</td>\n",
       "      <td>NaN</td>\n",
       "      <td>NaN</td>\n",
       "      <td>NaN</td>\n",
       "      <td>NaN</td>\n",
       "      <td>79.0</td>\n",
       "      <td>...</td>\n",
       "      <td>59.0</td>\n",
       "      <td>,,M</td>\n",
       "      <td>NaN</td>\n",
       "      <td>NaN</td>\n",
       "      <td>NaN</td>\n",
       "      <td>NaN</td>\n",
       "      <td>NaN</td>\n",
       "      <td>NaN</td>\n",
       "      <td>NaN</td>\n",
       "      <td>NaN</td>\n",
       "    </tr>\n",
       "    <tr>\n",
       "      <th>1998-04-01</th>\n",
       "      <td>11.63</td>\n",
       "      <td>,,W</td>\n",
       "      <td>335.0</td>\n",
       "      <td>,,W</td>\n",
       "      <td>334.0</td>\n",
       "      <td>0.23</td>\n",
       "      <td>,,W,2400</td>\n",
       "      <td>61.0</td>\n",
       "      <td>,,W</td>\n",
       "      <td>71.0</td>\n",
       "      <td>...</td>\n",
       "      <td>50.0</td>\n",
       "      <td>,,W</td>\n",
       "      <td>250.0</td>\n",
       "      <td>,,W</td>\n",
       "      <td>250.0</td>\n",
       "      <td>,,W</td>\n",
       "      <td>29.1</td>\n",
       "      <td>,,W</td>\n",
       "      <td>36.0</td>\n",
       "      <td>,,W</td>\n",
       "    </tr>\n",
       "    <tr>\n",
       "      <th>...</th>\n",
       "      <td>...</td>\n",
       "      <td>...</td>\n",
       "      <td>...</td>\n",
       "      <td>...</td>\n",
       "      <td>...</td>\n",
       "      <td>...</td>\n",
       "      <td>...</td>\n",
       "      <td>...</td>\n",
       "      <td>...</td>\n",
       "      <td>...</td>\n",
       "      <td>...</td>\n",
       "      <td>...</td>\n",
       "      <td>...</td>\n",
       "      <td>...</td>\n",
       "      <td>...</td>\n",
       "      <td>...</td>\n",
       "      <td>...</td>\n",
       "      <td>...</td>\n",
       "      <td>...</td>\n",
       "      <td>...</td>\n",
       "      <td>...</td>\n",
       "    </tr>\n",
       "    <tr>\n",
       "      <th>2021-12-27</th>\n",
       "      <td>9.62</td>\n",
       "      <td>,,W</td>\n",
       "      <td>NaN</td>\n",
       "      <td>NaN</td>\n",
       "      <td>NaN</td>\n",
       "      <td>0.40</td>\n",
       "      <td>,,W,2400</td>\n",
       "      <td>NaN</td>\n",
       "      <td>NaN</td>\n",
       "      <td>59.0</td>\n",
       "      <td>...</td>\n",
       "      <td>35.0</td>\n",
       "      <td>,,W</td>\n",
       "      <td>80.0</td>\n",
       "      <td>,,W</td>\n",
       "      <td>280.0</td>\n",
       "      <td>,,W</td>\n",
       "      <td>21.9</td>\n",
       "      <td>,,W</td>\n",
       "      <td>30.0</td>\n",
       "      <td>,,W</td>\n",
       "    </tr>\n",
       "    <tr>\n",
       "      <th>2021-12-28</th>\n",
       "      <td>7.38</td>\n",
       "      <td>,,W</td>\n",
       "      <td>NaN</td>\n",
       "      <td>NaN</td>\n",
       "      <td>NaN</td>\n",
       "      <td>0.29</td>\n",
       "      <td>,,W,2400</td>\n",
       "      <td>NaN</td>\n",
       "      <td>NaN</td>\n",
       "      <td>53.0</td>\n",
       "      <td>...</td>\n",
       "      <td>38.0</td>\n",
       "      <td>,,W</td>\n",
       "      <td>300.0</td>\n",
       "      <td>,,W</td>\n",
       "      <td>300.0</td>\n",
       "      <td>,,W</td>\n",
       "      <td>21.0</td>\n",
       "      <td>,,W</td>\n",
       "      <td>29.1</td>\n",
       "      <td>,,W</td>\n",
       "    </tr>\n",
       "    <tr>\n",
       "      <th>2021-12-29</th>\n",
       "      <td>4.03</td>\n",
       "      <td>,,W</td>\n",
       "      <td>NaN</td>\n",
       "      <td>NaN</td>\n",
       "      <td>NaN</td>\n",
       "      <td>0.05</td>\n",
       "      <td>,,W,2400</td>\n",
       "      <td>NaN</td>\n",
       "      <td>NaN</td>\n",
       "      <td>50.0</td>\n",
       "      <td>...</td>\n",
       "      <td>43.0</td>\n",
       "      <td>,,W</td>\n",
       "      <td>230.0</td>\n",
       "      <td>,,W</td>\n",
       "      <td>220.0</td>\n",
       "      <td>,,W</td>\n",
       "      <td>13.0</td>\n",
       "      <td>,,W</td>\n",
       "      <td>16.1</td>\n",
       "      <td>,,W</td>\n",
       "    </tr>\n",
       "    <tr>\n",
       "      <th>2021-12-30</th>\n",
       "      <td>5.37</td>\n",
       "      <td>,,W</td>\n",
       "      <td>NaN</td>\n",
       "      <td>NaN</td>\n",
       "      <td>NaN</td>\n",
       "      <td>0.04</td>\n",
       "      <td>,,W,2400</td>\n",
       "      <td>NaN</td>\n",
       "      <td>NaN</td>\n",
       "      <td>56.0</td>\n",
       "      <td>...</td>\n",
       "      <td>44.0</td>\n",
       "      <td>,,W</td>\n",
       "      <td>220.0</td>\n",
       "      <td>,,W</td>\n",
       "      <td>210.0</td>\n",
       "      <td>,,W</td>\n",
       "      <td>13.0</td>\n",
       "      <td>,,W</td>\n",
       "      <td>17.0</td>\n",
       "      <td>,,W</td>\n",
       "    </tr>\n",
       "    <tr>\n",
       "      <th>2021-12-31</th>\n",
       "      <td>6.93</td>\n",
       "      <td>,,W</td>\n",
       "      <td>NaN</td>\n",
       "      <td>NaN</td>\n",
       "      <td>NaN</td>\n",
       "      <td>0.03</td>\n",
       "      <td>,,W,2400</td>\n",
       "      <td>NaN</td>\n",
       "      <td>NaN</td>\n",
       "      <td>56.0</td>\n",
       "      <td>...</td>\n",
       "      <td>48.0</td>\n",
       "      <td>,,W</td>\n",
       "      <td>180.0</td>\n",
       "      <td>,,W</td>\n",
       "      <td>190.0</td>\n",
       "      <td>,,W</td>\n",
       "      <td>16.1</td>\n",
       "      <td>,,W</td>\n",
       "      <td>23.0</td>\n",
       "      <td>,,W</td>\n",
       "    </tr>\n",
       "  </tbody>\n",
       "</table>\n",
       "<p>8672 rows × 21 columns</p>\n",
       "</div>"
      ],
      "text/plain": [
       "             awnd awnd_attributes   fmtm fmtm_attributes   pgtm  prcp  \\\n",
       "DATE                                                                    \n",
       "1998-03-26    NaN             NaN    NaN             NaN    NaN   NaN   \n",
       "1998-03-27    NaN             NaN    NaN             NaN    NaN   NaN   \n",
       "1998-03-28    NaN             NaN    NaN             NaN    NaN   NaN   \n",
       "1998-03-29    NaN             NaN    NaN             NaN    NaN   NaN   \n",
       "1998-04-01  11.63             ,,W  335.0             ,,W  334.0  0.23   \n",
       "...           ...             ...    ...             ...    ...   ...   \n",
       "2021-12-27   9.62             ,,W    NaN             NaN    NaN  0.40   \n",
       "2021-12-28   7.38             ,,W    NaN             NaN    NaN  0.29   \n",
       "2021-12-29   4.03             ,,W    NaN             NaN    NaN  0.05   \n",
       "2021-12-30   5.37             ,,W    NaN             NaN    NaN  0.04   \n",
       "2021-12-31   6.93             ,,W    NaN             NaN    NaN  0.03   \n",
       "\n",
       "           prcp_attributes  tavg tavg_attributes  tmax  ...  tmin  \\\n",
       "DATE                                                    ...         \n",
       "1998-03-26             NaN   NaN             NaN  77.0  ...  48.0   \n",
       "1998-03-27             NaN   NaN             NaN  80.0  ...  64.0   \n",
       "1998-03-28             NaN   NaN             NaN  78.0  ...  61.0   \n",
       "1998-03-29             NaN   NaN             NaN  79.0  ...  59.0   \n",
       "1998-04-01        ,,W,2400  61.0             ,,W  71.0  ...  50.0   \n",
       "...                    ...   ...             ...   ...  ...   ...   \n",
       "2021-12-27        ,,W,2400   NaN             NaN  59.0  ...  35.0   \n",
       "2021-12-28        ,,W,2400   NaN             NaN  53.0  ...  38.0   \n",
       "2021-12-29        ,,W,2400   NaN             NaN  50.0  ...  43.0   \n",
       "2021-12-30        ,,W,2400   NaN             NaN  56.0  ...  44.0   \n",
       "2021-12-31        ,,W,2400   NaN             NaN  56.0  ...  48.0   \n",
       "\n",
       "            tmin_attributes   wdf2  wdf2_attributes   wdf5  wdf5_attributes  \\\n",
       "DATE                                                                          \n",
       "1998-03-26              ,,M    NaN              NaN    NaN              NaN   \n",
       "1998-03-27              ,,M    NaN              NaN    NaN              NaN   \n",
       "1998-03-28              ,,M    NaN              NaN    NaN              NaN   \n",
       "1998-03-29              ,,M    NaN              NaN    NaN              NaN   \n",
       "1998-04-01              ,,W  250.0              ,,W  250.0              ,,W   \n",
       "...                     ...    ...              ...    ...              ...   \n",
       "2021-12-27              ,,W   80.0              ,,W  280.0              ,,W   \n",
       "2021-12-28              ,,W  300.0              ,,W  300.0              ,,W   \n",
       "2021-12-29              ,,W  230.0              ,,W  220.0              ,,W   \n",
       "2021-12-30              ,,W  220.0              ,,W  210.0              ,,W   \n",
       "2021-12-31              ,,W  180.0              ,,W  190.0              ,,W   \n",
       "\n",
       "            wsf2  wsf2_attributes  wsf5  wsf5_attributes  \n",
       "DATE                                                      \n",
       "1998-03-26   NaN              NaN   NaN              NaN  \n",
       "1998-03-27   NaN              NaN   NaN              NaN  \n",
       "1998-03-28   NaN              NaN   NaN              NaN  \n",
       "1998-03-29   NaN              NaN   NaN              NaN  \n",
       "1998-04-01  29.1              ,,W  36.0              ,,W  \n",
       "...          ...              ...   ...              ...  \n",
       "2021-12-27  21.9              ,,W  30.0              ,,W  \n",
       "2021-12-28  21.0              ,,W  29.1              ,,W  \n",
       "2021-12-29  13.0              ,,W  16.1              ,,W  \n",
       "2021-12-30  13.0              ,,W  17.0              ,,W  \n",
       "2021-12-31  16.1              ,,W  23.0              ,,W  \n",
       "\n",
       "[8672 rows x 21 columns]"
      ]
     },
     "execution_count": 7,
     "metadata": {},
     "output_type": "execute_result"
    }
   ],
   "source": [
    "df = clean_names(df)\n",
    "df"
   ]
  },
  {
   "cell_type": "code",
   "execution_count": 33,
   "id": "40890b58",
   "metadata": {},
   "outputs": [
    {
     "name": "stdout",
     "output_type": "stream",
     "text": [
      "{\n",
      "'awnd':'',\n",
      "'fmtm':'',\n",
      "'pgtm':'',\n",
      "'prcp':'',\n",
      "'tavg':'',\n",
      "'tmax':'',\n",
      "'tmin':'',\n",
      "'wdf2':'',\n",
      "'wdf5':'',\n",
      "'wsf2':'',\n",
      "'wsf5':'',\n",
      "}\n"
     ]
    }
   ],
   "source": [
    "print(\"{\")\n",
    "for col in df.columns[~df.columns.str.contains(\"attri\")]:\n",
    "    \n",
    "    print(f\"'{col}':'',\")\n",
    "print(\"}\")\n",
    "    "
   ]
  },
  {
   "cell_type": "code",
   "execution_count": 34,
   "id": "4f105817",
   "metadata": {},
   "outputs": [],
   "source": [
    "variables = {\n",
    "'awnd':'avg_daily_wind_speed',\n",
    "'fmtm':'time_of_fastest_mile',\n",
    "'pgtm':'peak_gust_time',\n",
    "'prcp':'precipitation',\n",
    "'tavg':'avg_temperature',\n",
    "'tmax':'max_temp',\n",
    "'tmin':'min_temp',\n",
    "'wdf2':'direction_fastest_2_min_wind',\n",
    "'wdf5':'direction_fastest_5_min_wind',\n",
    "'wsf2':'fastest_2_minute_wind_speed',\n",
    "'wsf5':'fastest_5_minute_wind_speed',\n",
    "}"
   ]
  },
  {
   "cell_type": "markdown",
   "id": "25bf4c99",
   "metadata": {},
   "source": [
    "### Corrección manual"
   ]
  },
  {
   "cell_type": "code",
   "execution_count": 6,
   "id": "c6d83e70",
   "metadata": {},
   "outputs": [
    {
     "data": {
      "text/html": [
       "<div>\n",
       "<style scoped>\n",
       "    .dataframe tbody tr th:only-of-type {\n",
       "        vertical-align: middle;\n",
       "    }\n",
       "\n",
       "    .dataframe tbody tr th {\n",
       "        vertical-align: top;\n",
       "    }\n",
       "\n",
       "    .dataframe thead th {\n",
       "        text-align: right;\n",
       "    }\n",
       "</style>\n",
       "<table border=\"1\" class=\"dataframe\">\n",
       "  <thead>\n",
       "    <tr style=\"text-align: right;\">\n",
       "      <th></th>\n",
       "      <th>edad</th>\n",
       "      <th>trabajo</th>\n",
       "      <th>estado_civil</th>\n",
       "      <th>formacion</th>\n",
       "      <th>impago</th>\n",
       "      <th>hipoteca</th>\n",
       "      <th>consumo</th>\n",
       "      <th>canal_de_contacto</th>\n",
       "      <th>mes</th>\n",
       "      <th>dia_de_la_semana</th>\n",
       "      <th>num_contactos_esta_campana</th>\n",
       "      <th>num_dias_ultimo_contacto</th>\n",
       "      <th>num_contactos_otras_campanas</th>\n",
       "      <th>resultado_campana_anterior</th>\n",
       "      <th>variacion_tasa_empleo</th>\n",
       "      <th>euribor3m</th>\n",
       "      <th>contrata_fondos</th>\n",
       "    </tr>\n",
       "  </thead>\n",
       "  <tbody>\n",
       "    <tr>\n",
       "      <th>11773</th>\n",
       "      <td>34.0</td>\n",
       "      <td>admin.</td>\n",
       "      <td>single</td>\n",
       "      <td>university.degree</td>\n",
       "      <td>no</td>\n",
       "      <td>no</td>\n",
       "      <td>yes</td>\n",
       "      <td>cellular</td>\n",
       "      <td>aug</td>\n",
       "      <td>NaN</td>\n",
       "      <td>3</td>\n",
       "      <td>999</td>\n",
       "      <td>0</td>\n",
       "      <td>nonexistent</td>\n",
       "      <td>14</td>\n",
       "      <td>497</td>\n",
       "      <td>0</td>\n",
       "    </tr>\n",
       "    <tr>\n",
       "      <th>33937</th>\n",
       "      <td>29.0</td>\n",
       "      <td>admin.</td>\n",
       "      <td>single</td>\n",
       "      <td>university.degree</td>\n",
       "      <td>no</td>\n",
       "      <td>yes</td>\n",
       "      <td>no</td>\n",
       "      <td>telephone</td>\n",
       "      <td>jun</td>\n",
       "      <td>NaN</td>\n",
       "      <td>2</td>\n",
       "      <td>999</td>\n",
       "      <td>0</td>\n",
       "      <td>nonexistent</td>\n",
       "      <td>14</td>\n",
       "      <td>4961</td>\n",
       "      <td>0</td>\n",
       "    </tr>\n",
       "    <tr>\n",
       "      <th>24094</th>\n",
       "      <td>45.0</td>\n",
       "      <td>services</td>\n",
       "      <td>married</td>\n",
       "      <td>NaN</td>\n",
       "      <td>unknown</td>\n",
       "      <td>yes</td>\n",
       "      <td>yes</td>\n",
       "      <td>telephone</td>\n",
       "      <td>aug</td>\n",
       "      <td>NaN</td>\n",
       "      <td>2</td>\n",
       "      <td>999</td>\n",
       "      <td>0</td>\n",
       "      <td>nonexistent</td>\n",
       "      <td>14</td>\n",
       "      <td>4964</td>\n",
       "      <td>0</td>\n",
       "    </tr>\n",
       "    <tr>\n",
       "      <th>36175</th>\n",
       "      <td>46.0</td>\n",
       "      <td>services</td>\n",
       "      <td>married</td>\n",
       "      <td>NaN</td>\n",
       "      <td>no</td>\n",
       "      <td>yes</td>\n",
       "      <td>no</td>\n",
       "      <td>cellular</td>\n",
       "      <td>may</td>\n",
       "      <td>NaN</td>\n",
       "      <td>3</td>\n",
       "      <td>999</td>\n",
       "      <td>1</td>\n",
       "      <td>failure</td>\n",
       "      <td>-18</td>\n",
       "      <td>1313</td>\n",
       "      <td>0</td>\n",
       "    </tr>\n",
       "    <tr>\n",
       "      <th>4635</th>\n",
       "      <td>56.0</td>\n",
       "      <td>technician</td>\n",
       "      <td>married</td>\n",
       "      <td>professional.course</td>\n",
       "      <td>unknown</td>\n",
       "      <td>no</td>\n",
       "      <td>no</td>\n",
       "      <td>telephone</td>\n",
       "      <td>may</td>\n",
       "      <td>NaN</td>\n",
       "      <td>1</td>\n",
       "      <td>999</td>\n",
       "      <td>0</td>\n",
       "      <td>nonexistent</td>\n",
       "      <td>11</td>\n",
       "      <td>486</td>\n",
       "      <td>0</td>\n",
       "    </tr>\n",
       "    <tr>\n",
       "      <th>...</th>\n",
       "      <td>...</td>\n",
       "      <td>...</td>\n",
       "      <td>...</td>\n",
       "      <td>...</td>\n",
       "      <td>...</td>\n",
       "      <td>...</td>\n",
       "      <td>...</td>\n",
       "      <td>...</td>\n",
       "      <td>...</td>\n",
       "      <td>...</td>\n",
       "      <td>...</td>\n",
       "      <td>...</td>\n",
       "      <td>...</td>\n",
       "      <td>...</td>\n",
       "      <td>...</td>\n",
       "      <td>...</td>\n",
       "      <td>...</td>\n",
       "    </tr>\n",
       "    <tr>\n",
       "      <th>28179</th>\n",
       "      <td>50.0</td>\n",
       "      <td>admin.</td>\n",
       "      <td>married</td>\n",
       "      <td>basic.6y</td>\n",
       "      <td>no</td>\n",
       "      <td>no</td>\n",
       "      <td>no</td>\n",
       "      <td>cellular</td>\n",
       "      <td>aug</td>\n",
       "      <td>NaN</td>\n",
       "      <td>1</td>\n",
       "      <td>999</td>\n",
       "      <td>0</td>\n",
       "      <td>nonexistent</td>\n",
       "      <td>14</td>\n",
       "      <td>4963</td>\n",
       "      <td>0</td>\n",
       "    </tr>\n",
       "    <tr>\n",
       "      <th>37547</th>\n",
       "      <td>35.0</td>\n",
       "      <td>admin.</td>\n",
       "      <td>single</td>\n",
       "      <td>high.school</td>\n",
       "      <td>no</td>\n",
       "      <td>yes</td>\n",
       "      <td>yes</td>\n",
       "      <td>cellular</td>\n",
       "      <td>may</td>\n",
       "      <td>NaN</td>\n",
       "      <td>1</td>\n",
       "      <td>999</td>\n",
       "      <td>1</td>\n",
       "      <td>failure</td>\n",
       "      <td>-18</td>\n",
       "      <td>1327</td>\n",
       "      <td>0</td>\n",
       "    </tr>\n",
       "    <tr>\n",
       "      <th>13461</th>\n",
       "      <td>60.0</td>\n",
       "      <td>retired</td>\n",
       "      <td>divorced</td>\n",
       "      <td>basic.4y</td>\n",
       "      <td>unknown</td>\n",
       "      <td>no</td>\n",
       "      <td>no</td>\n",
       "      <td>telephone</td>\n",
       "      <td>may</td>\n",
       "      <td>wed</td>\n",
       "      <td>2</td>\n",
       "      <td>999</td>\n",
       "      <td>0</td>\n",
       "      <td>nonexistent</td>\n",
       "      <td>11</td>\n",
       "      <td>4857</td>\n",
       "      <td>0</td>\n",
       "    </tr>\n",
       "    <tr>\n",
       "      <th>9873</th>\n",
       "      <td>26.0</td>\n",
       "      <td>admin.</td>\n",
       "      <td>single</td>\n",
       "      <td>high.school</td>\n",
       "      <td>no</td>\n",
       "      <td>no</td>\n",
       "      <td>no</td>\n",
       "      <td>telephone</td>\n",
       "      <td>may</td>\n",
       "      <td>NaN</td>\n",
       "      <td>2</td>\n",
       "      <td>999</td>\n",
       "      <td>0</td>\n",
       "      <td>nonexistent</td>\n",
       "      <td>11</td>\n",
       "      <td>4856</td>\n",
       "      <td>0</td>\n",
       "    </tr>\n",
       "    <tr>\n",
       "      <th>26917</th>\n",
       "      <td>45.0</td>\n",
       "      <td>blue-collar</td>\n",
       "      <td>divorced</td>\n",
       "      <td>basic.9y</td>\n",
       "      <td>no</td>\n",
       "      <td>yes</td>\n",
       "      <td>no</td>\n",
       "      <td>telephone</td>\n",
       "      <td>jun</td>\n",
       "      <td>NaN</td>\n",
       "      <td>3</td>\n",
       "      <td>999</td>\n",
       "      <td>0</td>\n",
       "      <td>nonexistent</td>\n",
       "      <td>14</td>\n",
       "      <td>4958</td>\n",
       "      <td>0</td>\n",
       "    </tr>\n",
       "  </tbody>\n",
       "</table>\n",
       "<p>20000 rows × 17 columns</p>\n",
       "</div>"
      ],
      "text/plain": [
       "       edad      trabajo estado_civil            formacion   impago hipoteca  \\\n",
       "11773  34.0       admin.       single    university.degree       no       no   \n",
       "33937  29.0       admin.       single    university.degree       no      yes   \n",
       "24094  45.0     services      married                  NaN  unknown      yes   \n",
       "36175  46.0     services      married                  NaN       no      yes   \n",
       "4635   56.0   technician      married  professional.course  unknown       no   \n",
       "...     ...          ...          ...                  ...      ...      ...   \n",
       "28179  50.0       admin.      married             basic.6y       no       no   \n",
       "37547  35.0       admin.       single          high.school       no      yes   \n",
       "13461  60.0      retired     divorced             basic.4y  unknown       no   \n",
       "9873   26.0       admin.       single          high.school       no       no   \n",
       "26917  45.0  blue-collar     divorced             basic.9y       no      yes   \n",
       "\n",
       "      consumo canal_de_contacto  mes dia_de_la_semana  \\\n",
       "11773     yes          cellular  aug              NaN   \n",
       "33937      no         telephone  jun              NaN   \n",
       "24094     yes         telephone  aug              NaN   \n",
       "36175      no          cellular  may              NaN   \n",
       "4635       no         telephone  may              NaN   \n",
       "...       ...               ...  ...              ...   \n",
       "28179      no          cellular  aug              NaN   \n",
       "37547     yes          cellular  may              NaN   \n",
       "13461      no         telephone  may              wed   \n",
       "9873       no         telephone  may              NaN   \n",
       "26917      no         telephone  jun              NaN   \n",
       "\n",
       "       num_contactos_esta_campana  num_dias_ultimo_contacto  \\\n",
       "11773                           3                       999   \n",
       "33937                           2                       999   \n",
       "24094                           2                       999   \n",
       "36175                           3                       999   \n",
       "4635                            1                       999   \n",
       "...                           ...                       ...   \n",
       "28179                           1                       999   \n",
       "37547                           1                       999   \n",
       "13461                           2                       999   \n",
       "9873                            2                       999   \n",
       "26917                           3                       999   \n",
       "\n",
       "       num_contactos_otras_campanas resultado_campana_anterior  \\\n",
       "11773                             0                nonexistent   \n",
       "33937                             0                nonexistent   \n",
       "24094                             0                nonexistent   \n",
       "36175                             1                    failure   \n",
       "4635                              0                nonexistent   \n",
       "...                             ...                        ...   \n",
       "28179                             0                nonexistent   \n",
       "37547                             1                    failure   \n",
       "13461                             0                nonexistent   \n",
       "9873                              0                nonexistent   \n",
       "26917                             0                nonexistent   \n",
       "\n",
       "       variacion_tasa_empleo  euribor3m  contrata_fondos  \n",
       "11773                     14        497                0  \n",
       "33937                     14       4961                0  \n",
       "24094                     14       4964                0  \n",
       "36175                    -18       1313                0  \n",
       "4635                      11        486                0  \n",
       "...                      ...        ...              ...  \n",
       "28179                     14       4963                0  \n",
       "37547                    -18       1327                0  \n",
       "13461                     11       4857                0  \n",
       "9873                      11       4856                0  \n",
       "26917                     14       4958                0  \n",
       "\n",
       "[20000 rows x 17 columns]"
      ]
     },
     "execution_count": 6,
     "metadata": {},
     "output_type": "execute_result"
    }
   ],
   "source": [
    "# df.rename(columns = {'fomacion':'formacion',\n",
    "#                      'prestamo_hipotecario':'hipoteca',\n",
    "#                      'prestamo_personal':'consumo'}, inplace=True)\n",
    "# df"
   ]
  },
  {
   "cell_type": "markdown",
   "id": "d2d5443c",
   "metadata": {},
   "source": [
    "## VISIÓN GENERAL"
   ]
  },
  {
   "cell_type": "code",
   "execution_count": 36,
   "id": "976c8ac6",
   "metadata": {},
   "outputs": [
    {
     "name": "stdout",
     "output_type": "stream",
     "text": [
      "<class 'pandas.core.frame.DataFrame'>\n",
      "Index: 8672 entries, 1998-03-26 to 2021-12-31\n",
      "Data columns (total 21 columns):\n",
      " #   Column           Non-Null Count  Dtype  \n",
      "---  ------           --------------  -----  \n",
      " 0   awnd             8642 non-null   float64\n",
      " 1   awnd_attributes  8642 non-null   object \n",
      " 2   fmtm             2825 non-null   float64\n",
      " 3   fmtm_attributes  2825 non-null   object \n",
      " 4   pgtm             4822 non-null   float64\n",
      " 5   prcp             8667 non-null   float64\n",
      " 6   prcp_attributes  8667 non-null   object \n",
      " 7   tavg             2654 non-null   float64\n",
      " 8   tavg_attributes  2654 non-null   object \n",
      " 9   tmax             8618 non-null   float64\n",
      " 10  tmax_attributes  8618 non-null   object \n",
      " 11  tmin             8616 non-null   float64\n",
      " 12  tmin_attributes  8616 non-null   object \n",
      " 13  wdf2             8656 non-null   float64\n",
      " 14  wdf2_attributes  8656 non-null   object \n",
      " 15  wdf5             8633 non-null   float64\n",
      " 16  wdf5_attributes  8633 non-null   object \n",
      " 17  wsf2             8656 non-null   float64\n",
      " 18  wsf2_attributes  8656 non-null   object \n",
      " 19  wsf5             8636 non-null   float64\n",
      " 20  wsf5_attributes  8636 non-null   object \n",
      "dtypes: float64(11), object(10)\n",
      "memory usage: 1.7+ MB\n"
     ]
    }
   ],
   "source": [
    "df.info()"
   ]
  },
  {
   "cell_type": "markdown",
   "id": "158ee1d7",
   "metadata": {},
   "source": [
    "## TIPOS DE DATOS"
   ]
  },
  {
   "cell_type": "markdown",
   "id": "88162727",
   "metadata": {},
   "source": [
    "### Identificación"
   ]
  },
  {
   "cell_type": "code",
   "execution_count": 37,
   "id": "197a99c2",
   "metadata": {},
   "outputs": [
    {
     "data": {
      "text/plain": [
       "awnd               float64\n",
       "awnd_attributes     object\n",
       "fmtm               float64\n",
       "fmtm_attributes     object\n",
       "pgtm               float64\n",
       "prcp               float64\n",
       "prcp_attributes     object\n",
       "tavg               float64\n",
       "tavg_attributes     object\n",
       "tmax               float64\n",
       "tmax_attributes     object\n",
       "tmin               float64\n",
       "tmin_attributes     object\n",
       "wdf2               float64\n",
       "wdf2_attributes     object\n",
       "wdf5               float64\n",
       "wdf5_attributes     object\n",
       "wsf2               float64\n",
       "wsf2_attributes     object\n",
       "wsf5               float64\n",
       "wsf5_attributes     object\n",
       "dtype: object"
      ]
     },
     "execution_count": 37,
     "metadata": {},
     "output_type": "execute_result"
    }
   ],
   "source": [
    "df.dtypes"
   ]
  },
  {
   "cell_type": "markdown",
   "id": "54f495a6",
   "metadata": {
    "heading_collapsed": true
   },
   "source": [
    "### Corrección"
   ]
  },
  {
   "cell_type": "code",
   "execution_count": 9,
   "id": "828b9893",
   "metadata": {
    "hidden": true,
    "scrolled": true
   },
   "outputs": [
    {
     "data": {
      "text/plain": [
       "edad                              Int64\n",
       "trabajo                          object\n",
       "estado_civil                     object\n",
       "formacion                        object\n",
       "impago                           object\n",
       "hipoteca                         object\n",
       "consumo                          object\n",
       "canal_de_contacto                object\n",
       "mes                              object\n",
       "dia_de_la_semana                 object\n",
       "num_contactos_esta_campana        int64\n",
       "num_dias_ultimo_contacto          int64\n",
       "num_contactos_otras_campanas      int64\n",
       "resultado_campana_anterior       object\n",
       "variacion_tasa_empleo             int64\n",
       "euribor3m                       float64\n",
       "contrata_fondos                   int64\n",
       "dtype: object"
      ]
     },
     "execution_count": 9,
     "metadata": {},
     "output_type": "execute_result"
    }
   ],
   "source": [
    "# df = df.astype({'edad':'Int64',\n",
    "#            'euribor3m': 'float'})\n",
    "\n",
    "# df.dtypes"
   ]
  },
  {
   "cell_type": "markdown",
   "id": "cc8d4a22",
   "metadata": {},
   "source": [
    "## VALORES ÚNICOS"
   ]
  },
  {
   "cell_type": "markdown",
   "id": "f21f0e36",
   "metadata": {},
   "source": [
    "### Identificación"
   ]
  },
  {
   "cell_type": "code",
   "execution_count": 38,
   "id": "6e53e444",
   "metadata": {},
   "outputs": [
    {
     "data": {
      "text/plain": [
       "wsf5_attributes       2\n",
       "awnd_attributes       2\n",
       "wsf2_attributes       2\n",
       "fmtm_attributes       2\n",
       "wdf5_attributes       2\n",
       "wdf2_attributes       2\n",
       "tavg_attributes       2\n",
       "prcp_attributes       4\n",
       "tmin_attributes       5\n",
       "tmax_attributes       5\n",
       "wdf2                 37\n",
       "wdf5                 37\n",
       "wsf2                 45\n",
       "wsf5                 69\n",
       "tavg                 79\n",
       "tmin                 88\n",
       "tmax                 94\n",
       "awnd                 96\n",
       "prcp                174\n",
       "fmtm               1040\n",
       "pgtm               1274\n",
       "dtype: int64"
      ]
     },
     "execution_count": 38,
     "metadata": {},
     "output_type": "execute_result"
    }
   ],
   "source": [
    "df.nunique().sort_values()"
   ]
  },
  {
   "cell_type": "markdown",
   "id": "b1d1a668",
   "metadata": {},
   "source": [
    "### Corrección"
   ]
  },
  {
   "cell_type": "code",
   "execution_count": 11,
   "id": "62f7d14e",
   "metadata": {},
   "outputs": [],
   "source": [
    "# df.drop(columns = 'canal_de_contacto', inplace = True)"
   ]
  },
  {
   "cell_type": "markdown",
   "id": "e25cfc89",
   "metadata": {},
   "source": [
    "## DUPLICADOS"
   ]
  },
  {
   "cell_type": "markdown",
   "id": "8a079ed3",
   "metadata": {},
   "source": [
    "### Identificación"
   ]
  },
  {
   "cell_type": "code",
   "execution_count": 54,
   "id": "3f7a342f",
   "metadata": {},
   "outputs": [
    {
     "data": {
      "text/html": [
       "<div>\n",
       "<style scoped>\n",
       "    .dataframe tbody tr th:only-of-type {\n",
       "        vertical-align: middle;\n",
       "    }\n",
       "\n",
       "    .dataframe tbody tr th {\n",
       "        vertical-align: top;\n",
       "    }\n",
       "\n",
       "    .dataframe thead th {\n",
       "        text-align: right;\n",
       "    }\n",
       "</style>\n",
       "<table border=\"1\" class=\"dataframe\">\n",
       "  <thead>\n",
       "    <tr style=\"text-align: right;\">\n",
       "      <th></th>\n",
       "      <th>DATE</th>\n",
       "      <th>awnd</th>\n",
       "      <th>awnd_attributes</th>\n",
       "      <th>fmtm</th>\n",
       "      <th>fmtm_attributes</th>\n",
       "      <th>pgtm</th>\n",
       "      <th>prcp</th>\n",
       "      <th>prcp_attributes</th>\n",
       "      <th>tavg</th>\n",
       "      <th>tavg_attributes</th>\n",
       "      <th>...</th>\n",
       "      <th>tmin</th>\n",
       "      <th>tmin_attributes</th>\n",
       "      <th>wdf2</th>\n",
       "      <th>wdf2_attributes</th>\n",
       "      <th>wdf5</th>\n",
       "      <th>wdf5_attributes</th>\n",
       "      <th>wsf2</th>\n",
       "      <th>wsf2_attributes</th>\n",
       "      <th>wsf5</th>\n",
       "      <th>wsf5_attributes</th>\n",
       "    </tr>\n",
       "  </thead>\n",
       "  <tbody>\n",
       "  </tbody>\n",
       "</table>\n",
       "<p>0 rows × 22 columns</p>\n",
       "</div>"
      ],
      "text/plain": [
       "Empty DataFrame\n",
       "Columns: [DATE, awnd, awnd_attributes, fmtm, fmtm_attributes, pgtm, prcp, prcp_attributes, tavg, tavg_attributes, tmax, tmax_attributes, tmin, tmin_attributes, wdf2, wdf2_attributes, wdf5, wdf5_attributes, wsf2, wsf2_attributes, wsf5, wsf5_attributes]\n",
       "Index: []\n",
       "\n",
       "[0 rows x 22 columns]"
      ]
     },
     "execution_count": 54,
     "metadata": {},
     "output_type": "execute_result"
    }
   ],
   "source": [
    "df.reset_index().groupby(\"DATE\").filter(lambda x: x.DATE.count()>1)"
   ]
  },
  {
   "cell_type": "code",
   "execution_count": 55,
   "id": "f5b23bfc",
   "metadata": {
    "scrolled": true
   },
   "outputs": [
    {
     "data": {
      "text/plain": [
       "1"
      ]
     },
     "execution_count": 55,
     "metadata": {},
     "output_type": "execute_result"
    }
   ],
   "source": [
    "df.duplicated().sum()"
   ]
  },
  {
   "cell_type": "code",
   "execution_count": 60,
   "id": "8b0a6314",
   "metadata": {},
   "outputs": [
    {
     "data": {
      "text/plain": [
       "DATE\n",
       "2010-08-05    True\n",
       "2019-02-25    True\n",
       "dtype: bool"
      ]
     },
     "execution_count": 60,
     "metadata": {},
     "output_type": "execute_result"
    }
   ],
   "source": [
    "x = df.duplicated(keep=False)\n",
    "x[x]"
   ]
  },
  {
   "cell_type": "code",
   "execution_count": 62,
   "id": "0c3231bd",
   "metadata": {},
   "outputs": [
    {
     "data": {
      "text/html": [
       "<div>\n",
       "<style scoped>\n",
       "    .dataframe tbody tr th:only-of-type {\n",
       "        vertical-align: middle;\n",
       "    }\n",
       "\n",
       "    .dataframe tbody tr th {\n",
       "        vertical-align: top;\n",
       "    }\n",
       "\n",
       "    .dataframe thead th {\n",
       "        text-align: right;\n",
       "    }\n",
       "</style>\n",
       "<table border=\"1\" class=\"dataframe\">\n",
       "  <thead>\n",
       "    <tr style=\"text-align: right;\">\n",
       "      <th></th>\n",
       "      <th>awnd</th>\n",
       "      <th>awnd_attributes</th>\n",
       "      <th>fmtm</th>\n",
       "      <th>fmtm_attributes</th>\n",
       "      <th>pgtm</th>\n",
       "      <th>prcp</th>\n",
       "      <th>prcp_attributes</th>\n",
       "      <th>tavg</th>\n",
       "      <th>tavg_attributes</th>\n",
       "      <th>tmax</th>\n",
       "      <th>...</th>\n",
       "      <th>tmin</th>\n",
       "      <th>tmin_attributes</th>\n",
       "      <th>wdf2</th>\n",
       "      <th>wdf2_attributes</th>\n",
       "      <th>wdf5</th>\n",
       "      <th>wdf5_attributes</th>\n",
       "      <th>wsf2</th>\n",
       "      <th>wsf2_attributes</th>\n",
       "      <th>wsf5</th>\n",
       "      <th>wsf5_attributes</th>\n",
       "    </tr>\n",
       "    <tr>\n",
       "      <th>DATE</th>\n",
       "      <th></th>\n",
       "      <th></th>\n",
       "      <th></th>\n",
       "      <th></th>\n",
       "      <th></th>\n",
       "      <th></th>\n",
       "      <th></th>\n",
       "      <th></th>\n",
       "      <th></th>\n",
       "      <th></th>\n",
       "      <th></th>\n",
       "      <th></th>\n",
       "      <th></th>\n",
       "      <th></th>\n",
       "      <th></th>\n",
       "      <th></th>\n",
       "      <th></th>\n",
       "      <th></th>\n",
       "      <th></th>\n",
       "      <th></th>\n",
       "      <th></th>\n",
       "    </tr>\n",
       "  </thead>\n",
       "  <tbody>\n",
       "    <tr>\n",
       "      <th>2010-08-05</th>\n",
       "      <td>NaN</td>\n",
       "      <td>NaN</td>\n",
       "      <td>NaN</td>\n",
       "      <td>NaN</td>\n",
       "      <td>NaN</td>\n",
       "      <td>0.0</td>\n",
       "      <td>,,W,2400</td>\n",
       "      <td>NaN</td>\n",
       "      <td>NaN</td>\n",
       "      <td>NaN</td>\n",
       "      <td>...</td>\n",
       "      <td>NaN</td>\n",
       "      <td>NaN</td>\n",
       "      <td>NaN</td>\n",
       "      <td>NaN</td>\n",
       "      <td>NaN</td>\n",
       "      <td>NaN</td>\n",
       "      <td>NaN</td>\n",
       "      <td>NaN</td>\n",
       "      <td>NaN</td>\n",
       "      <td>NaN</td>\n",
       "    </tr>\n",
       "    <tr>\n",
       "      <th>2019-02-25</th>\n",
       "      <td>NaN</td>\n",
       "      <td>NaN</td>\n",
       "      <td>NaN</td>\n",
       "      <td>NaN</td>\n",
       "      <td>NaN</td>\n",
       "      <td>0.0</td>\n",
       "      <td>,,W,2400</td>\n",
       "      <td>NaN</td>\n",
       "      <td>NaN</td>\n",
       "      <td>NaN</td>\n",
       "      <td>...</td>\n",
       "      <td>NaN</td>\n",
       "      <td>NaN</td>\n",
       "      <td>NaN</td>\n",
       "      <td>NaN</td>\n",
       "      <td>NaN</td>\n",
       "      <td>NaN</td>\n",
       "      <td>NaN</td>\n",
       "      <td>NaN</td>\n",
       "      <td>NaN</td>\n",
       "      <td>NaN</td>\n",
       "    </tr>\n",
       "  </tbody>\n",
       "</table>\n",
       "<p>2 rows × 21 columns</p>\n",
       "</div>"
      ],
      "text/plain": [
       "            awnd awnd_attributes  fmtm fmtm_attributes  pgtm  prcp  \\\n",
       "DATE                                                                 \n",
       "2010-08-05   NaN             NaN   NaN             NaN   NaN   0.0   \n",
       "2019-02-25   NaN             NaN   NaN             NaN   NaN   0.0   \n",
       "\n",
       "           prcp_attributes  tavg tavg_attributes  tmax  ... tmin  \\\n",
       "DATE                                                    ...        \n",
       "2010-08-05        ,,W,2400   NaN             NaN   NaN  ...  NaN   \n",
       "2019-02-25        ,,W,2400   NaN             NaN   NaN  ...  NaN   \n",
       "\n",
       "            tmin_attributes wdf2  wdf2_attributes wdf5  wdf5_attributes wsf2  \\\n",
       "DATE                                                                           \n",
       "2010-08-05              NaN  NaN              NaN  NaN              NaN  NaN   \n",
       "2019-02-25              NaN  NaN              NaN  NaN              NaN  NaN   \n",
       "\n",
       "            wsf2_attributes wsf5  wsf5_attributes  \n",
       "DATE                                               \n",
       "2010-08-05              NaN  NaN              NaN  \n",
       "2019-02-25              NaN  NaN              NaN  \n",
       "\n",
       "[2 rows x 21 columns]"
      ]
     },
     "execution_count": 62,
     "metadata": {},
     "output_type": "execute_result"
    }
   ],
   "source": [
    "df.loc[['2010-08-05','2019-02-25']]"
   ]
  },
  {
   "cell_type": "code",
   "execution_count": 68,
   "id": "26bb0481",
   "metadata": {},
   "outputs": [
    {
     "data": {
      "text/plain": [
       "awnd                0.35\n",
       "awnd_attributes     0.35\n",
       "fmtm               67.42\n",
       "fmtm_attributes    67.42\n",
       "pgtm               44.40\n",
       "prcp                0.06\n",
       "prcp_attributes     0.06\n",
       "tavg               69.40\n",
       "tavg_attributes    69.40\n",
       "tmax                0.62\n",
       "tmax_attributes     0.62\n",
       "tmin                0.65\n",
       "tmin_attributes     0.65\n",
       "wdf2                0.18\n",
       "wdf2_attributes     0.18\n",
       "wdf5                0.45\n",
       "wdf5_attributes     0.45\n",
       "wsf2                0.18\n",
       "wsf2_attributes     0.18\n",
       "wsf5                0.42\n",
       "wsf5_attributes     0.42\n",
       "dtype: float64"
      ]
     },
     "execution_count": 68,
     "metadata": {},
     "output_type": "execute_result"
    }
   ],
   "source": [
    "# Missing values\n",
    "missing_df = df.apply(lambda x: round(x.isna().sum()/df.shape[0]*100,2) )\n",
    "missing_df"
   ]
  },
  {
   "cell_type": "code",
   "execution_count": 86,
   "id": "9112e30c",
   "metadata": {},
   "outputs": [
    {
     "name": "stdout",
     "output_type": "stream",
     "text": [
      "eliminar columnas: ['fmtm', 'fmtm_attributes', 'tavg', 'tavg_attributes']\n"
     ]
    }
   ],
   "source": [
    "#Elimino columnas con mas de 50% de missing values\n",
    "drop_columns = missing_df[missing_df.apply(lambda x: x>50)].index.tolist()\n",
    "print(f\"eliminar columnas: {drop_columns}\")\n",
    "df = df.loc[:,~df.columns.isin(drop_columns)]"
   ]
  },
  {
   "cell_type": "markdown",
   "id": "d440242b",
   "metadata": {},
   "source": [
    "### Corrección"
   ]
  },
  {
   "cell_type": "code",
   "execution_count": 13,
   "id": "a693f362",
   "metadata": {},
   "outputs": [],
   "source": [
    "# df.drop_duplicates(inplace = True)"
   ]
  },
  {
   "cell_type": "markdown",
   "id": "632ec2cd",
   "metadata": {},
   "source": [
    "## SEPARAR NUMÉRICAS Y CATEGÓRICAS"
   ]
  },
  {
   "cell_type": "markdown",
   "id": "573a61ac",
   "metadata": {},
   "source": [
    "### Categóricas"
   ]
  },
  {
   "cell_type": "code",
   "execution_count": 87,
   "id": "47a7eece",
   "metadata": {},
   "outputs": [],
   "source": [
    "cat = df.select_dtypes(exclude = 'number').copy()"
   ]
  },
  {
   "cell_type": "markdown",
   "id": "41756893",
   "metadata": {},
   "source": [
    "### Numéricas"
   ]
  },
  {
   "cell_type": "code",
   "execution_count": 88,
   "id": "59140e9a",
   "metadata": {},
   "outputs": [],
   "source": [
    "num = df.select_dtypes(include='number').copy()"
   ]
  },
  {
   "cell_type": "markdown",
   "id": "5e7d8e7e",
   "metadata": {},
   "source": [
    "## GESTIÓN DE CATEGÓRICAS"
   ]
  },
  {
   "cell_type": "markdown",
   "id": "5b5808b7",
   "metadata": {},
   "source": [
    "### Nulos"
   ]
  },
  {
   "cell_type": "markdown",
   "id": "5c08ca55",
   "metadata": {},
   "source": [
    "#### Identificación"
   ]
  },
  {
   "cell_type": "code",
   "execution_count": 89,
   "id": "da49ae63",
   "metadata": {
    "scrolled": true
   },
   "outputs": [
    {
     "data": {
      "text/plain": [
       "tmin_attributes    56\n",
       "tmax_attributes    54\n",
       "wdf5_attributes    39\n",
       "wsf5_attributes    36\n",
       "awnd_attributes    30\n",
       "wdf2_attributes    16\n",
       "wsf2_attributes    16\n",
       "prcp_attributes     5\n",
       "dtype: int64"
      ]
     },
     "execution_count": 89,
     "metadata": {},
     "output_type": "execute_result"
    }
   ],
   "source": [
    "cat.isna().sum().sort_values(ascending = False)"
   ]
  },
  {
   "cell_type": "code",
   "execution_count": 97,
   "id": "c660410c",
   "metadata": {},
   "outputs": [
    {
     "name": "stdout",
     "output_type": "stream",
     "text": [
      ",,W    8481\n",
      ",,B     161\n",
      "Name: awnd_attributes, dtype: int64\n",
      "----------\n",
      ",,W,2400     7266\n",
      "T,,W,2400    1248\n",
      ",,B,2400      134\n",
      "T,,B,2400      19\n",
      "Name: prcp_attributes, dtype: int64\n",
      "----------\n",
      ",,W     8459\n",
      ",,B      153\n",
      ",,M        4\n",
      ",S,W       1\n",
      ",I,W       1\n",
      "Name: tmax_attributes, dtype: int64\n",
      "----------\n",
      ",,W     8456\n",
      ",,B      153\n",
      ",,M        4\n",
      ",S,W       2\n",
      ",I,W       1\n",
      "Name: tmin_attributes, dtype: int64\n",
      "----------\n",
      ",,W    8503\n",
      ",,B     153\n",
      "Name: wdf2_attributes, dtype: int64\n",
      "----------\n",
      ",,W    8480\n",
      ",,B     153\n",
      "Name: wdf5_attributes, dtype: int64\n",
      "----------\n",
      ",,W    8503\n",
      ",,B     153\n",
      "Name: wsf2_attributes, dtype: int64\n",
      "----------\n",
      ",,W    8483\n",
      ",,B     153\n",
      "Name: wsf5_attributes, dtype: int64\n",
      "----------\n"
     ]
    }
   ],
   "source": [
    "for c in cat.columns:\n",
    "    print(cat[c].value_counts() )\n",
    "    print(\"-\"*10)"
   ]
  },
  {
   "cell_type": "markdown",
   "id": "611a20e2",
   "metadata": {},
   "source": [
    "Hay siempre una categoria que tiene la mayoria de los registros"
   ]
  },
  {
   "cell_type": "markdown",
   "id": "6802d575",
   "metadata": {},
   "source": [
    "#### Corrección"
   ]
  },
  {
   "cell_type": "markdown",
   "id": "8b7a0f5c",
   "metadata": {},
   "source": [
    "##### Eliminar la variable"
   ]
  },
  {
   "cell_type": "code",
   "execution_count": 90,
   "id": "e73e2300",
   "metadata": {},
   "outputs": [],
   "source": [
    "# cat.drop(columns = 'dia_de_la_semana',inplace = True)"
   ]
  },
  {
   "cell_type": "markdown",
   "id": "cdd2db55",
   "metadata": {},
   "source": [
    "##### Eliminar registros"
   ]
  },
  {
   "cell_type": "markdown",
   "id": "d50e87a0",
   "metadata": {},
   "source": [
    "*Cuidado: Si se eliminan registros hay que eliminarlos tanto de cat como de num*"
   ]
  },
  {
   "cell_type": "code",
   "execution_count": 18,
   "id": "62ad5097",
   "metadata": {},
   "outputs": [],
   "source": [
    "# criterio = 3\n",
    "# cat.dropna(thresh=criterio, inplace=True)\n",
    "# num.dropna(thresh=criterio, inplace=True)"
   ]
  },
  {
   "cell_type": "markdown",
   "id": "ebeb52a6",
   "metadata": {},
   "source": [
    "##### Imputar por un valor"
   ]
  },
  {
   "cell_type": "markdown",
   "id": "2cba1c3c",
   "metadata": {},
   "source": [
    "###### Variables a imputar"
   ]
  },
  {
   "cell_type": "code",
   "execution_count": 19,
   "id": "4050ef9f",
   "metadata": {},
   "outputs": [],
   "source": [
    "#var_imputar_valor = ['resultado_campana_anterior','formacion']"
   ]
  },
  {
   "cell_type": "markdown",
   "id": "fa866ac6",
   "metadata": {},
   "source": [
    "###### Valor por el que imputar"
   ]
  },
  {
   "cell_type": "code",
   "execution_count": 91,
   "id": "10abb34a",
   "metadata": {},
   "outputs": [
    {
     "data": {
      "text/plain": [
       "8672"
      ]
     },
     "execution_count": 91,
     "metadata": {},
     "output_type": "execute_result"
    }
   ],
   "source": [
    "valor = 'NULO'"
   ]
  },
  {
   "cell_type": "markdown",
   "id": "78d10252",
   "metadata": {},
   "source": [
    "###### Imputar"
   ]
  },
  {
   "cell_type": "code",
   "execution_count": 21,
   "id": "f16e8491",
   "metadata": {},
   "outputs": [],
   "source": [
    "# cat[var_imputar_valor] = cat[var_imputar_valor].fillna(valor)"
   ]
  },
  {
   "cell_type": "markdown",
   "id": "c111e44d",
   "metadata": {},
   "source": [
    "##### Imputar por la moda"
   ]
  },
  {
   "cell_type": "markdown",
   "id": "4c1a9c46",
   "metadata": {},
   "source": [
    "###### Variables a imputar"
   ]
  },
  {
   "cell_type": "code",
   "execution_count": 100,
   "id": "cf4cee3d",
   "metadata": {},
   "outputs": [],
   "source": [
    "var_imputar_moda = cat.columns.tolist()"
   ]
  },
  {
   "cell_type": "markdown",
   "id": "e3a31c7d",
   "metadata": {},
   "source": [
    "###### Funcion para imputar con la moda"
   ]
  },
  {
   "cell_type": "code",
   "execution_count": 101,
   "id": "6d7c902b",
   "metadata": {},
   "outputs": [],
   "source": [
    "def imputar_moda(variable):\n",
    "    return(variable.fillna(variable.mode()[0]))"
   ]
  },
  {
   "cell_type": "markdown",
   "id": "b2c3ceba",
   "metadata": {},
   "source": [
    "###### Imputar con la moda"
   ]
  },
  {
   "cell_type": "code",
   "execution_count": 103,
   "id": "5f5184ef",
   "metadata": {},
   "outputs": [],
   "source": [
    "cat[var_imputar_moda] = cat[var_imputar_moda].apply(imputar_moda)"
   ]
  },
  {
   "cell_type": "code",
   "execution_count": 104,
   "id": "c57f457d",
   "metadata": {},
   "outputs": [
    {
     "data": {
      "text/plain": [
       "awnd_attributes    0\n",
       "prcp_attributes    0\n",
       "tmax_attributes    0\n",
       "tmin_attributes    0\n",
       "wdf2_attributes    0\n",
       "wdf5_attributes    0\n",
       "wsf2_attributes    0\n",
       "wsf5_attributes    0\n",
       "dtype: int64"
      ]
     },
     "execution_count": 104,
     "metadata": {},
     "output_type": "execute_result"
    }
   ],
   "source": [
    "cat.isna().sum()"
   ]
  },
  {
   "cell_type": "markdown",
   "id": "913cd65d",
   "metadata": {},
   "source": [
    "### Atípicos"
   ]
  },
  {
   "cell_type": "markdown",
   "id": "5a575397",
   "metadata": {},
   "source": [
    "#### Categorías poco frecuentes"
   ]
  },
  {
   "cell_type": "markdown",
   "id": "e88c9f39",
   "metadata": {},
   "source": [
    "##### Función para agrupar categorías raras en 'OTROS'"
   ]
  },
  {
   "cell_type": "code",
   "execution_count": 105,
   "id": "c59f8d06",
   "metadata": {},
   "outputs": [],
   "source": [
    "def agrupar_cat_raras(variable, criterio = 0.05):\n",
    "    #Calcula las frecuencias\n",
    "    frecuencias = variable.value_counts(normalize=True)\n",
    "    #Identifica las que están por debajo del criterio\n",
    "    temp = [cada for cada in frecuencias.loc[frecuencias < criterio].index.values]\n",
    "    #Las recodifica en 'OTROS'\n",
    "    temp2 = np.where(variable.isin(temp),'OTROS',variable)\n",
    "    #Devuelve el resultado\n",
    "    return(temp2)"
   ]
  },
  {
   "cell_type": "markdown",
   "id": "4205e067",
   "metadata": {},
   "source": [
    "##### Variables a imputar"
   ]
  },
  {
   "cell_type": "code",
   "execution_count": 106,
   "id": "ec35c874",
   "metadata": {},
   "outputs": [],
   "source": [
    "var_imputar_moda = cat.columns.tolist()"
   ]
  },
  {
   "cell_type": "code",
   "execution_count": 117,
   "id": "2abdb5e8",
   "metadata": {},
   "outputs": [
    {
     "data": {
      "text/plain": [
       "173.44"
      ]
     },
     "execution_count": 117,
     "metadata": {},
     "output_type": "execute_result"
    }
   ],
   "source": [
    "df.shape[0]*0.02"
   ]
  },
  {
   "cell_type": "markdown",
   "id": "5eaca402",
   "metadata": {},
   "source": [
    "##### Aplicar"
   ]
  },
  {
   "cell_type": "code",
   "execution_count": 113,
   "id": "2b187bc7",
   "metadata": {},
   "outputs": [],
   "source": [
    "for variable in var_imputar_moda:\n",
    "    cat[variable] = agrupar_cat_raras(cat[variable],criterio = 0.05)"
   ]
  },
  {
   "cell_type": "code",
   "execution_count": 116,
   "id": "81ade156",
   "metadata": {},
   "outputs": [
    {
     "name": "stdout",
     "output_type": "stream",
     "text": [
      ",,W      8511\n",
      "OTROS     161\n",
      "Name: awnd_attributes, dtype: int64\n",
      "--------------------\n",
      ",,W,2400     7271\n",
      "T,,W,2400    1248\n",
      "OTROS         153\n",
      "Name: prcp_attributes, dtype: int64\n",
      "--------------------\n",
      ",,W      8513\n",
      "OTROS     159\n",
      "Name: tmax_attributes, dtype: int64\n",
      "--------------------\n",
      ",,W      8512\n",
      "OTROS     160\n",
      "Name: tmin_attributes, dtype: int64\n",
      "--------------------\n",
      ",,W      8519\n",
      "OTROS     153\n",
      "Name: wdf2_attributes, dtype: int64\n",
      "--------------------\n",
      ",,W      8519\n",
      "OTROS     153\n",
      "Name: wdf5_attributes, dtype: int64\n",
      "--------------------\n",
      ",,W      8519\n",
      "OTROS     153\n",
      "Name: wsf2_attributes, dtype: int64\n",
      "--------------------\n",
      ",,W      8519\n",
      "OTROS     153\n",
      "Name: wsf5_attributes, dtype: int64\n",
      "--------------------\n"
     ]
    }
   ],
   "source": [
    "for variable in var_imputar_moda:\n",
    "    print(cat[variable].value_counts() )\n",
    "    print(\"-\"*20)"
   ]
  },
  {
   "cell_type": "code",
   "execution_count": 127,
   "id": "005d60a7",
   "metadata": {},
   "outputs": [],
   "source": [
    "# Estas variables solo tienen dos valores, el minoritario no llega al 5%\n",
    "drop_columns=[\n",
    " 'awnd_attributes',\n",
    " 'tmax_attributes',\n",
    " 'tmin_attributes',\n",
    " 'wdf2_attributes',\n",
    " 'wdf5_attributes',\n",
    " 'wsf2_attributes',\n",
    " 'wsf5_attributes']\n",
    "\n",
    "cat.drop(columns=drop_columns,inplace =True)"
   ]
  },
  {
   "cell_type": "markdown",
   "id": "db3a72a6",
   "metadata": {},
   "source": [
    "## GESTIÓN DE NUMÉRICAS"
   ]
  },
  {
   "cell_type": "markdown",
   "id": "d65bd06a",
   "metadata": {},
   "source": [
    "### Nulos"
   ]
  },
  {
   "cell_type": "markdown",
   "id": "e5ee8416",
   "metadata": {},
   "source": [
    "#### Identificación"
   ]
  },
  {
   "cell_type": "code",
   "execution_count": 128,
   "id": "c9f054a3",
   "metadata": {
    "scrolled": true
   },
   "outputs": [
    {
     "data": {
      "text/plain": [
       "pgtm    3850\n",
       "tmin      56\n",
       "tmax      54\n",
       "wdf5      39\n",
       "wsf5      36\n",
       "awnd      30\n",
       "wdf2      16\n",
       "wsf2      16\n",
       "prcp       5\n",
       "dtype: int64"
      ]
     },
     "execution_count": 128,
     "metadata": {},
     "output_type": "execute_result"
    }
   ],
   "source": [
    "num.isna().sum().sort_values(ascending = False)"
   ]
  },
  {
   "cell_type": "code",
   "execution_count": 149,
   "id": "a722bf62",
   "metadata": {},
   "outputs": [
    {
     "data": {
      "text/plain": [
       "year\n",
       "1998      6\n",
       "1999      0\n",
       "2000      0\n",
       "2001     11\n",
       "2002      0\n",
       "2003      0\n",
       "2004      1\n",
       "2005    153\n",
       "2006      0\n",
       "2007      0\n",
       "2008      0\n",
       "2009      0\n",
       "2010      1\n",
       "2011     31\n",
       "2012    361\n",
       "2013    365\n",
       "2014    365\n",
       "2015    365\n",
       "2016    366\n",
       "2017    364\n",
       "2018    365\n",
       "2019    365\n",
       "2020    366\n",
       "2021    365\n",
       "Name: pgtm_na, dtype: int32"
      ]
     },
     "execution_count": 149,
     "metadata": {},
     "output_type": "execute_result"
    }
   ],
   "source": [
    "\n",
    "num2 = num.reset_index().copy()\n",
    "num2['DATE'] = pd.to_datetime(num2['DATE'])\n",
    "num2['year'] = num2.DATE.dt.year\n",
    "\n",
    "# num2.groupby('year').size()\n",
    "num2[\"pgtm_na\"] = np.where(num2.isna().pgtm,1,0)\n",
    "num2.groupby('year').pgtm_na.sum()\n",
    "\n",
    "\n",
    "#Drop. A partir de un dia dejan de tomar medidas."
   ]
  },
  {
   "cell_type": "code",
   "execution_count": 150,
   "id": "b12d9f2a",
   "metadata": {},
   "outputs": [
    {
     "data": {
      "text/html": [
       "<div>\n",
       "<style scoped>\n",
       "    .dataframe tbody tr th:only-of-type {\n",
       "        vertical-align: middle;\n",
       "    }\n",
       "\n",
       "    .dataframe tbody tr th {\n",
       "        vertical-align: top;\n",
       "    }\n",
       "\n",
       "    .dataframe thead th {\n",
       "        text-align: right;\n",
       "    }\n",
       "</style>\n",
       "<table border=\"1\" class=\"dataframe\">\n",
       "  <thead>\n",
       "    <tr style=\"text-align: right;\">\n",
       "      <th></th>\n",
       "      <th>awnd</th>\n",
       "      <th>prcp</th>\n",
       "      <th>tmax</th>\n",
       "      <th>tmin</th>\n",
       "      <th>wdf2</th>\n",
       "      <th>wdf5</th>\n",
       "      <th>wsf2</th>\n",
       "      <th>wsf5</th>\n",
       "    </tr>\n",
       "    <tr>\n",
       "      <th>DATE</th>\n",
       "      <th></th>\n",
       "      <th></th>\n",
       "      <th></th>\n",
       "      <th></th>\n",
       "      <th></th>\n",
       "      <th></th>\n",
       "      <th></th>\n",
       "      <th></th>\n",
       "    </tr>\n",
       "  </thead>\n",
       "  <tbody>\n",
       "    <tr>\n",
       "      <th>1998-03-26</th>\n",
       "      <td>NaN</td>\n",
       "      <td>NaN</td>\n",
       "      <td>77.0</td>\n",
       "      <td>48.0</td>\n",
       "      <td>NaN</td>\n",
       "      <td>NaN</td>\n",
       "      <td>NaN</td>\n",
       "      <td>NaN</td>\n",
       "    </tr>\n",
       "    <tr>\n",
       "      <th>1998-03-27</th>\n",
       "      <td>NaN</td>\n",
       "      <td>NaN</td>\n",
       "      <td>80.0</td>\n",
       "      <td>64.0</td>\n",
       "      <td>NaN</td>\n",
       "      <td>NaN</td>\n",
       "      <td>NaN</td>\n",
       "      <td>NaN</td>\n",
       "    </tr>\n",
       "    <tr>\n",
       "      <th>1998-03-28</th>\n",
       "      <td>NaN</td>\n",
       "      <td>NaN</td>\n",
       "      <td>78.0</td>\n",
       "      <td>61.0</td>\n",
       "      <td>NaN</td>\n",
       "      <td>NaN</td>\n",
       "      <td>NaN</td>\n",
       "      <td>NaN</td>\n",
       "    </tr>\n",
       "    <tr>\n",
       "      <th>1998-03-29</th>\n",
       "      <td>NaN</td>\n",
       "      <td>NaN</td>\n",
       "      <td>79.0</td>\n",
       "      <td>59.0</td>\n",
       "      <td>NaN</td>\n",
       "      <td>NaN</td>\n",
       "      <td>NaN</td>\n",
       "      <td>NaN</td>\n",
       "    </tr>\n",
       "    <tr>\n",
       "      <th>1998-04-01</th>\n",
       "      <td>11.63</td>\n",
       "      <td>0.23</td>\n",
       "      <td>71.0</td>\n",
       "      <td>50.0</td>\n",
       "      <td>250.0</td>\n",
       "      <td>250.0</td>\n",
       "      <td>29.1</td>\n",
       "      <td>36.0</td>\n",
       "    </tr>\n",
       "    <tr>\n",
       "      <th>...</th>\n",
       "      <td>...</td>\n",
       "      <td>...</td>\n",
       "      <td>...</td>\n",
       "      <td>...</td>\n",
       "      <td>...</td>\n",
       "      <td>...</td>\n",
       "      <td>...</td>\n",
       "      <td>...</td>\n",
       "    </tr>\n",
       "    <tr>\n",
       "      <th>2021-12-27</th>\n",
       "      <td>9.62</td>\n",
       "      <td>0.40</td>\n",
       "      <td>59.0</td>\n",
       "      <td>35.0</td>\n",
       "      <td>80.0</td>\n",
       "      <td>280.0</td>\n",
       "      <td>21.9</td>\n",
       "      <td>30.0</td>\n",
       "    </tr>\n",
       "    <tr>\n",
       "      <th>2021-12-28</th>\n",
       "      <td>7.38</td>\n",
       "      <td>0.29</td>\n",
       "      <td>53.0</td>\n",
       "      <td>38.0</td>\n",
       "      <td>300.0</td>\n",
       "      <td>300.0</td>\n",
       "      <td>21.0</td>\n",
       "      <td>29.1</td>\n",
       "    </tr>\n",
       "    <tr>\n",
       "      <th>2021-12-29</th>\n",
       "      <td>4.03</td>\n",
       "      <td>0.05</td>\n",
       "      <td>50.0</td>\n",
       "      <td>43.0</td>\n",
       "      <td>230.0</td>\n",
       "      <td>220.0</td>\n",
       "      <td>13.0</td>\n",
       "      <td>16.1</td>\n",
       "    </tr>\n",
       "    <tr>\n",
       "      <th>2021-12-30</th>\n",
       "      <td>5.37</td>\n",
       "      <td>0.04</td>\n",
       "      <td>56.0</td>\n",
       "      <td>44.0</td>\n",
       "      <td>220.0</td>\n",
       "      <td>210.0</td>\n",
       "      <td>13.0</td>\n",
       "      <td>17.0</td>\n",
       "    </tr>\n",
       "    <tr>\n",
       "      <th>2021-12-31</th>\n",
       "      <td>6.93</td>\n",
       "      <td>0.03</td>\n",
       "      <td>56.0</td>\n",
       "      <td>48.0</td>\n",
       "      <td>180.0</td>\n",
       "      <td>190.0</td>\n",
       "      <td>16.1</td>\n",
       "      <td>23.0</td>\n",
       "    </tr>\n",
       "  </tbody>\n",
       "</table>\n",
       "<p>8672 rows × 8 columns</p>\n",
       "</div>"
      ],
      "text/plain": [
       "             awnd  prcp  tmax  tmin   wdf2   wdf5  wsf2  wsf5\n",
       "DATE                                                         \n",
       "1998-03-26    NaN   NaN  77.0  48.0    NaN    NaN   NaN   NaN\n",
       "1998-03-27    NaN   NaN  80.0  64.0    NaN    NaN   NaN   NaN\n",
       "1998-03-28    NaN   NaN  78.0  61.0    NaN    NaN   NaN   NaN\n",
       "1998-03-29    NaN   NaN  79.0  59.0    NaN    NaN   NaN   NaN\n",
       "1998-04-01  11.63  0.23  71.0  50.0  250.0  250.0  29.1  36.0\n",
       "...           ...   ...   ...   ...    ...    ...   ...   ...\n",
       "2021-12-27   9.62  0.40  59.0  35.0   80.0  280.0  21.9  30.0\n",
       "2021-12-28   7.38  0.29  53.0  38.0  300.0  300.0  21.0  29.1\n",
       "2021-12-29   4.03  0.05  50.0  43.0  230.0  220.0  13.0  16.1\n",
       "2021-12-30   5.37  0.04  56.0  44.0  220.0  210.0  13.0  17.0\n",
       "2021-12-31   6.93  0.03  56.0  48.0  180.0  190.0  16.1  23.0\n",
       "\n",
       "[8672 rows x 8 columns]"
      ]
     },
     "execution_count": 150,
     "metadata": {},
     "output_type": "execute_result"
    }
   ],
   "source": [
    "num.drop(columns=[\"pgtm\"], inplace=True)\n",
    "num"
   ]
  },
  {
   "cell_type": "code",
   "execution_count": null,
   "id": "583a6860",
   "metadata": {},
   "outputs": [],
   "source": [
    "num.reset_index(inplace=True)\n",
    "num['DATE'] = pd.to_datetime(num['DATE'])\n",
    "num.set_index(\"DATE\",inplace=True)"
   ]
  },
  {
   "cell_type": "code",
   "execution_count": 173,
   "id": "e7ec320e",
   "metadata": {},
   "outputs": [
    {
     "data": {
      "text/html": [
       "<div>\n",
       "<style scoped>\n",
       "    .dataframe tbody tr th:only-of-type {\n",
       "        vertical-align: middle;\n",
       "    }\n",
       "\n",
       "    .dataframe tbody tr th {\n",
       "        vertical-align: top;\n",
       "    }\n",
       "\n",
       "    .dataframe thead th {\n",
       "        text-align: right;\n",
       "    }\n",
       "</style>\n",
       "<table border=\"1\" class=\"dataframe\">\n",
       "  <thead>\n",
       "    <tr style=\"text-align: right;\">\n",
       "      <th></th>\n",
       "      <th>awnd</th>\n",
       "      <th>prcp</th>\n",
       "      <th>tmax</th>\n",
       "      <th>tmin</th>\n",
       "      <th>wdf2</th>\n",
       "      <th>wdf5</th>\n",
       "      <th>wsf2</th>\n",
       "      <th>wsf5</th>\n",
       "    </tr>\n",
       "    <tr>\n",
       "      <th>year</th>\n",
       "      <th></th>\n",
       "      <th></th>\n",
       "      <th></th>\n",
       "      <th></th>\n",
       "      <th></th>\n",
       "      <th></th>\n",
       "      <th></th>\n",
       "      <th></th>\n",
       "    </tr>\n",
       "  </thead>\n",
       "  <tbody>\n",
       "    <tr>\n",
       "      <th>1998</th>\n",
       "      <td>6</td>\n",
       "      <td>4</td>\n",
       "      <td>4</td>\n",
       "      <td>4</td>\n",
       "      <td>6</td>\n",
       "      <td>6</td>\n",
       "      <td>6</td>\n",
       "      <td>4</td>\n",
       "    </tr>\n",
       "    <tr>\n",
       "      <th>1999</th>\n",
       "      <td>0</td>\n",
       "      <td>0</td>\n",
       "      <td>8</td>\n",
       "      <td>8</td>\n",
       "      <td>0</td>\n",
       "      <td>0</td>\n",
       "      <td>0</td>\n",
       "      <td>0</td>\n",
       "    </tr>\n",
       "    <tr>\n",
       "      <th>2000</th>\n",
       "      <td>1</td>\n",
       "      <td>0</td>\n",
       "      <td>4</td>\n",
       "      <td>4</td>\n",
       "      <td>0</td>\n",
       "      <td>0</td>\n",
       "      <td>0</td>\n",
       "      <td>0</td>\n",
       "    </tr>\n",
       "    <tr>\n",
       "      <th>2001</th>\n",
       "      <td>0</td>\n",
       "      <td>1</td>\n",
       "      <td>3</td>\n",
       "      <td>3</td>\n",
       "      <td>1</td>\n",
       "      <td>1</td>\n",
       "      <td>1</td>\n",
       "      <td>1</td>\n",
       "    </tr>\n",
       "    <tr>\n",
       "      <th>2002</th>\n",
       "      <td>0</td>\n",
       "      <td>0</td>\n",
       "      <td>2</td>\n",
       "      <td>2</td>\n",
       "      <td>0</td>\n",
       "      <td>0</td>\n",
       "      <td>0</td>\n",
       "      <td>0</td>\n",
       "    </tr>\n",
       "    <tr>\n",
       "      <th>2003</th>\n",
       "      <td>0</td>\n",
       "      <td>0</td>\n",
       "      <td>1</td>\n",
       "      <td>1</td>\n",
       "      <td>0</td>\n",
       "      <td>0</td>\n",
       "      <td>0</td>\n",
       "      <td>0</td>\n",
       "    </tr>\n",
       "    <tr>\n",
       "      <th>2004</th>\n",
       "      <td>0</td>\n",
       "      <td>0</td>\n",
       "      <td>12</td>\n",
       "      <td>12</td>\n",
       "      <td>1</td>\n",
       "      <td>1</td>\n",
       "      <td>1</td>\n",
       "      <td>0</td>\n",
       "    </tr>\n",
       "    <tr>\n",
       "      <th>2005</th>\n",
       "      <td>0</td>\n",
       "      <td>0</td>\n",
       "      <td>1</td>\n",
       "      <td>1</td>\n",
       "      <td>0</td>\n",
       "      <td>0</td>\n",
       "      <td>0</td>\n",
       "      <td>0</td>\n",
       "    </tr>\n",
       "    <tr>\n",
       "      <th>2006</th>\n",
       "      <td>2</td>\n",
       "      <td>0</td>\n",
       "      <td>0</td>\n",
       "      <td>0</td>\n",
       "      <td>0</td>\n",
       "      <td>0</td>\n",
       "      <td>0</td>\n",
       "      <td>0</td>\n",
       "    </tr>\n",
       "    <tr>\n",
       "      <th>2007</th>\n",
       "      <td>2</td>\n",
       "      <td>0</td>\n",
       "      <td>0</td>\n",
       "      <td>0</td>\n",
       "      <td>0</td>\n",
       "      <td>0</td>\n",
       "      <td>0</td>\n",
       "      <td>0</td>\n",
       "    </tr>\n",
       "    <tr>\n",
       "      <th>2008</th>\n",
       "      <td>0</td>\n",
       "      <td>0</td>\n",
       "      <td>0</td>\n",
       "      <td>0</td>\n",
       "      <td>0</td>\n",
       "      <td>0</td>\n",
       "      <td>0</td>\n",
       "      <td>0</td>\n",
       "    </tr>\n",
       "    <tr>\n",
       "      <th>2009</th>\n",
       "      <td>0</td>\n",
       "      <td>0</td>\n",
       "      <td>0</td>\n",
       "      <td>0</td>\n",
       "      <td>0</td>\n",
       "      <td>0</td>\n",
       "      <td>0</td>\n",
       "      <td>0</td>\n",
       "    </tr>\n",
       "    <tr>\n",
       "      <th>2010</th>\n",
       "      <td>8</td>\n",
       "      <td>0</td>\n",
       "      <td>9</td>\n",
       "      <td>9</td>\n",
       "      <td>1</td>\n",
       "      <td>1</td>\n",
       "      <td>1</td>\n",
       "      <td>1</td>\n",
       "    </tr>\n",
       "    <tr>\n",
       "      <th>2011</th>\n",
       "      <td>4</td>\n",
       "      <td>0</td>\n",
       "      <td>2</td>\n",
       "      <td>2</td>\n",
       "      <td>0</td>\n",
       "      <td>0</td>\n",
       "      <td>0</td>\n",
       "      <td>0</td>\n",
       "    </tr>\n",
       "    <tr>\n",
       "      <th>2012</th>\n",
       "      <td>0</td>\n",
       "      <td>0</td>\n",
       "      <td>1</td>\n",
       "      <td>1</td>\n",
       "      <td>0</td>\n",
       "      <td>2</td>\n",
       "      <td>0</td>\n",
       "      <td>2</td>\n",
       "    </tr>\n",
       "    <tr>\n",
       "      <th>2013</th>\n",
       "      <td>0</td>\n",
       "      <td>0</td>\n",
       "      <td>2</td>\n",
       "      <td>2</td>\n",
       "      <td>0</td>\n",
       "      <td>0</td>\n",
       "      <td>0</td>\n",
       "      <td>0</td>\n",
       "    </tr>\n",
       "    <tr>\n",
       "      <th>2014</th>\n",
       "      <td>0</td>\n",
       "      <td>0</td>\n",
       "      <td>2</td>\n",
       "      <td>2</td>\n",
       "      <td>0</td>\n",
       "      <td>1</td>\n",
       "      <td>0</td>\n",
       "      <td>1</td>\n",
       "    </tr>\n",
       "    <tr>\n",
       "      <th>2015</th>\n",
       "      <td>6</td>\n",
       "      <td>0</td>\n",
       "      <td>2</td>\n",
       "      <td>2</td>\n",
       "      <td>6</td>\n",
       "      <td>13</td>\n",
       "      <td>6</td>\n",
       "      <td>13</td>\n",
       "    </tr>\n",
       "    <tr>\n",
       "      <th>2016</th>\n",
       "      <td>0</td>\n",
       "      <td>0</td>\n",
       "      <td>0</td>\n",
       "      <td>0</td>\n",
       "      <td>0</td>\n",
       "      <td>0</td>\n",
       "      <td>0</td>\n",
       "      <td>0</td>\n",
       "    </tr>\n",
       "    <tr>\n",
       "      <th>2017</th>\n",
       "      <td>0</td>\n",
       "      <td>0</td>\n",
       "      <td>0</td>\n",
       "      <td>0</td>\n",
       "      <td>0</td>\n",
       "      <td>3</td>\n",
       "      <td>0</td>\n",
       "      <td>3</td>\n",
       "    </tr>\n",
       "    <tr>\n",
       "      <th>2018</th>\n",
       "      <td>0</td>\n",
       "      <td>0</td>\n",
       "      <td>0</td>\n",
       "      <td>0</td>\n",
       "      <td>0</td>\n",
       "      <td>1</td>\n",
       "      <td>0</td>\n",
       "      <td>1</td>\n",
       "    </tr>\n",
       "    <tr>\n",
       "      <th>2019</th>\n",
       "      <td>1</td>\n",
       "      <td>0</td>\n",
       "      <td>1</td>\n",
       "      <td>1</td>\n",
       "      <td>1</td>\n",
       "      <td>2</td>\n",
       "      <td>1</td>\n",
       "      <td>2</td>\n",
       "    </tr>\n",
       "    <tr>\n",
       "      <th>2020</th>\n",
       "      <td>0</td>\n",
       "      <td>0</td>\n",
       "      <td>0</td>\n",
       "      <td>2</td>\n",
       "      <td>0</td>\n",
       "      <td>3</td>\n",
       "      <td>0</td>\n",
       "      <td>3</td>\n",
       "    </tr>\n",
       "    <tr>\n",
       "      <th>2021</th>\n",
       "      <td>0</td>\n",
       "      <td>0</td>\n",
       "      <td>0</td>\n",
       "      <td>0</td>\n",
       "      <td>0</td>\n",
       "      <td>5</td>\n",
       "      <td>0</td>\n",
       "      <td>5</td>\n",
       "    </tr>\n",
       "  </tbody>\n",
       "</table>\n",
       "</div>"
      ],
      "text/plain": [
       "      awnd  prcp  tmax  tmin  wdf2  wdf5  wsf2  wsf5\n",
       "year                                                \n",
       "1998     6     4     4     4     6     6     6     4\n",
       "1999     0     0     8     8     0     0     0     0\n",
       "2000     1     0     4     4     0     0     0     0\n",
       "2001     0     1     3     3     1     1     1     1\n",
       "2002     0     0     2     2     0     0     0     0\n",
       "2003     0     0     1     1     0     0     0     0\n",
       "2004     0     0    12    12     1     1     1     0\n",
       "2005     0     0     1     1     0     0     0     0\n",
       "2006     2     0     0     0     0     0     0     0\n",
       "2007     2     0     0     0     0     0     0     0\n",
       "2008     0     0     0     0     0     0     0     0\n",
       "2009     0     0     0     0     0     0     0     0\n",
       "2010     8     0     9     9     1     1     1     1\n",
       "2011     4     0     2     2     0     0     0     0\n",
       "2012     0     0     1     1     0     2     0     2\n",
       "2013     0     0     2     2     0     0     0     0\n",
       "2014     0     0     2     2     0     1     0     1\n",
       "2015     6     0     2     2     6    13     6    13\n",
       "2016     0     0     0     0     0     0     0     0\n",
       "2017     0     0     0     0     0     3     0     3\n",
       "2018     0     0     0     0     0     1     0     1\n",
       "2019     1     0     1     1     1     2     1     2\n",
       "2020     0     0     0     2     0     3     0     3\n",
       "2021     0     0     0     0     0     5     0     5"
      ]
     },
     "execution_count": 173,
     "metadata": {},
     "output_type": "execute_result"
    }
   ],
   "source": [
    "# missing por año\n",
    "num_na = num.isna().copy()\n",
    "num_na['year'] = num_na.index.year\n",
    "num_na.groupby('year').sum()"
   ]
  },
  {
   "cell_type": "markdown",
   "id": "1b7cb2c4",
   "metadata": {},
   "source": [
    "#### Corrección"
   ]
  },
  {
   "cell_type": "markdown",
   "id": "48c76393",
   "metadata": {
    "heading_collapsed": true
   },
   "source": [
    "##### Eliminar la variable"
   ]
  },
  {
   "cell_type": "code",
   "execution_count": 29,
   "id": "ba078af2",
   "metadata": {
    "hidden": true
   },
   "outputs": [],
   "source": [
    "# num.drop(columns = 'num_contactos_otras_campanas',inplace = True)"
   ]
  },
  {
   "cell_type": "markdown",
   "id": "aab11eff",
   "metadata": {
    "heading_collapsed": true
   },
   "source": [
    "##### Eliminar registros"
   ]
  },
  {
   "cell_type": "markdown",
   "id": "fa00a59d",
   "metadata": {
    "hidden": true
   },
   "source": [
    "*Cuidado: Si se eliminan registros hay que eliminarlos tanto de cat como de num*"
   ]
  },
  {
   "cell_type": "code",
   "execution_count": 171,
   "id": "c5292f66",
   "metadata": {
    "hidden": true
   },
   "outputs": [],
   "source": [
    "# criterio = 3\n",
    "# cat.dropna(thresh=criterio, inplace=True)\n",
    "# num.dropna(thresh=criterio, inplace=True)"
   ]
  },
  {
   "cell_type": "markdown",
   "id": "214264cb",
   "metadata": {},
   "source": [
    "##### Imputar por la media"
   ]
  },
  {
   "cell_type": "markdown",
   "id": "1f927674",
   "metadata": {
    "heading_collapsed": true
   },
   "source": [
    "###### Variables a imputar"
   ]
  },
  {
   "cell_type": "code",
   "execution_count": 31,
   "id": "17c30954",
   "metadata": {
    "hidden": true
   },
   "outputs": [],
   "source": [
    "# var_imputar_media = ['edad','num_contactos_esta_campana']"
   ]
  },
  {
   "cell_type": "markdown",
   "id": "ac2fbb2c",
   "metadata": {
    "heading_collapsed": true
   },
   "source": [
    "###### Funcion para imputar con la media"
   ]
  },
  {
   "cell_type": "code",
   "execution_count": 32,
   "id": "e8ffdb3d",
   "metadata": {
    "hidden": true
   },
   "outputs": [],
   "source": [
    "# def imputar_media(variable):\n",
    "#     if pd.api.types.is_integer_dtype(variable):\n",
    "#         return(variable.fillna(int(variable.mean())))\n",
    "#     else:\n",
    "#         return(variable.fillna(variable.mean()))"
   ]
  },
  {
   "cell_type": "markdown",
   "id": "54407baa",
   "metadata": {
    "heading_collapsed": true
   },
   "source": [
    "###### Imputar con la media"
   ]
  },
  {
   "cell_type": "code",
   "execution_count": 33,
   "id": "605f7ad2",
   "metadata": {
    "hidden": true
   },
   "outputs": [],
   "source": [
    "#num[var_imputar_media] = num[var_imputar_media].apply(imputar_media)"
   ]
  },
  {
   "cell_type": "markdown",
   "id": "649c19f3",
   "metadata": {},
   "source": [
    "##### Imputar por la mediana"
   ]
  },
  {
   "cell_type": "markdown",
   "id": "d22ea297",
   "metadata": {
    "heading_collapsed": true
   },
   "source": [
    "###### Variables a imputar"
   ]
  },
  {
   "cell_type": "code",
   "execution_count": 34,
   "id": "37e4d7f6",
   "metadata": {
    "hidden": true
   },
   "outputs": [],
   "source": [
    "# var_imputar_mediana = ['edad','num_contactos_esta_campana']"
   ]
  },
  {
   "cell_type": "markdown",
   "id": "432c371c",
   "metadata": {
    "heading_collapsed": true
   },
   "source": [
    "###### Funcion para imputar con la mediana"
   ]
  },
  {
   "cell_type": "code",
   "execution_count": 35,
   "id": "66679233",
   "metadata": {
    "hidden": true
   },
   "outputs": [],
   "source": [
    "# def imputar_mediana(variable):\n",
    "#     if pd.api.types.is_integer_dtype(variable):\n",
    "#         return(variable.fillna(int(variable.median())))\n",
    "#     else:\n",
    "#         return(variable.fillna(variable.median()))"
   ]
  },
  {
   "cell_type": "markdown",
   "id": "70d7a1c5",
   "metadata": {
    "heading_collapsed": true
   },
   "source": [
    "###### Imputar con la mediana"
   ]
  },
  {
   "cell_type": "code",
   "execution_count": 174,
   "id": "887a4106",
   "metadata": {
    "hidden": true
   },
   "outputs": [],
   "source": [
    "# num[var_imputar_mediana] = num[var_imputar_mediana].apply(imputar_mediana)"
   ]
  },
  {
   "cell_type": "markdown",
   "id": "64b871b5",
   "metadata": {},
   "source": [
    "######  Imputar con interpolacion"
   ]
  },
  {
   "cell_type": "code",
   "execution_count": 177,
   "id": "55d0ba7a",
   "metadata": {},
   "outputs": [
    {
     "data": {
      "text/plain": [
       "DatetimeIndex(['1998-04-07', '1998-06-13', '1998-11-03', '1998-12-19',\n",
       "               '1999-05-23', '1999-06-13', '1999-06-28', '1999-08-08',\n",
       "               '1999-09-06', '1999-09-10', '1999-11-21', '1999-12-13',\n",
       "               '2000-06-12', '2000-07-30', '2000-07-31', '2000-10-08',\n",
       "               '2001-02-14', '2001-04-12', '2001-06-01', '2002-07-04',\n",
       "               '2002-07-05', '2003-05-29', '2004-05-06', '2004-05-07',\n",
       "               '2004-05-21', '2004-05-26', '2004-08-25', '2004-09-09',\n",
       "               '2004-09-17', '2004-09-18', '2004-09-19', '2004-10-06',\n",
       "               '2004-10-07', '2004-10-08', '2005-01-16', '2010-02-08',\n",
       "               '2010-04-30', '2010-08-04', '2010-08-05', '2010-08-06',\n",
       "               '2010-08-07', '2010-08-08', '2010-10-15', '2010-10-16',\n",
       "               '2011-02-15', '2011-07-10', '2012-06-30', '2013-05-04',\n",
       "               '2013-07-09', '2014-01-16', '2014-02-05', '2015-04-09',\n",
       "               '2015-06-16', '2019-02-25'],\n",
       "              dtype='datetime64[ns]', name='DATE', freq=None)"
      ]
     },
     "execution_count": 177,
     "metadata": {},
     "output_type": "execute_result"
    }
   ],
   "source": [
    "# los nulos no suelen estar seguidos\n",
    "num.tmax.isna()[num.tmax.isna()].index"
   ]
  },
  {
   "cell_type": "code",
   "execution_count": null,
   "id": "b62b5eef",
   "metadata": {},
   "outputs": [],
   "source": []
  },
  {
   "cell_type": "code",
   "execution_count": 192,
   "id": "61f85408",
   "metadata": {},
   "outputs": [
    {
     "name": "stdout",
     "output_type": "stream",
     "text": [
      "awnd    0\n",
      "prcp    0\n",
      "tmax    0\n",
      "tmin    0\n",
      "wdf2    0\n",
      "wdf5    0\n",
      "wsf2    0\n",
      "wsf5    0\n",
      "dtype: int64\n"
     ]
    }
   ],
   "source": [
    "num2 = num.interpolate(method = 'linear').bfill().copy()\n",
    "print(num2.isna().sum() )\n",
    "num = num2"
   ]
  },
  {
   "cell_type": "code",
   "execution_count": null,
   "id": "e54d4501",
   "metadata": {},
   "outputs": [],
   "source": []
  },
  {
   "cell_type": "code",
   "execution_count": 185,
   "id": "39ab4b53",
   "metadata": {},
   "outputs": [
    {
     "data": {
      "text/html": [
       "<div>\n",
       "<style scoped>\n",
       "    .dataframe tbody tr th:only-of-type {\n",
       "        vertical-align: middle;\n",
       "    }\n",
       "\n",
       "    .dataframe tbody tr th {\n",
       "        vertical-align: top;\n",
       "    }\n",
       "\n",
       "    .dataframe thead th {\n",
       "        text-align: right;\n",
       "    }\n",
       "</style>\n",
       "<table border=\"1\" class=\"dataframe\">\n",
       "  <thead>\n",
       "    <tr style=\"text-align: right;\">\n",
       "      <th></th>\n",
       "      <th>awnd</th>\n",
       "      <th>prcp</th>\n",
       "      <th>tmax</th>\n",
       "      <th>tmin</th>\n",
       "      <th>wdf2</th>\n",
       "      <th>wdf5</th>\n",
       "      <th>wsf2</th>\n",
       "      <th>wsf5</th>\n",
       "    </tr>\n",
       "    <tr>\n",
       "      <th>DATE</th>\n",
       "      <th></th>\n",
       "      <th></th>\n",
       "      <th></th>\n",
       "      <th></th>\n",
       "      <th></th>\n",
       "      <th></th>\n",
       "      <th></th>\n",
       "      <th></th>\n",
       "    </tr>\n",
       "  </thead>\n",
       "  <tbody>\n",
       "    <tr>\n",
       "      <th>2004-09-06</th>\n",
       "      <td>10.96</td>\n",
       "      <td>0.00</td>\n",
       "      <td>81.0</td>\n",
       "      <td>64.0</td>\n",
       "      <td>110.0</td>\n",
       "      <td>120.0</td>\n",
       "      <td>17.9</td>\n",
       "      <td>23.0</td>\n",
       "    </tr>\n",
       "    <tr>\n",
       "      <th>2004-09-07</th>\n",
       "      <td>5.37</td>\n",
       "      <td>0.00</td>\n",
       "      <td>81.0</td>\n",
       "      <td>63.0</td>\n",
       "      <td>170.0</td>\n",
       "      <td>70.0</td>\n",
       "      <td>10.1</td>\n",
       "      <td>12.1</td>\n",
       "    </tr>\n",
       "    <tr>\n",
       "      <th>2004-09-08</th>\n",
       "      <td>14.76</td>\n",
       "      <td>3.06</td>\n",
       "      <td>70.0</td>\n",
       "      <td>66.0</td>\n",
       "      <td>60.0</td>\n",
       "      <td>40.0</td>\n",
       "      <td>30.0</td>\n",
       "      <td>36.0</td>\n",
       "    </tr>\n",
       "    <tr>\n",
       "      <th>2004-09-09</th>\n",
       "      <td>9.17</td>\n",
       "      <td>0.00</td>\n",
       "      <td>NaN</td>\n",
       "      <td>NaN</td>\n",
       "      <td>300.0</td>\n",
       "      <td>280.0</td>\n",
       "      <td>17.9</td>\n",
       "      <td>21.9</td>\n",
       "    </tr>\n",
       "    <tr>\n",
       "      <th>2004-09-10</th>\n",
       "      <td>2.91</td>\n",
       "      <td>0.01</td>\n",
       "      <td>73.0</td>\n",
       "      <td>58.0</td>\n",
       "      <td>320.0</td>\n",
       "      <td>330.0</td>\n",
       "      <td>8.9</td>\n",
       "      <td>12.1</td>\n",
       "    </tr>\n",
       "    <tr>\n",
       "      <th>2004-09-11</th>\n",
       "      <td>2.01</td>\n",
       "      <td>0.00</td>\n",
       "      <td>76.0</td>\n",
       "      <td>52.0</td>\n",
       "      <td>80.0</td>\n",
       "      <td>60.0</td>\n",
       "      <td>8.1</td>\n",
       "      <td>10.1</td>\n",
       "    </tr>\n",
       "    <tr>\n",
       "      <th>2004-09-12</th>\n",
       "      <td>1.79</td>\n",
       "      <td>0.01</td>\n",
       "      <td>77.0</td>\n",
       "      <td>53.0</td>\n",
       "      <td>180.0</td>\n",
       "      <td>220.0</td>\n",
       "      <td>6.9</td>\n",
       "      <td>8.1</td>\n",
       "    </tr>\n",
       "    <tr>\n",
       "      <th>2004-09-13</th>\n",
       "      <td>3.36</td>\n",
       "      <td>0.00</td>\n",
       "      <td>79.0</td>\n",
       "      <td>52.0</td>\n",
       "      <td>70.0</td>\n",
       "      <td>60.0</td>\n",
       "      <td>12.1</td>\n",
       "      <td>13.0</td>\n",
       "    </tr>\n",
       "    <tr>\n",
       "      <th>2004-09-14</th>\n",
       "      <td>6.93</td>\n",
       "      <td>0.00</td>\n",
       "      <td>77.0</td>\n",
       "      <td>63.0</td>\n",
       "      <td>120.0</td>\n",
       "      <td>130.0</td>\n",
       "      <td>17.9</td>\n",
       "      <td>21.9</td>\n",
       "    </tr>\n",
       "  </tbody>\n",
       "</table>\n",
       "</div>"
      ],
      "text/plain": [
       "             awnd  prcp  tmax  tmin   wdf2   wdf5  wsf2  wsf5\n",
       "DATE                                                         \n",
       "2004-09-06  10.96  0.00  81.0  64.0  110.0  120.0  17.9  23.0\n",
       "2004-09-07   5.37  0.00  81.0  63.0  170.0   70.0  10.1  12.1\n",
       "2004-09-08  14.76  3.06  70.0  66.0   60.0   40.0  30.0  36.0\n",
       "2004-09-09   9.17  0.00   NaN   NaN  300.0  280.0  17.9  21.9\n",
       "2004-09-10   2.91  0.01  73.0  58.0  320.0  330.0   8.9  12.1\n",
       "2004-09-11   2.01  0.00  76.0  52.0   80.0   60.0   8.1  10.1\n",
       "2004-09-12   1.79  0.01  77.0  53.0  180.0  220.0   6.9   8.1\n",
       "2004-09-13   3.36  0.00  79.0  52.0   70.0   60.0  12.1  13.0\n",
       "2004-09-14   6.93  0.00  77.0  63.0  120.0  130.0  17.9  21.9"
      ]
     },
     "execution_count": 185,
     "metadata": {},
     "output_type": "execute_result"
    }
   ],
   "source": [
    "num.loc['2004-09-06':'2004-09-14']"
   ]
  },
  {
   "cell_type": "code",
   "execution_count": 186,
   "id": "284961e6",
   "metadata": {},
   "outputs": [
    {
     "data": {
      "text/html": [
       "<div>\n",
       "<style scoped>\n",
       "    .dataframe tbody tr th:only-of-type {\n",
       "        vertical-align: middle;\n",
       "    }\n",
       "\n",
       "    .dataframe tbody tr th {\n",
       "        vertical-align: top;\n",
       "    }\n",
       "\n",
       "    .dataframe thead th {\n",
       "        text-align: right;\n",
       "    }\n",
       "</style>\n",
       "<table border=\"1\" class=\"dataframe\">\n",
       "  <thead>\n",
       "    <tr style=\"text-align: right;\">\n",
       "      <th></th>\n",
       "      <th>awnd</th>\n",
       "      <th>prcp</th>\n",
       "      <th>tmax</th>\n",
       "      <th>tmin</th>\n",
       "      <th>wdf2</th>\n",
       "      <th>wdf5</th>\n",
       "      <th>wsf2</th>\n",
       "      <th>wsf5</th>\n",
       "    </tr>\n",
       "    <tr>\n",
       "      <th>DATE</th>\n",
       "      <th></th>\n",
       "      <th></th>\n",
       "      <th></th>\n",
       "      <th></th>\n",
       "      <th></th>\n",
       "      <th></th>\n",
       "      <th></th>\n",
       "      <th></th>\n",
       "    </tr>\n",
       "  </thead>\n",
       "  <tbody>\n",
       "    <tr>\n",
       "      <th>2004-09-06</th>\n",
       "      <td>10.96</td>\n",
       "      <td>0.00</td>\n",
       "      <td>81.0</td>\n",
       "      <td>64.0</td>\n",
       "      <td>110.0</td>\n",
       "      <td>120.0</td>\n",
       "      <td>17.9</td>\n",
       "      <td>23.0</td>\n",
       "    </tr>\n",
       "    <tr>\n",
       "      <th>2004-09-07</th>\n",
       "      <td>5.37</td>\n",
       "      <td>0.00</td>\n",
       "      <td>81.0</td>\n",
       "      <td>63.0</td>\n",
       "      <td>170.0</td>\n",
       "      <td>70.0</td>\n",
       "      <td>10.1</td>\n",
       "      <td>12.1</td>\n",
       "    </tr>\n",
       "    <tr>\n",
       "      <th>2004-09-08</th>\n",
       "      <td>14.76</td>\n",
       "      <td>3.06</td>\n",
       "      <td>70.0</td>\n",
       "      <td>66.0</td>\n",
       "      <td>60.0</td>\n",
       "      <td>40.0</td>\n",
       "      <td>30.0</td>\n",
       "      <td>36.0</td>\n",
       "    </tr>\n",
       "    <tr>\n",
       "      <th>2004-09-09</th>\n",
       "      <td>9.17</td>\n",
       "      <td>0.00</td>\n",
       "      <td>71.5</td>\n",
       "      <td>62.0</td>\n",
       "      <td>300.0</td>\n",
       "      <td>280.0</td>\n",
       "      <td>17.9</td>\n",
       "      <td>21.9</td>\n",
       "    </tr>\n",
       "    <tr>\n",
       "      <th>2004-09-10</th>\n",
       "      <td>2.91</td>\n",
       "      <td>0.01</td>\n",
       "      <td>73.0</td>\n",
       "      <td>58.0</td>\n",
       "      <td>320.0</td>\n",
       "      <td>330.0</td>\n",
       "      <td>8.9</td>\n",
       "      <td>12.1</td>\n",
       "    </tr>\n",
       "    <tr>\n",
       "      <th>2004-09-11</th>\n",
       "      <td>2.01</td>\n",
       "      <td>0.00</td>\n",
       "      <td>76.0</td>\n",
       "      <td>52.0</td>\n",
       "      <td>80.0</td>\n",
       "      <td>60.0</td>\n",
       "      <td>8.1</td>\n",
       "      <td>10.1</td>\n",
       "    </tr>\n",
       "    <tr>\n",
       "      <th>2004-09-12</th>\n",
       "      <td>1.79</td>\n",
       "      <td>0.01</td>\n",
       "      <td>77.0</td>\n",
       "      <td>53.0</td>\n",
       "      <td>180.0</td>\n",
       "      <td>220.0</td>\n",
       "      <td>6.9</td>\n",
       "      <td>8.1</td>\n",
       "    </tr>\n",
       "    <tr>\n",
       "      <th>2004-09-13</th>\n",
       "      <td>3.36</td>\n",
       "      <td>0.00</td>\n",
       "      <td>79.0</td>\n",
       "      <td>52.0</td>\n",
       "      <td>70.0</td>\n",
       "      <td>60.0</td>\n",
       "      <td>12.1</td>\n",
       "      <td>13.0</td>\n",
       "    </tr>\n",
       "    <tr>\n",
       "      <th>2004-09-14</th>\n",
       "      <td>6.93</td>\n",
       "      <td>0.00</td>\n",
       "      <td>77.0</td>\n",
       "      <td>63.0</td>\n",
       "      <td>120.0</td>\n",
       "      <td>130.0</td>\n",
       "      <td>17.9</td>\n",
       "      <td>21.9</td>\n",
       "    </tr>\n",
       "  </tbody>\n",
       "</table>\n",
       "</div>"
      ],
      "text/plain": [
       "             awnd  prcp  tmax  tmin   wdf2   wdf5  wsf2  wsf5\n",
       "DATE                                                         \n",
       "2004-09-06  10.96  0.00  81.0  64.0  110.0  120.0  17.9  23.0\n",
       "2004-09-07   5.37  0.00  81.0  63.0  170.0   70.0  10.1  12.1\n",
       "2004-09-08  14.76  3.06  70.0  66.0   60.0   40.0  30.0  36.0\n",
       "2004-09-09   9.17  0.00  71.5  62.0  300.0  280.0  17.9  21.9\n",
       "2004-09-10   2.91  0.01  73.0  58.0  320.0  330.0   8.9  12.1\n",
       "2004-09-11   2.01  0.00  76.0  52.0   80.0   60.0   8.1  10.1\n",
       "2004-09-12   1.79  0.01  77.0  53.0  180.0  220.0   6.9   8.1\n",
       "2004-09-13   3.36  0.00  79.0  52.0   70.0   60.0  12.1  13.0\n",
       "2004-09-14   6.93  0.00  77.0  63.0  120.0  130.0  17.9  21.9"
      ]
     },
     "execution_count": 186,
     "metadata": {},
     "output_type": "execute_result"
    }
   ],
   "source": [
    "num2.loc['2004-09-06':'2004-09-14']"
   ]
  },
  {
   "cell_type": "markdown",
   "id": "82cb56e8",
   "metadata": {},
   "source": [
    "### Atípicos"
   ]
  },
  {
   "cell_type": "markdown",
   "id": "760baf8c",
   "metadata": {},
   "source": [
    "#### Por desviación típica"
   ]
  },
  {
   "cell_type": "markdown",
   "id": "4b508149",
   "metadata": {},
   "source": [
    "##### Identificación"
   ]
  },
  {
   "cell_type": "markdown",
   "id": "8ceda3d3",
   "metadata": {},
   "source": [
    "###### Definir el número de desviaciones típicas"
   ]
  },
  {
   "cell_type": "code",
   "execution_count": 193,
   "id": "2b7419cb",
   "metadata": {},
   "outputs": [],
   "source": [
    "num_desv_tip = 4"
   ]
  },
  {
   "cell_type": "markdown",
   "id": "942da237",
   "metadata": {},
   "source": [
    "###### Función que devuelve los índices de los atípicos"
   ]
  },
  {
   "cell_type": "code",
   "execution_count": 194,
   "id": "8a81f494",
   "metadata": {},
   "outputs": [],
   "source": [
    "def atipicos_desv_tip(variable, num_desv_tip = 4):\n",
    "    #sacamos los nulos por ahora\n",
    "    variable = variable.dropna()\n",
    "    #calculamos los límites\n",
    "    media = np.mean(variable)\n",
    "    sd = np.std(variable)\n",
    "    umbral = sd * num_desv_tip\n",
    "    lim_inf = media - umbral\n",
    "    lim_sup = media + umbral\n",
    "    #encontramos los índices de los que están fuera de los límites\n",
    "    indices = [indice for indice,valor in variable.items() if valor < lim_inf or valor > lim_sup]\n",
    "    return(indices)"
   ]
  },
  {
   "cell_type": "markdown",
   "id": "768e7398",
   "metadata": {},
   "source": [
    "###### Función que cuenta el número de atípicos"
   ]
  },
  {
   "cell_type": "code",
   "execution_count": 195,
   "id": "5c8f4462",
   "metadata": {},
   "outputs": [],
   "source": [
    "def conteo_atipicos(df,variable, num_desv_tip = 4):\n",
    "    atipicos = atipicos_desv_tip(df[variable], num_desv_tip)\n",
    "    return(df.loc[atipicos,variable].value_counts())"
   ]
  },
  {
   "cell_type": "markdown",
   "id": "5cd1e425",
   "metadata": {},
   "source": [
    "###### Variables a aplicar"
   ]
  },
  {
   "cell_type": "code",
   "execution_count": 196,
   "id": "cfbb3d88",
   "metadata": {},
   "outputs": [],
   "source": [
    "var_atipicos_dt = num.columns.tolist()"
   ]
  },
  {
   "cell_type": "markdown",
   "id": "ac400ced",
   "metadata": {},
   "source": [
    "###### Aplicar"
   ]
  },
  {
   "cell_type": "code",
   "execution_count": 197,
   "id": "c4b74e98",
   "metadata": {},
   "outputs": [
    {
     "name": "stdout",
     "output_type": "stream",
     "text": [
      "\n",
      "awnd:\n",
      "\n",
      "23.04    2\n",
      "22.59    1\n",
      "22.82    1\n",
      "21.70    1\n",
      "21.92    1\n",
      "Name: awnd, dtype: int64\n",
      "\n",
      "prcp:\n",
      "\n",
      "1.23    5\n",
      "1.15    5\n",
      "1.30    4\n",
      "1.25    4\n",
      "1.24    3\n",
      "       ..\n",
      "1.37    1\n",
      "1.41    1\n",
      "2.30    1\n",
      "1.49    1\n",
      "2.28    1\n",
      "Name: prcp, Length: 61, dtype: int64\n",
      "\n",
      "tmax:\n",
      "\n",
      "Series([], Name: tmax, dtype: int64)\n",
      "\n",
      "tmin:\n",
      "\n",
      "Series([], Name: tmin, dtype: int64)\n",
      "\n",
      "wdf2:\n",
      "\n",
      "Series([], Name: wdf2, dtype: int64)\n",
      "\n",
      "wdf5:\n",
      "\n",
      "Series([], Name: wdf5, dtype: int64)\n",
      "\n",
      "wsf2:\n",
      "\n",
      "44.1    8\n",
      "45.0    5\n",
      "46.1    2\n",
      "47.0    2\n",
      "48.1    1\n",
      "59.1    1\n",
      "Name: wsf2, dtype: int64\n",
      "\n",
      "wsf5:\n",
      "\n",
      "61.1     4\n",
      "64.0     2\n",
      "184.1    1\n",
      "68.9     1\n",
      "70.9     1\n",
      "66.0     1\n",
      "79.0     1\n",
      "62.0     1\n",
      "91.9     1\n",
      "Name: wsf5, dtype: int64\n"
     ]
    }
   ],
   "source": [
    "for variable in var_atipicos_dt:\n",
    "    print('\\n' + variable + ':\\n')\n",
    "    print(conteo_atipicos(num,variable,num_desv_tip))"
   ]
  },
  {
   "cell_type": "code",
   "execution_count": 200,
   "id": "141a8c43",
   "metadata": {},
   "outputs": [
    {
     "data": {
      "text/html": [
       "<div>\n",
       "<style scoped>\n",
       "    .dataframe tbody tr th:only-of-type {\n",
       "        vertical-align: middle;\n",
       "    }\n",
       "\n",
       "    .dataframe tbody tr th {\n",
       "        vertical-align: top;\n",
       "    }\n",
       "\n",
       "    .dataframe thead th {\n",
       "        text-align: right;\n",
       "    }\n",
       "</style>\n",
       "<table border=\"1\" class=\"dataframe\">\n",
       "  <thead>\n",
       "    <tr style=\"text-align: right;\">\n",
       "      <th></th>\n",
       "      <th>count</th>\n",
       "      <th>mean</th>\n",
       "      <th>std</th>\n",
       "      <th>min</th>\n",
       "      <th>25%</th>\n",
       "      <th>50%</th>\n",
       "      <th>75%</th>\n",
       "      <th>max</th>\n",
       "    </tr>\n",
       "  </thead>\n",
       "  <tbody>\n",
       "    <tr>\n",
       "      <th>awnd</th>\n",
       "      <td>8672.0</td>\n",
       "      <td>7.631846</td>\n",
       "      <td>3.414218</td>\n",
       "      <td>0.0</td>\n",
       "      <td>5.14</td>\n",
       "      <td>7.16</td>\n",
       "      <td>9.62</td>\n",
       "      <td>23.04</td>\n",
       "    </tr>\n",
       "    <tr>\n",
       "      <th>prcp</th>\n",
       "      <td>8672.0</td>\n",
       "      <td>0.105237</td>\n",
       "      <td>0.255378</td>\n",
       "      <td>0.0</td>\n",
       "      <td>0.00</td>\n",
       "      <td>0.00</td>\n",
       "      <td>0.07</td>\n",
       "      <td>4.12</td>\n",
       "    </tr>\n",
       "    <tr>\n",
       "      <th>tmax</th>\n",
       "      <td>8672.0</td>\n",
       "      <td>61.939057</td>\n",
       "      <td>19.131065</td>\n",
       "      <td>5.0</td>\n",
       "      <td>47.00</td>\n",
       "      <td>65.00</td>\n",
       "      <td>78.00</td>\n",
       "      <td>98.00</td>\n",
       "    </tr>\n",
       "    <tr>\n",
       "      <th>tmin</th>\n",
       "      <td>8672.0</td>\n",
       "      <td>43.727168</td>\n",
       "      <td>16.971253</td>\n",
       "      <td>-10.0</td>\n",
       "      <td>31.00</td>\n",
       "      <td>45.00</td>\n",
       "      <td>58.00</td>\n",
       "      <td>77.00</td>\n",
       "    </tr>\n",
       "    <tr>\n",
       "      <th>wdf2</th>\n",
       "      <td>8672.0</td>\n",
       "      <td>213.496022</td>\n",
       "      <td>87.894627</td>\n",
       "      <td>10.0</td>\n",
       "      <td>170.00</td>\n",
       "      <td>230.00</td>\n",
       "      <td>270.00</td>\n",
       "      <td>360.00</td>\n",
       "    </tr>\n",
       "    <tr>\n",
       "      <th>wdf5</th>\n",
       "      <td>8672.0</td>\n",
       "      <td>213.975438</td>\n",
       "      <td>87.713286</td>\n",
       "      <td>0.0</td>\n",
       "      <td>180.00</td>\n",
       "      <td>230.00</td>\n",
       "      <td>270.00</td>\n",
       "      <td>360.00</td>\n",
       "    </tr>\n",
       "    <tr>\n",
       "      <th>wsf2</th>\n",
       "      <td>8672.0</td>\n",
       "      <td>17.733055</td>\n",
       "      <td>6.350375</td>\n",
       "      <td>0.0</td>\n",
       "      <td>13.00</td>\n",
       "      <td>16.10</td>\n",
       "      <td>21.90</td>\n",
       "      <td>59.10</td>\n",
       "    </tr>\n",
       "    <tr>\n",
       "      <th>wsf5</th>\n",
       "      <td>8672.0</td>\n",
       "      <td>23.583458</td>\n",
       "      <td>9.188414</td>\n",
       "      <td>0.0</td>\n",
       "      <td>17.00</td>\n",
       "      <td>21.90</td>\n",
       "      <td>29.10</td>\n",
       "      <td>184.10</td>\n",
       "    </tr>\n",
       "  </tbody>\n",
       "</table>\n",
       "</div>"
      ],
      "text/plain": [
       "       count        mean        std   min     25%     50%     75%     max\n",
       "awnd  8672.0    7.631846   3.414218   0.0    5.14    7.16    9.62   23.04\n",
       "prcp  8672.0    0.105237   0.255378   0.0    0.00    0.00    0.07    4.12\n",
       "tmax  8672.0   61.939057  19.131065   5.0   47.00   65.00   78.00   98.00\n",
       "tmin  8672.0   43.727168  16.971253 -10.0   31.00   45.00   58.00   77.00\n",
       "wdf2  8672.0  213.496022  87.894627  10.0  170.00  230.00  270.00  360.00\n",
       "wdf5  8672.0  213.975438  87.713286   0.0  180.00  230.00  270.00  360.00\n",
       "wsf2  8672.0   17.733055   6.350375   0.0   13.00   16.10   21.90   59.10\n",
       "wsf5  8672.0   23.583458   9.188414   0.0   17.00   21.90   29.10  184.10"
      ]
     },
     "execution_count": 200,
     "metadata": {},
     "output_type": "execute_result"
    }
   ],
   "source": [
    "num.describe().T"
   ]
  },
  {
   "cell_type": "code",
   "execution_count": 203,
   "id": "2e1c2f38",
   "metadata": {},
   "outputs": [
    {
     "data": {
      "image/png": "[encoded data removed]",
      "text/plain": [
       "<Figure size 432x288 with 9 Axes>"
      ]
     },
     "metadata": {
      "needs_background": "light"
     },
     "output_type": "display_data"
    }
   ],
   "source": [
    "num.hist();"
   ]
  },
  {
   "cell_type": "code",
   "execution_count": 208,
   "id": "9132752f",
   "metadata": {},
   "outputs": [],
   "source": [
    "winsor_sup={\"prcp\":1.4,\"wsf2\":48,\"wsf5\":70}"
   ]
  },
  {
   "cell_type": "code",
   "execution_count": 217,
   "id": "5dc6be46",
   "metadata": {},
   "outputs": [
    {
     "data": {
      "text/plain": [
       "['prcp', 'wsf2', 'wsf5']"
      ]
     },
     "execution_count": 217,
     "metadata": {},
     "output_type": "execute_result"
    }
   ],
   "source": [
    "list(winsor_sup.keys())"
   ]
  },
  {
   "cell_type": "code",
   "execution_count": null,
   "id": "40323b21",
   "metadata": {},
   "outputs": [],
   "source": []
  },
  {
   "cell_type": "markdown",
   "id": "5197aae9",
   "metadata": {},
   "source": [
    "##### Corrección"
   ]
  },
  {
   "cell_type": "markdown",
   "id": "2b9255dd",
   "metadata": {},
   "source": [
    "Eliminar los registros que tengan al menos un atípico en alguna de las variables indicadas."
   ]
  },
  {
   "cell_type": "markdown",
   "id": "e1233b46",
   "metadata": {},
   "source": [
    "*Cuidado: Si se eliminan registros hay que eliminarlos tanto de cat como de num*"
   ]
  },
  {
   "cell_type": "markdown",
   "id": "18548d6d",
   "metadata": {},
   "source": [
    "###### Variables a aplicar"
   ]
  },
  {
   "cell_type": "code",
   "execution_count": 42,
   "id": "81e715d9",
   "metadata": {},
   "outputs": [],
   "source": [
    "# var_atipicos_dt = ['edad','num_contactos_esta_campana']"
   ]
  },
  {
   "cell_type": "markdown",
   "id": "b995bf77",
   "metadata": {},
   "source": [
    "###### Aplicar"
   ]
  },
  {
   "cell_type": "code",
   "execution_count": 209,
   "id": "413fa5ea",
   "metadata": {},
   "outputs": [],
   "source": [
    "# for variable in var_atipicos_dt:\n",
    "#     cat.drop(atipicos_desv_tip(num[variable], num_desv_tip),axis = 0, inplace = True)\n",
    "#     num.drop(atipicos_desv_tip(num[variable], num_desv_tip),axis = 0, inplace = True)"
   ]
  },
  {
   "cell_type": "markdown",
   "id": "47862bcf",
   "metadata": {},
   "source": [
    "#### Por winsorización manual para una variable"
   ]
  },
  {
   "cell_type": "markdown",
   "id": "963a3881",
   "metadata": {},
   "source": [
    "##### Identificación"
   ]
  },
  {
   "cell_type": "markdown",
   "id": "af41a20d",
   "metadata": {},
   "source": [
    "###### Variable a analizar"
   ]
  },
  {
   "cell_type": "code",
   "execution_count": 44,
   "id": "f90db9dc",
   "metadata": {},
   "outputs": [],
   "source": [
    "# variable = 'variacion_tasa_empleo'"
   ]
  },
  {
   "cell_type": "markdown",
   "id": "e0332345",
   "metadata": {},
   "source": [
    "###### Comprobar el mínimo y máximo actual"
   ]
  },
  {
   "cell_type": "code",
   "execution_count": 210,
   "id": "64d5394b",
   "metadata": {},
   "outputs": [],
   "source": [
    "# num[variable].describe().loc[['min','max']]"
   ]
  },
  {
   "cell_type": "markdown",
   "id": "28d07312",
   "metadata": {},
   "source": [
    "##### Corrección"
   ]
  },
  {
   "cell_type": "markdown",
   "id": "fbea3a26",
   "metadata": {},
   "source": [
    "###### Definir el mínimo y máximo tolerable."
   ]
  },
  {
   "cell_type": "code",
   "execution_count": 46,
   "id": "c8b2d8dc",
   "metadata": {},
   "outputs": [],
   "source": [
    "minimo = -20\n",
    "maximo = 10"
   ]
  },
  {
   "cell_type": "markdown",
   "id": "be19a3d1",
   "metadata": {},
   "source": [
    "###### Aplicar"
   ]
  },
  {
   "cell_type": "code",
   "execution_count": 212,
   "id": "a607d0dd",
   "metadata": {},
   "outputs": [],
   "source": [
    "for key, value in  winsor_sup.items():\n",
    "    num[key].clip(upper=value, inplace=True)"
   ]
  },
  {
   "cell_type": "code",
   "execution_count": 214,
   "id": "c8c67f73",
   "metadata": {},
   "outputs": [
    {
     "data": {
      "text/html": [
       "<div>\n",
       "<style scoped>\n",
       "    .dataframe tbody tr th:only-of-type {\n",
       "        vertical-align: middle;\n",
       "    }\n",
       "\n",
       "    .dataframe tbody tr th {\n",
       "        vertical-align: top;\n",
       "    }\n",
       "\n",
       "    .dataframe thead th {\n",
       "        text-align: right;\n",
       "    }\n",
       "</style>\n",
       "<table border=\"1\" class=\"dataframe\">\n",
       "  <thead>\n",
       "    <tr style=\"text-align: right;\">\n",
       "      <th></th>\n",
       "      <th>count</th>\n",
       "      <th>mean</th>\n",
       "      <th>std</th>\n",
       "      <th>min</th>\n",
       "      <th>25%</th>\n",
       "      <th>50%</th>\n",
       "      <th>75%</th>\n",
       "      <th>max</th>\n",
       "    </tr>\n",
       "  </thead>\n",
       "  <tbody>\n",
       "    <tr>\n",
       "      <th>awnd</th>\n",
       "      <td>8672.0</td>\n",
       "      <td>7.631846</td>\n",
       "      <td>3.414218</td>\n",
       "      <td>0.0</td>\n",
       "      <td>5.14</td>\n",
       "      <td>7.16</td>\n",
       "      <td>9.62</td>\n",
       "      <td>23.04</td>\n",
       "    </tr>\n",
       "    <tr>\n",
       "      <th>prcp</th>\n",
       "      <td>8672.0</td>\n",
       "      <td>0.102173</td>\n",
       "      <td>0.232597</td>\n",
       "      <td>0.0</td>\n",
       "      <td>0.00</td>\n",
       "      <td>0.00</td>\n",
       "      <td>0.07</td>\n",
       "      <td>1.40</td>\n",
       "    </tr>\n",
       "    <tr>\n",
       "      <th>tmax</th>\n",
       "      <td>8672.0</td>\n",
       "      <td>61.939057</td>\n",
       "      <td>19.131065</td>\n",
       "      <td>5.0</td>\n",
       "      <td>47.00</td>\n",
       "      <td>65.00</td>\n",
       "      <td>78.00</td>\n",
       "      <td>98.00</td>\n",
       "    </tr>\n",
       "    <tr>\n",
       "      <th>tmin</th>\n",
       "      <td>8672.0</td>\n",
       "      <td>43.727168</td>\n",
       "      <td>16.971253</td>\n",
       "      <td>-10.0</td>\n",
       "      <td>31.00</td>\n",
       "      <td>45.00</td>\n",
       "      <td>58.00</td>\n",
       "      <td>77.00</td>\n",
       "    </tr>\n",
       "    <tr>\n",
       "      <th>wdf2</th>\n",
       "      <td>8672.0</td>\n",
       "      <td>213.496022</td>\n",
       "      <td>87.894627</td>\n",
       "      <td>10.0</td>\n",
       "      <td>170.00</td>\n",
       "      <td>230.00</td>\n",
       "      <td>270.00</td>\n",
       "      <td>360.00</td>\n",
       "    </tr>\n",
       "    <tr>\n",
       "      <th>wdf5</th>\n",
       "      <td>8672.0</td>\n",
       "      <td>213.975438</td>\n",
       "      <td>87.713286</td>\n",
       "      <td>0.0</td>\n",
       "      <td>180.00</td>\n",
       "      <td>230.00</td>\n",
       "      <td>270.00</td>\n",
       "      <td>360.00</td>\n",
       "    </tr>\n",
       "    <tr>\n",
       "      <th>wsf2</th>\n",
       "      <td>8672.0</td>\n",
       "      <td>17.731763</td>\n",
       "      <td>6.343096</td>\n",
       "      <td>0.0</td>\n",
       "      <td>13.00</td>\n",
       "      <td>16.10</td>\n",
       "      <td>21.90</td>\n",
       "      <td>48.00</td>\n",
       "    </tr>\n",
       "    <tr>\n",
       "      <th>wsf5</th>\n",
       "      <td>8672.0</td>\n",
       "      <td>23.566634</td>\n",
       "      <td>9.016566</td>\n",
       "      <td>0.0</td>\n",
       "      <td>17.00</td>\n",
       "      <td>21.90</td>\n",
       "      <td>29.10</td>\n",
       "      <td>70.00</td>\n",
       "    </tr>\n",
       "  </tbody>\n",
       "</table>\n",
       "</div>"
      ],
      "text/plain": [
       "       count        mean        std   min     25%     50%     75%     max\n",
       "awnd  8672.0    7.631846   3.414218   0.0    5.14    7.16    9.62   23.04\n",
       "prcp  8672.0    0.102173   0.232597   0.0    0.00    0.00    0.07    1.40\n",
       "tmax  8672.0   61.939057  19.131065   5.0   47.00   65.00   78.00   98.00\n",
       "tmin  8672.0   43.727168  16.971253 -10.0   31.00   45.00   58.00   77.00\n",
       "wdf2  8672.0  213.496022  87.894627  10.0  170.00  230.00  270.00  360.00\n",
       "wdf5  8672.0  213.975438  87.713286   0.0  180.00  230.00  270.00  360.00\n",
       "wsf2  8672.0   17.731763   6.343096   0.0   13.00   16.10   21.90   48.00\n",
       "wsf5  8672.0   23.566634   9.016566   0.0   17.00   21.90   29.10   70.00"
      ]
     },
     "execution_count": 214,
     "metadata": {},
     "output_type": "execute_result"
    }
   ],
   "source": [
    "num.describe().T"
   ]
  },
  {
   "cell_type": "markdown",
   "id": "ec69099e",
   "metadata": {},
   "source": [
    "#### Por winsorización automática para múltiples variables"
   ]
  },
  {
   "cell_type": "markdown",
   "id": "49b8433c",
   "metadata": {},
   "source": [
    "##### Variables a winsorizar."
   ]
  },
  {
   "cell_type": "code",
   "execution_count": 48,
   "id": "e4b6c723",
   "metadata": {},
   "outputs": [],
   "source": [
    "# var_winsorizar = ['edad','num_contactos_esta_campana']"
   ]
  },
  {
   "cell_type": "markdown",
   "id": "9478239d",
   "metadata": {},
   "source": [
    "##### Definir los percentiles mínimos y máximos."
   ]
  },
  {
   "cell_type": "code",
   "execution_count": 49,
   "id": "0596e25f",
   "metadata": {},
   "outputs": [],
   "source": [
    "# p_min = 0.01\n",
    "# p_max = 0.99"
   ]
  },
  {
   "cell_type": "markdown",
   "id": "878af32b",
   "metadata": {},
   "source": [
    "##### Aplicar"
   ]
  },
  {
   "cell_type": "code",
   "execution_count": 50,
   "id": "b0317b54",
   "metadata": {},
   "outputs": [],
   "source": [
    "# for variable in var_winsorizar:\n",
    "#     num[variable].clip(lower = num[variable].quantile(p_min), \n",
    "#                        upper = num[variable].quantile(p_max), \n",
    "#                        inplace = True)"
   ]
  },
  {
   "cell_type": "markdown",
   "id": "0f6b1e4a",
   "metadata": {},
   "source": [
    "## GUARDAR DATASETS TRAS CALIDAD DE DATOS"
   ]
  },
  {
   "cell_type": "markdown",
   "id": "1e211b09",
   "metadata": {},
   "source": [
    "Guarda los avances en df, cat y num con un sufijo para poder guardar o recuperar avances del proyecto.\n",
    "\n",
    "En formato pickle para no perder las modificaciones de metadatos."
   ]
  },
  {
   "cell_type": "markdown",
   "id": "abb12eef",
   "metadata": {},
   "source": [
    "### Definir los nombres de los archivos"
   ]
  },
  {
   "cell_type": "code",
   "execution_count": 215,
   "id": "f83c6f26",
   "metadata": {},
   "outputs": [],
   "source": [
    "ruta_trabajo = ruta_proyecto + '/02_Datos/03_Trabajo/' + 'trabajo_resultado_calidad.pickle'\n",
    "ruta_cat = ruta_proyecto + '/02_Datos/03_Trabajo/' + 'cat_resultado_calidad.pickle'\n",
    "ruta_num = ruta_proyecto + '/02_Datos/03_Trabajo/' + 'num_resultado_calidad.pickle'"
   ]
  },
  {
   "cell_type": "markdown",
   "id": "1699f284",
   "metadata": {},
   "source": [
    "### Guardar los archivos"
   ]
  },
  {
   "cell_type": "code",
   "execution_count": 216,
   "id": "6731887a",
   "metadata": {},
   "outputs": [],
   "source": [
    "df.to_pickle(ruta_trabajo)\n",
    "cat.to_pickle(ruta_cat)\n",
    "num.to_pickle(ruta_num)"
   ]
  },
  {
   "cell_type": "code",
   "execution_count": null,
   "id": "1c58d0a8",
   "metadata": {},
   "outputs": [],
   "source": []
  },
  {
   "cell_type": "code",
   "execution_count": null,
   "id": "b349b9c4",
   "metadata": {},
   "outputs": [],
   "source": []
  }
 ],
 "metadata": {
  "kernelspec": {
   "display_name": "Python 3 (ipykernel)",
   "language": "python",
   "name": "python3"
  },
  "language_info": {
   "codemirror_mode": {
    "name": "ipython",
    "version": 3
   },
   "file_extension": ".py",
   "mimetype": "text/x-python",
   "name": "python",
   "nbconvert_exporter": "python",
   "pygments_lexer": "ipython3",
   "version": "3.9.7"
  },
  "toc": {
   "base_numbering": 1,
   "nav_menu": {},
   "number_sections": true,
   "sideBar": true,
   "skip_h1_title": false,
   "title_cell": "Table of Contents",
   "title_sidebar": "Contents",
   "toc_cell": false,
   "toc_position": {
    "height": "calc(100% - 180px)",
    "left": "10px",
    "top": "150px",
    "width": "406.5px"
   },
   "toc_section_display": true,
   "toc_window_display": true
  },
  "varInspector": {
   "cols": {
    "lenName": 16,
    "lenType": 16,
    "lenVar": 40
   },
   "kernels_config": {
    "python": {
     "delete_cmd_postfix": "",
     "delete_cmd_prefix": "del ",
     "library": "var_list.py",
     "varRefreshCmd": "print(var_dic_list())"
    },
    "r": {
     "delete_cmd_postfix": ") ",
     "delete_cmd_prefix": "rm(",
     "library": "var_list.r",
     "varRefreshCmd": "cat(var_dic_list()) "
    }
   },
   "position": {
    "height": "546.85px",
    "left": "680.75px",
    "right": "20px",
    "top": "118px",
    "width": "350px"
   },
   "types_to_exclude": [
    "module",
    "function",
    "builtin_function_or_method",
    "instance",
    "_Feature"
   ],
   "window_display": false
  }
 },
 "nbformat": 4,
 "nbformat_minor": 5
}
