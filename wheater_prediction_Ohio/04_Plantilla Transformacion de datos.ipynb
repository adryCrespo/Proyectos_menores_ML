{
 "cells": [
  {
   "cell_type": "markdown",
   "id": "d31dea65",
   "metadata": {},
   "source": [
    "# PLANTILLA TRANSFORMACIÓN DE DATOS"
   ]
  },
  {
   "cell_type": "markdown",
   "id": "a18ebc17",
   "metadata": {},
   "source": [
    "**IMPORTANTE**: Recuerda hacer una copia de esta plantilla para no machacar la original."
   ]
  },
  {
   "cell_type": "markdown",
   "id": "swiss-fault",
   "metadata": {},
   "source": [
    "## IMPORTAR PAQUETES"
   ]
  },
  {
   "cell_type": "code",
   "execution_count": 5,
   "id": "adjacent-toddler",
   "metadata": {},
   "outputs": [
    {
     "name": "stderr",
     "output_type": "stream",
     "text": [
      "C:\\Users\\acrespod\\Anaconda3\\lib\\site-packages\\scipy\\__init__.py:146: UserWarning: A NumPy version >=1.16.5 and <1.23.0 is required for this version of SciPy (detected version 1.23.1\n",
      "  warnings.warn(f\"A NumPy version >={np_minversion} and <{np_maxversion}\"\n"
     ]
    }
   ],
   "source": [
    "import numpy as np\n",
    "import pandas as pd\n",
    "import matplotlib.pyplot as plt\n",
    "%matplotlib inline\n",
    "from sklearn.preprocessing import OneHotEncoder\n",
    "from sklearn.preprocessing import OrdinalEncoder\n",
    "from sklearn.preprocessing import LabelEncoder\n",
    "from category_encoders import TargetEncoder\n",
    "from sklearn.preprocessing import KBinsDiscretizer\n",
    "from sklearn.preprocessing import Binarizer\n",
    "from sklearn.preprocessing import PowerTransformer\n",
    "from sklearn.preprocessing import QuantileTransformer\n",
    "from sklearn.feature_extraction.text import CountVectorizer\n",
    "from sklearn.feature_extraction.text import TfidfVectorizer\n",
    "from sklearn.preprocessing import MinMaxScaler\n",
    "from sklearn.preprocessing import StandardScaler\n",
    "from sklearn.preprocessing import RobustScaler\n",
    "from sklearn.preprocessing import MaxAbsScaler\n",
    "from imblearn.under_sampling import RandomUnderSampler\n",
    "from imblearn.over_sampling import RandomOverSampler\n",
    "\n",
    "#Automcompletar rápido\n",
    "%config IPCompleter.greedy=True"
   ]
  },
  {
   "cell_type": "markdown",
   "id": "graduate-compensation",
   "metadata": {},
   "source": [
    "## IMPORTAR LOS DATOS"
   ]
  },
  {
   "cell_type": "markdown",
   "id": "3a5b94ef",
   "metadata": {},
   "source": [
    "1.- Sustituir la ruta del proyecto."
   ]
  },
  {
   "cell_type": "code",
   "execution_count": 1,
   "id": "f9d2de58",
   "metadata": {},
   "outputs": [],
   "source": [
    "ruta_proyecto = 'C:/proyectos/weather_ohio/'"
   ]
  },
  {
   "cell_type": "markdown",
   "id": "c3363765",
   "metadata": {},
   "source": [
    "2.- Nombrar los ficheros de datos."
   ]
  },
  {
   "cell_type": "code",
   "execution_count": 2,
   "id": "a9e2e04a",
   "metadata": {},
   "outputs": [],
   "source": [
    "nombre_cat = 'cat_resultado_eda.pickle'\n",
    "nombre_num = 'num_resultado_eda.pickle'"
   ]
  },
  {
   "cell_type": "markdown",
   "id": "b9825018",
   "metadata": {},
   "source": [
    "3.- Cargar los datos."
   ]
  },
  {
   "cell_type": "code",
   "execution_count": 74,
   "id": "cab6ebcd",
   "metadata": {},
   "outputs": [],
   "source": [
    "# cat = pd.read_pickle(ruta_proyecto + '/02_Datos/03_Trabajo/' + nombre_cat).reset_index(drop = False)\n",
    "num = pd.read_pickle(ruta_proyecto + '/02_Datos/03_Trabajo/' + nombre_num)\n",
    "df = num.copy()\n"
   ]
  },
  {
   "cell_type": "markdown",
   "id": "a1350902",
   "metadata": {},
   "source": [
    "4.- Separar la target."
   ]
  },
  {
   "cell_type": "code",
   "execution_count": 12,
   "id": "095b0ef2",
   "metadata": {},
   "outputs": [],
   "source": [
    "# target = num[['contrata_fondos']].copy().reset_index(drop=True)"
   ]
  },
  {
   "cell_type": "markdown",
   "id": "03a0208a",
   "metadata": {},
   "source": [
    "# NUEVAS VARIABLES"
   ]
  },
  {
   "cell_type": "markdown",
   "id": "5e46257f",
   "metadata": {},
   "source": [
    "- extraccion componentes temporales: df_temp\n",
    "- variables lags\n",
    "- target"
   ]
  },
  {
   "cell_type": "code",
   "execution_count": 75,
   "id": "9a7e815c",
   "metadata": {},
   "outputs": [
    {
     "data": {
      "text/html": [
       "<div>\n",
       "<style scoped>\n",
       "    .dataframe tbody tr th:only-of-type {\n",
       "        vertical-align: middle;\n",
       "    }\n",
       "\n",
       "    .dataframe tbody tr th {\n",
       "        vertical-align: top;\n",
       "    }\n",
       "\n",
       "    .dataframe thead th {\n",
       "        text-align: right;\n",
       "    }\n",
       "</style>\n",
       "<table border=\"1\" class=\"dataframe\">\n",
       "  <thead>\n",
       "    <tr style=\"text-align: right;\">\n",
       "      <th></th>\n",
       "      <th>awnd</th>\n",
       "      <th>prcp</th>\n",
       "      <th>tmax</th>\n",
       "      <th>tmin</th>\n",
       "      <th>wdf2</th>\n",
       "      <th>wdf5</th>\n",
       "      <th>wsf2</th>\n",
       "      <th>wsf5</th>\n",
       "    </tr>\n",
       "    <tr>\n",
       "      <th>DATE</th>\n",
       "      <th></th>\n",
       "      <th></th>\n",
       "      <th></th>\n",
       "      <th></th>\n",
       "      <th></th>\n",
       "      <th></th>\n",
       "      <th></th>\n",
       "      <th></th>\n",
       "    </tr>\n",
       "  </thead>\n",
       "  <tbody>\n",
       "    <tr>\n",
       "      <th>1998-03-26</th>\n",
       "      <td>11.63</td>\n",
       "      <td>0.23</td>\n",
       "      <td>25.000000</td>\n",
       "      <td>8.888889</td>\n",
       "      <td>250.0</td>\n",
       "      <td>250.0</td>\n",
       "      <td>29.1</td>\n",
       "      <td>36.0</td>\n",
       "    </tr>\n",
       "    <tr>\n",
       "      <th>1998-03-27</th>\n",
       "      <td>11.63</td>\n",
       "      <td>0.23</td>\n",
       "      <td>26.666667</td>\n",
       "      <td>17.777778</td>\n",
       "      <td>250.0</td>\n",
       "      <td>250.0</td>\n",
       "      <td>29.1</td>\n",
       "      <td>36.0</td>\n",
       "    </tr>\n",
       "    <tr>\n",
       "      <th>1998-03-28</th>\n",
       "      <td>11.63</td>\n",
       "      <td>0.23</td>\n",
       "      <td>25.555556</td>\n",
       "      <td>16.111111</td>\n",
       "      <td>250.0</td>\n",
       "      <td>250.0</td>\n",
       "      <td>29.1</td>\n",
       "      <td>36.0</td>\n",
       "    </tr>\n",
       "    <tr>\n",
       "      <th>1998-03-29</th>\n",
       "      <td>11.63</td>\n",
       "      <td>0.23</td>\n",
       "      <td>26.111111</td>\n",
       "      <td>15.000000</td>\n",
       "      <td>250.0</td>\n",
       "      <td>250.0</td>\n",
       "      <td>29.1</td>\n",
       "      <td>36.0</td>\n",
       "    </tr>\n",
       "    <tr>\n",
       "      <th>1998-04-01</th>\n",
       "      <td>11.63</td>\n",
       "      <td>0.23</td>\n",
       "      <td>21.666667</td>\n",
       "      <td>10.000000</td>\n",
       "      <td>250.0</td>\n",
       "      <td>250.0</td>\n",
       "      <td>29.1</td>\n",
       "      <td>36.0</td>\n",
       "    </tr>\n",
       "    <tr>\n",
       "      <th>...</th>\n",
       "      <td>...</td>\n",
       "      <td>...</td>\n",
       "      <td>...</td>\n",
       "      <td>...</td>\n",
       "      <td>...</td>\n",
       "      <td>...</td>\n",
       "      <td>...</td>\n",
       "      <td>...</td>\n",
       "    </tr>\n",
       "    <tr>\n",
       "      <th>2021-12-27</th>\n",
       "      <td>9.62</td>\n",
       "      <td>0.40</td>\n",
       "      <td>15.000000</td>\n",
       "      <td>1.666667</td>\n",
       "      <td>80.0</td>\n",
       "      <td>280.0</td>\n",
       "      <td>21.9</td>\n",
       "      <td>30.0</td>\n",
       "    </tr>\n",
       "    <tr>\n",
       "      <th>2021-12-28</th>\n",
       "      <td>7.38</td>\n",
       "      <td>0.29</td>\n",
       "      <td>11.666667</td>\n",
       "      <td>3.333333</td>\n",
       "      <td>300.0</td>\n",
       "      <td>300.0</td>\n",
       "      <td>21.0</td>\n",
       "      <td>29.1</td>\n",
       "    </tr>\n",
       "    <tr>\n",
       "      <th>2021-12-29</th>\n",
       "      <td>4.03</td>\n",
       "      <td>0.05</td>\n",
       "      <td>10.000000</td>\n",
       "      <td>6.111111</td>\n",
       "      <td>230.0</td>\n",
       "      <td>220.0</td>\n",
       "      <td>13.0</td>\n",
       "      <td>16.1</td>\n",
       "    </tr>\n",
       "    <tr>\n",
       "      <th>2021-12-30</th>\n",
       "      <td>5.37</td>\n",
       "      <td>0.04</td>\n",
       "      <td>13.333333</td>\n",
       "      <td>6.666667</td>\n",
       "      <td>220.0</td>\n",
       "      <td>210.0</td>\n",
       "      <td>13.0</td>\n",
       "      <td>17.0</td>\n",
       "    </tr>\n",
       "    <tr>\n",
       "      <th>2021-12-31</th>\n",
       "      <td>6.93</td>\n",
       "      <td>0.03</td>\n",
       "      <td>13.333333</td>\n",
       "      <td>8.888889</td>\n",
       "      <td>180.0</td>\n",
       "      <td>190.0</td>\n",
       "      <td>16.1</td>\n",
       "      <td>23.0</td>\n",
       "    </tr>\n",
       "  </tbody>\n",
       "</table>\n",
       "<p>8672 rows × 8 columns</p>\n",
       "</div>"
      ],
      "text/plain": [
       "             awnd  prcp       tmax       tmin   wdf2   wdf5  wsf2  wsf5\n",
       "DATE                                                                   \n",
       "1998-03-26  11.63  0.23  25.000000   8.888889  250.0  250.0  29.1  36.0\n",
       "1998-03-27  11.63  0.23  26.666667  17.777778  250.0  250.0  29.1  36.0\n",
       "1998-03-28  11.63  0.23  25.555556  16.111111  250.0  250.0  29.1  36.0\n",
       "1998-03-29  11.63  0.23  26.111111  15.000000  250.0  250.0  29.1  36.0\n",
       "1998-04-01  11.63  0.23  21.666667  10.000000  250.0  250.0  29.1  36.0\n",
       "...           ...   ...        ...        ...    ...    ...   ...   ...\n",
       "2021-12-27   9.62  0.40  15.000000   1.666667   80.0  280.0  21.9  30.0\n",
       "2021-12-28   7.38  0.29  11.666667   3.333333  300.0  300.0  21.0  29.1\n",
       "2021-12-29   4.03  0.05  10.000000   6.111111  230.0  220.0  13.0  16.1\n",
       "2021-12-30   5.37  0.04  13.333333   6.666667  220.0  210.0  13.0  17.0\n",
       "2021-12-31   6.93  0.03  13.333333   8.888889  180.0  190.0  16.1  23.0\n",
       "\n",
       "[8672 rows x 8 columns]"
      ]
     },
     "execution_count": 75,
     "metadata": {},
     "output_type": "execute_result"
    }
   ],
   "source": [
    "df"
   ]
  },
  {
   "cell_type": "markdown",
   "id": "5ecd359c",
   "metadata": {},
   "source": [
    "## Extraccion temporal"
   ]
  },
  {
   "cell_type": "code",
   "execution_count": 133,
   "id": "f69e8eda",
   "metadata": {},
   "outputs": [
    {
     "data": {
      "text/html": [
       "<div>\n",
       "<style scoped>\n",
       "    .dataframe tbody tr th:only-of-type {\n",
       "        vertical-align: middle;\n",
       "    }\n",
       "\n",
       "    .dataframe tbody tr th {\n",
       "        vertical-align: top;\n",
       "    }\n",
       "\n",
       "    .dataframe thead th {\n",
       "        text-align: right;\n",
       "    }\n",
       "</style>\n",
       "<table border=\"1\" class=\"dataframe\">\n",
       "  <thead>\n",
       "    <tr style=\"text-align: right;\">\n",
       "      <th></th>\n",
       "      <th>year</th>\n",
       "      <th>month</th>\n",
       "      <th>day</th>\n",
       "      <th>year_month</th>\n",
       "    </tr>\n",
       "    <tr>\n",
       "      <th>DATE</th>\n",
       "      <th></th>\n",
       "      <th></th>\n",
       "      <th></th>\n",
       "      <th></th>\n",
       "    </tr>\n",
       "  </thead>\n",
       "  <tbody>\n",
       "    <tr>\n",
       "      <th>1998-03-26</th>\n",
       "      <td>1998</td>\n",
       "      <td>3</td>\n",
       "      <td>85</td>\n",
       "      <td>1998-03</td>\n",
       "    </tr>\n",
       "    <tr>\n",
       "      <th>1998-03-27</th>\n",
       "      <td>1998</td>\n",
       "      <td>3</td>\n",
       "      <td>86</td>\n",
       "      <td>1998-03</td>\n",
       "    </tr>\n",
       "    <tr>\n",
       "      <th>1998-03-28</th>\n",
       "      <td>1998</td>\n",
       "      <td>3</td>\n",
       "      <td>87</td>\n",
       "      <td>1998-03</td>\n",
       "    </tr>\n",
       "    <tr>\n",
       "      <th>1998-03-29</th>\n",
       "      <td>1998</td>\n",
       "      <td>3</td>\n",
       "      <td>88</td>\n",
       "      <td>1998-03</td>\n",
       "    </tr>\n",
       "    <tr>\n",
       "      <th>1998-04-01</th>\n",
       "      <td>1998</td>\n",
       "      <td>4</td>\n",
       "      <td>91</td>\n",
       "      <td>1998-04</td>\n",
       "    </tr>\n",
       "  </tbody>\n",
       "</table>\n",
       "</div>"
      ],
      "text/plain": [
       "            year  month  day year_month\n",
       "DATE                                   \n",
       "1998-03-26  1998      3   85    1998-03\n",
       "1998-03-27  1998      3   86    1998-03\n",
       "1998-03-28  1998      3   87    1998-03\n",
       "1998-03-29  1998      3   88    1998-03\n",
       "1998-04-01  1998      4   91    1998-04"
      ]
     },
     "execution_count": 133,
     "metadata": {},
     "output_type": "execute_result"
    }
   ],
   "source": [
    "def extraccion_componentes_temporales(df):\n",
    "    \n",
    "    year =  df.DATE.dt.year\n",
    "    month = df.DATE.dt.month\n",
    "    day = df.DATE.dt.dayofyear\n",
    "    year_month = df.DATE.dt.to_period(\"M\")\n",
    "    \n",
    "    year.name = 'year'\n",
    "    month.name = 'month'\n",
    "    day.name = 'day'\n",
    "    year_month.name = 'year_month'\n",
    "    \n",
    "    temp = pd.concat([year,month,day,year_month],axis=1)\n",
    "    temp.index = df.DATE\n",
    "    \n",
    "    return temp\n",
    "\n",
    "df_temp = extraccion_componentes_temporales(df.reset_index())\n",
    "df_temp.head()"
   ]
  },
  {
   "cell_type": "markdown",
   "id": "ab3af1ed",
   "metadata": {},
   "source": [
    "## tmax_mes _año"
   ]
  },
  {
   "cell_type": "code",
   "execution_count": 163,
   "id": "eee62bda",
   "metadata": {},
   "outputs": [],
   "source": [
    "#mes"
   ]
  },
  {
   "cell_type": "code",
   "execution_count": 198,
   "id": "de35775e",
   "metadata": {},
   "outputs": [
    {
     "data": {
      "text/html": [
       "<div>\n",
       "<style scoped>\n",
       "    .dataframe tbody tr th:only-of-type {\n",
       "        vertical-align: middle;\n",
       "    }\n",
       "\n",
       "    .dataframe tbody tr th {\n",
       "        vertical-align: top;\n",
       "    }\n",
       "\n",
       "    .dataframe thead th {\n",
       "        text-align: right;\n",
       "    }\n",
       "</style>\n",
       "<table border=\"1\" class=\"dataframe\">\n",
       "  <thead>\n",
       "    <tr style=\"text-align: right;\">\n",
       "      <th></th>\n",
       "      <th>DATE</th>\n",
       "      <th>year</th>\n",
       "      <th>month</th>\n",
       "      <th>day</th>\n",
       "      <th>year_month</th>\n",
       "      <th>tmax_mensual</th>\n",
       "    </tr>\n",
       "  </thead>\n",
       "  <tbody>\n",
       "    <tr>\n",
       "      <th>0</th>\n",
       "      <td>1998-03-26</td>\n",
       "      <td>1998</td>\n",
       "      <td>3</td>\n",
       "      <td>85</td>\n",
       "      <td>1998-03</td>\n",
       "      <td>NaN</td>\n",
       "    </tr>\n",
       "    <tr>\n",
       "      <th>1</th>\n",
       "      <td>1998-03-27</td>\n",
       "      <td>1998</td>\n",
       "      <td>3</td>\n",
       "      <td>86</td>\n",
       "      <td>1998-03</td>\n",
       "      <td>NaN</td>\n",
       "    </tr>\n",
       "    <tr>\n",
       "      <th>2</th>\n",
       "      <td>1998-03-28</td>\n",
       "      <td>1998</td>\n",
       "      <td>3</td>\n",
       "      <td>87</td>\n",
       "      <td>1998-03</td>\n",
       "      <td>NaN</td>\n",
       "    </tr>\n",
       "    <tr>\n",
       "      <th>3</th>\n",
       "      <td>1998-03-29</td>\n",
       "      <td>1998</td>\n",
       "      <td>3</td>\n",
       "      <td>88</td>\n",
       "      <td>1998-03</td>\n",
       "      <td>NaN</td>\n",
       "    </tr>\n",
       "    <tr>\n",
       "      <th>4</th>\n",
       "      <td>1998-04-01</td>\n",
       "      <td>1998</td>\n",
       "      <td>4</td>\n",
       "      <td>91</td>\n",
       "      <td>1998-04</td>\n",
       "      <td>25.833333</td>\n",
       "    </tr>\n",
       "    <tr>\n",
       "      <th>...</th>\n",
       "      <td>...</td>\n",
       "      <td>...</td>\n",
       "      <td>...</td>\n",
       "      <td>...</td>\n",
       "      <td>...</td>\n",
       "      <td>...</td>\n",
       "    </tr>\n",
       "    <tr>\n",
       "      <th>8667</th>\n",
       "      <td>2021-12-27</td>\n",
       "      <td>2021</td>\n",
       "      <td>12</td>\n",
       "      <td>361</td>\n",
       "      <td>2021-12</td>\n",
       "      <td>10.314815</td>\n",
       "    </tr>\n",
       "    <tr>\n",
       "      <th>8668</th>\n",
       "      <td>2021-12-28</td>\n",
       "      <td>2021</td>\n",
       "      <td>12</td>\n",
       "      <td>362</td>\n",
       "      <td>2021-12</td>\n",
       "      <td>10.314815</td>\n",
       "    </tr>\n",
       "    <tr>\n",
       "      <th>8669</th>\n",
       "      <td>2021-12-29</td>\n",
       "      <td>2021</td>\n",
       "      <td>12</td>\n",
       "      <td>363</td>\n",
       "      <td>2021-12</td>\n",
       "      <td>10.314815</td>\n",
       "    </tr>\n",
       "    <tr>\n",
       "      <th>8670</th>\n",
       "      <td>2021-12-30</td>\n",
       "      <td>2021</td>\n",
       "      <td>12</td>\n",
       "      <td>364</td>\n",
       "      <td>2021-12</td>\n",
       "      <td>10.314815</td>\n",
       "    </tr>\n",
       "    <tr>\n",
       "      <th>8671</th>\n",
       "      <td>2021-12-31</td>\n",
       "      <td>2021</td>\n",
       "      <td>12</td>\n",
       "      <td>365</td>\n",
       "      <td>2021-12</td>\n",
       "      <td>10.314815</td>\n",
       "    </tr>\n",
       "  </tbody>\n",
       "</table>\n",
       "<p>8672 rows × 6 columns</p>\n",
       "</div>"
      ],
      "text/plain": [
       "           DATE  year  month  day year_month  tmax_mensual\n",
       "0    1998-03-26  1998      3   85    1998-03           NaN\n",
       "1    1998-03-27  1998      3   86    1998-03           NaN\n",
       "2    1998-03-28  1998      3   87    1998-03           NaN\n",
       "3    1998-03-29  1998      3   88    1998-03           NaN\n",
       "4    1998-04-01  1998      4   91    1998-04     25.833333\n",
       "...         ...   ...    ...  ...        ...           ...\n",
       "8667 2021-12-27  2021     12  361    2021-12     10.314815\n",
       "8668 2021-12-28  2021     12  362    2021-12     10.314815\n",
       "8669 2021-12-29  2021     12  363    2021-12     10.314815\n",
       "8670 2021-12-30  2021     12  364    2021-12     10.314815\n",
       "8671 2021-12-31  2021     12  365    2021-12     10.314815\n",
       "\n",
       "[8672 rows x 6 columns]"
      ]
     },
     "execution_count": 198,
     "metadata": {},
     "output_type": "execute_result"
    }
   ],
   "source": [
    "# tmax_mensual: pone una tmax media de un mes N en todos los registros del mes n+1\n",
    "df1 = pd.concat([df,df_temp],axis=1)\n",
    "df2 = df1[['year_month','month','year','tmax']]\n",
    "df3 = df2.groupby(['year_month'],as_index=False).apply(lambda x: x.tmax.mean() )\n",
    "\n",
    "df3.columns = ['year_month','tmax_mensual']\n",
    "df3.set_index('year_month',inplace=True)\n",
    "df3a = df3.shift(1).reset_index()\n",
    "df4 = df_temp.reset_index().merge(df3a, how='left',left_on='year_month' ,right_on='year_month')\n",
    "df4"
   ]
  },
  {
   "cell_type": "code",
   "execution_count": 204,
   "id": "3d53017c",
   "metadata": {},
   "outputs": [
    {
     "data": {
      "text/html": [
       "<div>\n",
       "<style scoped>\n",
       "    .dataframe tbody tr th:only-of-type {\n",
       "        vertical-align: middle;\n",
       "    }\n",
       "\n",
       "    .dataframe tbody tr th {\n",
       "        vertical-align: top;\n",
       "    }\n",
       "\n",
       "    .dataframe thead th {\n",
       "        text-align: right;\n",
       "    }\n",
       "</style>\n",
       "<table border=\"1\" class=\"dataframe\">\n",
       "  <thead>\n",
       "    <tr style=\"text-align: right;\">\n",
       "      <th></th>\n",
       "      <th>DATE</th>\n",
       "      <th>year</th>\n",
       "      <th>month</th>\n",
       "      <th>day</th>\n",
       "      <th>year_month</th>\n",
       "      <th>tmax_mensual</th>\n",
       "    </tr>\n",
       "  </thead>\n",
       "  <tbody>\n",
       "    <tr>\n",
       "      <th>0</th>\n",
       "      <td>1998-03-26</td>\n",
       "      <td>1998</td>\n",
       "      <td>3</td>\n",
       "      <td>85</td>\n",
       "      <td>1998-03</td>\n",
       "      <td>NaN</td>\n",
       "    </tr>\n",
       "    <tr>\n",
       "      <th>1</th>\n",
       "      <td>1998-03-27</td>\n",
       "      <td>1998</td>\n",
       "      <td>3</td>\n",
       "      <td>86</td>\n",
       "      <td>1998-03</td>\n",
       "      <td>NaN</td>\n",
       "    </tr>\n",
       "    <tr>\n",
       "      <th>2</th>\n",
       "      <td>1998-03-28</td>\n",
       "      <td>1998</td>\n",
       "      <td>3</td>\n",
       "      <td>87</td>\n",
       "      <td>1998-03</td>\n",
       "      <td>NaN</td>\n",
       "    </tr>\n",
       "    <tr>\n",
       "      <th>3</th>\n",
       "      <td>1998-03-29</td>\n",
       "      <td>1998</td>\n",
       "      <td>3</td>\n",
       "      <td>88</td>\n",
       "      <td>1998-03</td>\n",
       "      <td>NaN</td>\n",
       "    </tr>\n",
       "    <tr>\n",
       "      <th>4</th>\n",
       "      <td>1998-04-01</td>\n",
       "      <td>1998</td>\n",
       "      <td>4</td>\n",
       "      <td>91</td>\n",
       "      <td>1998-04</td>\n",
       "      <td>NaN</td>\n",
       "    </tr>\n",
       "    <tr>\n",
       "      <th>...</th>\n",
       "      <td>...</td>\n",
       "      <td>...</td>\n",
       "      <td>...</td>\n",
       "      <td>...</td>\n",
       "      <td>...</td>\n",
       "      <td>...</td>\n",
       "    </tr>\n",
       "    <tr>\n",
       "      <th>8667</th>\n",
       "      <td>2021-12-27</td>\n",
       "      <td>2021</td>\n",
       "      <td>12</td>\n",
       "      <td>361</td>\n",
       "      <td>2021-12</td>\n",
       "      <td>4.641577</td>\n",
       "    </tr>\n",
       "    <tr>\n",
       "      <th>8668</th>\n",
       "      <td>2021-12-28</td>\n",
       "      <td>2021</td>\n",
       "      <td>12</td>\n",
       "      <td>362</td>\n",
       "      <td>2021-12</td>\n",
       "      <td>4.641577</td>\n",
       "    </tr>\n",
       "    <tr>\n",
       "      <th>8669</th>\n",
       "      <td>2021-12-29</td>\n",
       "      <td>2021</td>\n",
       "      <td>12</td>\n",
       "      <td>363</td>\n",
       "      <td>2021-12</td>\n",
       "      <td>4.641577</td>\n",
       "    </tr>\n",
       "    <tr>\n",
       "      <th>8670</th>\n",
       "      <td>2021-12-30</td>\n",
       "      <td>2021</td>\n",
       "      <td>12</td>\n",
       "      <td>364</td>\n",
       "      <td>2021-12</td>\n",
       "      <td>4.641577</td>\n",
       "    </tr>\n",
       "    <tr>\n",
       "      <th>8671</th>\n",
       "      <td>2021-12-31</td>\n",
       "      <td>2021</td>\n",
       "      <td>12</td>\n",
       "      <td>365</td>\n",
       "      <td>2021-12</td>\n",
       "      <td>4.641577</td>\n",
       "    </tr>\n",
       "  </tbody>\n",
       "</table>\n",
       "<p>8672 rows × 6 columns</p>\n",
       "</div>"
      ],
      "text/plain": [
       "           DATE  year  month  day year_month  tmax_mensual\n",
       "0    1998-03-26  1998      3   85    1998-03           NaN\n",
       "1    1998-03-27  1998      3   86    1998-03           NaN\n",
       "2    1998-03-28  1998      3   87    1998-03           NaN\n",
       "3    1998-03-29  1998      3   88    1998-03           NaN\n",
       "4    1998-04-01  1998      4   91    1998-04           NaN\n",
       "...         ...   ...    ...  ...        ...           ...\n",
       "8667 2021-12-27  2021     12  361    2021-12      4.641577\n",
       "8668 2021-12-28  2021     12  362    2021-12      4.641577\n",
       "8669 2021-12-29  2021     12  363    2021-12      4.641577\n",
       "8670 2021-12-30  2021     12  364    2021-12      4.641577\n",
       "8671 2021-12-31  2021     12  365    2021-12      4.641577\n",
       "\n",
       "[8672 rows x 6 columns]"
      ]
     },
     "execution_count": 204,
     "metadata": {},
     "output_type": "execute_result"
    }
   ],
   "source": [
    "# tmax_anual: tmax media de los registro de n mes , se pone todo los registros del mismo mes el año siguiente\n",
    "df3b = df3.shift(12).reset_index()\n",
    "df4b = df_temp.reset_index().merge(df3b, how='left',left_on='year_month' ,right_on='year_month')\n",
    "df4b"
   ]
  },
  {
   "cell_type": "markdown",
   "id": "8b5da5fb",
   "metadata": {},
   "source": [
    "## variables lag"
   ]
  },
  {
   "cell_type": "code",
   "execution_count": 49,
   "id": "e208cba6",
   "metadata": {},
   "outputs": [
    {
     "data": {
      "text/html": [
       "<div>\n",
       "<style scoped>\n",
       "    .dataframe tbody tr th:only-of-type {\n",
       "        vertical-align: middle;\n",
       "    }\n",
       "\n",
       "    .dataframe tbody tr th {\n",
       "        vertical-align: top;\n",
       "    }\n",
       "\n",
       "    .dataframe thead th {\n",
       "        text-align: right;\n",
       "    }\n",
       "</style>\n",
       "<table border=\"1\" class=\"dataframe\">\n",
       "  <thead>\n",
       "    <tr style=\"text-align: right;\">\n",
       "      <th></th>\n",
       "      <th>prcp_attributes</th>\n",
       "      <th>awnd</th>\n",
       "      <th>prcp</th>\n",
       "      <th>tmax</th>\n",
       "      <th>tmin</th>\n",
       "      <th>wdf2</th>\n",
       "      <th>wdf5</th>\n",
       "      <th>wsf2</th>\n",
       "      <th>wsf5</th>\n",
       "    </tr>\n",
       "    <tr>\n",
       "      <th>DATE</th>\n",
       "      <th></th>\n",
       "      <th></th>\n",
       "      <th></th>\n",
       "      <th></th>\n",
       "      <th></th>\n",
       "      <th></th>\n",
       "      <th></th>\n",
       "      <th></th>\n",
       "      <th></th>\n",
       "    </tr>\n",
       "  </thead>\n",
       "  <tbody>\n",
       "    <tr>\n",
       "      <th>1998-03-26</th>\n",
       "      <td>,,W,2400</td>\n",
       "      <td>11.63</td>\n",
       "      <td>0.23</td>\n",
       "      <td>25.000000</td>\n",
       "      <td>8.888889</td>\n",
       "      <td>250.0</td>\n",
       "      <td>250.0</td>\n",
       "      <td>29.1</td>\n",
       "      <td>36.0</td>\n",
       "    </tr>\n",
       "    <tr>\n",
       "      <th>1998-03-27</th>\n",
       "      <td>,,W,2400</td>\n",
       "      <td>11.63</td>\n",
       "      <td>0.23</td>\n",
       "      <td>26.666667</td>\n",
       "      <td>17.777778</td>\n",
       "      <td>250.0</td>\n",
       "      <td>250.0</td>\n",
       "      <td>29.1</td>\n",
       "      <td>36.0</td>\n",
       "    </tr>\n",
       "    <tr>\n",
       "      <th>1998-03-28</th>\n",
       "      <td>,,W,2400</td>\n",
       "      <td>11.63</td>\n",
       "      <td>0.23</td>\n",
       "      <td>25.555556</td>\n",
       "      <td>16.111111</td>\n",
       "      <td>250.0</td>\n",
       "      <td>250.0</td>\n",
       "      <td>29.1</td>\n",
       "      <td>36.0</td>\n",
       "    </tr>\n",
       "    <tr>\n",
       "      <th>1998-03-29</th>\n",
       "      <td>,,W,2400</td>\n",
       "      <td>11.63</td>\n",
       "      <td>0.23</td>\n",
       "      <td>26.111111</td>\n",
       "      <td>15.000000</td>\n",
       "      <td>250.0</td>\n",
       "      <td>250.0</td>\n",
       "      <td>29.1</td>\n",
       "      <td>36.0</td>\n",
       "    </tr>\n",
       "    <tr>\n",
       "      <th>1998-04-01</th>\n",
       "      <td>,,W,2400</td>\n",
       "      <td>11.63</td>\n",
       "      <td>0.23</td>\n",
       "      <td>21.666667</td>\n",
       "      <td>10.000000</td>\n",
       "      <td>250.0</td>\n",
       "      <td>250.0</td>\n",
       "      <td>29.1</td>\n",
       "      <td>36.0</td>\n",
       "    </tr>\n",
       "    <tr>\n",
       "      <th>1998-04-02</th>\n",
       "      <td>,,W,2400</td>\n",
       "      <td>11.41</td>\n",
       "      <td>0.00</td>\n",
       "      <td>11.666667</td>\n",
       "      <td>6.666667</td>\n",
       "      <td>250.0</td>\n",
       "      <td>260.0</td>\n",
       "      <td>25.1</td>\n",
       "      <td>33.1</td>\n",
       "    </tr>\n",
       "    <tr>\n",
       "      <th>1998-04-03</th>\n",
       "      <td>T,,W,2400</td>\n",
       "      <td>5.59</td>\n",
       "      <td>0.00</td>\n",
       "      <td>12.222222</td>\n",
       "      <td>1.666667</td>\n",
       "      <td>30.0</td>\n",
       "      <td>40.0</td>\n",
       "      <td>17.0</td>\n",
       "      <td>21.0</td>\n",
       "    </tr>\n",
       "  </tbody>\n",
       "</table>\n",
       "</div>"
      ],
      "text/plain": [
       "           prcp_attributes   awnd  prcp       tmax       tmin   wdf2   wdf5  \\\n",
       "DATE                                                                          \n",
       "1998-03-26        ,,W,2400  11.63  0.23  25.000000   8.888889  250.0  250.0   \n",
       "1998-03-27        ,,W,2400  11.63  0.23  26.666667  17.777778  250.0  250.0   \n",
       "1998-03-28        ,,W,2400  11.63  0.23  25.555556  16.111111  250.0  250.0   \n",
       "1998-03-29        ,,W,2400  11.63  0.23  26.111111  15.000000  250.0  250.0   \n",
       "1998-04-01        ,,W,2400  11.63  0.23  21.666667  10.000000  250.0  250.0   \n",
       "1998-04-02        ,,W,2400  11.41  0.00  11.666667   6.666667  250.0  260.0   \n",
       "1998-04-03       T,,W,2400   5.59  0.00  12.222222   1.666667   30.0   40.0   \n",
       "\n",
       "            wsf2  wsf5  \n",
       "DATE                    \n",
       "1998-03-26  29.1  36.0  \n",
       "1998-03-27  29.1  36.0  \n",
       "1998-03-28  29.1  36.0  \n",
       "1998-03-29  29.1  36.0  \n",
       "1998-04-01  29.1  36.0  \n",
       "1998-04-02  25.1  33.1  \n",
       "1998-04-03  17.0  21.0  "
      ]
     },
     "execution_count": 49,
     "metadata": {},
     "output_type": "execute_result"
    }
   ],
   "source": [
    "df2 = df.loc[:'1998-04-03'].copy()\n",
    "df2"
   ]
  },
  {
   "cell_type": "code",
   "execution_count": 98,
   "id": "c7c03090",
   "metadata": {},
   "outputs": [],
   "source": [
    "def lag_variable(variable, n=10):\n",
    "    lista = []\n",
    "    temp = pd.DataFrame()\n",
    "    for i in range(1,n+1):\n",
    "        temp[variable.name +f\"_{i}\"] = variable.shift(i)\n",
    "    \n",
    "    return temp\n",
    "        \n",
    "dias_lag=7    \n",
    "df_awnd = lag_variable(df.awnd,n= dias_lag)\n",
    "df_prcp = lag_variable(df.prcp,n= dias_lag)\n",
    "df_tmin = lag_variable(df.tmin,n= dias_lag)\n",
    "df_wdf2 = lag_variable(df.wdf2,n= dias_lag)\n",
    "df_wdf5 = lag_variable(df.wdf5,n= dias_lag)\n",
    "df_wsf2 = lag_variable(df.wsf2,n= dias_lag)\n",
    "df_wsf5 = lag_variable(df.wsf5,n= dias_lag)\n",
    "\n",
    "df_tmax = lag_variable(df.tmax,n= dias_lag)\n"
   ]
  },
  {
   "cell_type": "markdown",
   "id": "c9eca915",
   "metadata": {},
   "source": [
    "## rolling variables"
   ]
  },
  {
   "cell_type": "code",
   "execution_count": 91,
   "id": "caa643d6",
   "metadata": {},
   "outputs": [],
   "source": [
    "def min_movil(df, variable, num_periodos = 7):\n",
    "\n",
    "    minm = pd.DataFrame()\n",
    "    \n",
    "    for cada in range(2,num_periodos+1):\n",
    "        minm[variable + '_minm_' + str(cada)] = df[variable].shift(1).rolling(cada).min()\n",
    "    \n",
    "    #Devuelve el dataframe de lags\n",
    "    return(minm)\n",
    "\n",
    "###################################\n",
    "\n",
    "def media_movil(df, variable, num_periodos = 7):\n",
    "\n",
    "    mm = pd.DataFrame()\n",
    "    \n",
    "    for cada in range(2,num_periodos+1):\n",
    "        mm[variable + '_mm_' + str(cada)] = df[variable].shift(1).rolling(cada).mean()\n",
    "    \n",
    "    #Devuelve el dataframe de lags\n",
    "    return(mm)\n",
    "\n",
    "######################################\n",
    "\n",
    "def max_movil(df, variable, num_periodos = 7):\n",
    "\n",
    "    maxm = pd.DataFrame()\n",
    "    \n",
    "    for cada in range(2,num_periodos+1):\n",
    "        maxm[variable + '_maxm_' + str(cada)] = df[variable].shift(1).rolling(cada).max()\n",
    "    \n",
    "    #Devuelve el dataframe de lags\n",
    "    return(maxm)"
   ]
  },
  {
   "cell_type": "code",
   "execution_count": 99,
   "id": "5e078a94",
   "metadata": {},
   "outputs": [],
   "source": [
    "df_tmax_maxm = df.transform(lambda x: max_movil(x,'tmax',num_periodos =7))\n",
    "df_tmax_minm = df.transform(lambda x: min_movil(x,'tmax',num_periodos =7))\n",
    "df_tmax_mm = df.transform(lambda x: media_movil(x,'tmax',num_periodos =7))\n",
    "\n",
    "\n"
   ]
  },
  {
   "cell_type": "markdown",
   "id": "f9cac53d",
   "metadata": {},
   "source": [
    "## Union"
   ]
  },
  {
   "cell_type": "code",
   "execution_count": 272,
   "id": "135a3bca",
   "metadata": {},
   "outputs": [
    {
     "data": {
      "text/plain": [
       "(8672, 80)"
      ]
     },
     "execution_count": 272,
     "metadata": {},
     "output_type": "execute_result"
    }
   ],
   "source": [
    "# no he metido tmax_anual por ahora, quitaria un año de registros\n",
    "df_lag = pd.concat([df_awnd, df_prcp, df_tmin, df_wdf2, df_wdf5, df_wsf2, df_wsf5, df_tmax],axis=1)\n",
    "df_moviles = pd.concat([df_tmax_maxm,df_tmax_minm, df_tmax_mm ],axis=1)\n",
    "df_target = df[['tmax']].rename(columns = {'tmax':'target'})\n",
    "\n",
    "df_final = pd.concat([df4.set_index('DATE'),df_lag,df_moviles,df_target],axis=1)\n",
    "df_final.shape"
   ]
  },
  {
   "cell_type": "code",
   "execution_count": 273,
   "id": "ecc0f086",
   "metadata": {},
   "outputs": [],
   "source": [
    "df_final.dropna(inplace=True)"
   ]
  },
  {
   "cell_type": "code",
   "execution_count": 274,
   "id": "bba227a3",
   "metadata": {},
   "outputs": [
    {
     "data": {
      "text/html": [
       "<div>\n",
       "<style scoped>\n",
       "    .dataframe tbody tr th:only-of-type {\n",
       "        vertical-align: middle;\n",
       "    }\n",
       "\n",
       "    .dataframe tbody tr th {\n",
       "        vertical-align: top;\n",
       "    }\n",
       "\n",
       "    .dataframe thead th {\n",
       "        text-align: right;\n",
       "    }\n",
       "</style>\n",
       "<table border=\"1\" class=\"dataframe\">\n",
       "  <thead>\n",
       "    <tr style=\"text-align: right;\">\n",
       "      <th></th>\n",
       "      <th>year</th>\n",
       "      <th>month</th>\n",
       "      <th>day</th>\n",
       "      <th>year_month</th>\n",
       "      <th>tmax_mensual</th>\n",
       "      <th>awnd_1</th>\n",
       "      <th>awnd_2</th>\n",
       "      <th>awnd_3</th>\n",
       "      <th>awnd_4</th>\n",
       "      <th>awnd_5</th>\n",
       "      <th>...</th>\n",
       "      <th>tmax_minm_5</th>\n",
       "      <th>tmax_minm_6</th>\n",
       "      <th>tmax_minm_7</th>\n",
       "      <th>tmax_mm_2</th>\n",
       "      <th>tmax_mm_3</th>\n",
       "      <th>tmax_mm_4</th>\n",
       "      <th>tmax_mm_5</th>\n",
       "      <th>tmax_mm_6</th>\n",
       "      <th>tmax_mm_7</th>\n",
       "      <th>target</th>\n",
       "    </tr>\n",
       "    <tr>\n",
       "      <th>DATE</th>\n",
       "      <th></th>\n",
       "      <th></th>\n",
       "      <th></th>\n",
       "      <th></th>\n",
       "      <th></th>\n",
       "      <th></th>\n",
       "      <th></th>\n",
       "      <th></th>\n",
       "      <th></th>\n",
       "      <th></th>\n",
       "      <th></th>\n",
       "      <th></th>\n",
       "      <th></th>\n",
       "      <th></th>\n",
       "      <th></th>\n",
       "      <th></th>\n",
       "      <th></th>\n",
       "      <th></th>\n",
       "      <th></th>\n",
       "      <th></th>\n",
       "      <th></th>\n",
       "    </tr>\n",
       "  </thead>\n",
       "  <tbody>\n",
       "    <tr>\n",
       "      <th>1998-04-04</th>\n",
       "      <td>1998</td>\n",
       "      <td>4</td>\n",
       "      <td>94</td>\n",
       "      <td>1998-04</td>\n",
       "      <td>25.833333</td>\n",
       "      <td>5.590</td>\n",
       "      <td>11.410</td>\n",
       "      <td>11.63</td>\n",
       "      <td>11.63</td>\n",
       "      <td>11.63</td>\n",
       "      <td>...</td>\n",
       "      <td>11.666667</td>\n",
       "      <td>11.666667</td>\n",
       "      <td>11.666667</td>\n",
       "      <td>11.944444</td>\n",
       "      <td>15.185185</td>\n",
       "      <td>17.916667</td>\n",
       "      <td>19.444444</td>\n",
       "      <td>20.648148</td>\n",
       "      <td>21.269841</td>\n",
       "      <td>8.333333</td>\n",
       "    </tr>\n",
       "    <tr>\n",
       "      <th>1998-04-05</th>\n",
       "      <td>1998</td>\n",
       "      <td>4</td>\n",
       "      <td>95</td>\n",
       "      <td>1998-04</td>\n",
       "      <td>25.833333</td>\n",
       "      <td>14.990</td>\n",
       "      <td>5.590</td>\n",
       "      <td>11.41</td>\n",
       "      <td>11.63</td>\n",
       "      <td>11.63</td>\n",
       "      <td>...</td>\n",
       "      <td>8.333333</td>\n",
       "      <td>8.333333</td>\n",
       "      <td>8.333333</td>\n",
       "      <td>10.277778</td>\n",
       "      <td>10.740741</td>\n",
       "      <td>13.472222</td>\n",
       "      <td>16.000000</td>\n",
       "      <td>17.592593</td>\n",
       "      <td>18.888889</td>\n",
       "      <td>12.222222</td>\n",
       "    </tr>\n",
       "    <tr>\n",
       "      <th>1998-04-07</th>\n",
       "      <td>1998</td>\n",
       "      <td>4</td>\n",
       "      <td>97</td>\n",
       "      <td>1998-04</td>\n",
       "      <td>25.833333</td>\n",
       "      <td>7.830</td>\n",
       "      <td>14.990</td>\n",
       "      <td>5.59</td>\n",
       "      <td>11.41</td>\n",
       "      <td>11.63</td>\n",
       "      <td>...</td>\n",
       "      <td>8.333333</td>\n",
       "      <td>8.333333</td>\n",
       "      <td>8.333333</td>\n",
       "      <td>10.277778</td>\n",
       "      <td>10.925926</td>\n",
       "      <td>11.111111</td>\n",
       "      <td>13.222222</td>\n",
       "      <td>15.370370</td>\n",
       "      <td>16.825397</td>\n",
       "      <td>16.666667</td>\n",
       "    </tr>\n",
       "    <tr>\n",
       "      <th>1998-04-08</th>\n",
       "      <td>1998</td>\n",
       "      <td>4</td>\n",
       "      <td>98</td>\n",
       "      <td>1998-04</td>\n",
       "      <td>25.833333</td>\n",
       "      <td>8.055</td>\n",
       "      <td>7.830</td>\n",
       "      <td>14.99</td>\n",
       "      <td>5.59</td>\n",
       "      <td>11.41</td>\n",
       "      <td>...</td>\n",
       "      <td>8.333333</td>\n",
       "      <td>8.333333</td>\n",
       "      <td>8.333333</td>\n",
       "      <td>14.444444</td>\n",
       "      <td>12.407407</td>\n",
       "      <td>12.361111</td>\n",
       "      <td>12.222222</td>\n",
       "      <td>13.796296</td>\n",
       "      <td>15.555556</td>\n",
       "      <td>21.111111</td>\n",
       "    </tr>\n",
       "    <tr>\n",
       "      <th>1998-04-09</th>\n",
       "      <td>1998</td>\n",
       "      <td>4</td>\n",
       "      <td>99</td>\n",
       "      <td>1998-04</td>\n",
       "      <td>25.833333</td>\n",
       "      <td>8.280</td>\n",
       "      <td>8.055</td>\n",
       "      <td>7.83</td>\n",
       "      <td>14.99</td>\n",
       "      <td>5.59</td>\n",
       "      <td>...</td>\n",
       "      <td>8.333333</td>\n",
       "      <td>8.333333</td>\n",
       "      <td>8.333333</td>\n",
       "      <td>18.888889</td>\n",
       "      <td>16.666667</td>\n",
       "      <td>14.583333</td>\n",
       "      <td>14.111111</td>\n",
       "      <td>13.703704</td>\n",
       "      <td>14.841270</td>\n",
       "      <td>17.222222</td>\n",
       "    </tr>\n",
       "    <tr>\n",
       "      <th>...</th>\n",
       "      <td>...</td>\n",
       "      <td>...</td>\n",
       "      <td>...</td>\n",
       "      <td>...</td>\n",
       "      <td>...</td>\n",
       "      <td>...</td>\n",
       "      <td>...</td>\n",
       "      <td>...</td>\n",
       "      <td>...</td>\n",
       "      <td>...</td>\n",
       "      <td>...</td>\n",
       "      <td>...</td>\n",
       "      <td>...</td>\n",
       "      <td>...</td>\n",
       "      <td>...</td>\n",
       "      <td>...</td>\n",
       "      <td>...</td>\n",
       "      <td>...</td>\n",
       "      <td>...</td>\n",
       "      <td>...</td>\n",
       "      <td>...</td>\n",
       "    </tr>\n",
       "    <tr>\n",
       "      <th>2021-12-27</th>\n",
       "      <td>2021</td>\n",
       "      <td>12</td>\n",
       "      <td>361</td>\n",
       "      <td>2021-12</td>\n",
       "      <td>10.314815</td>\n",
       "      <td>6.260</td>\n",
       "      <td>12.080</td>\n",
       "      <td>11.41</td>\n",
       "      <td>8.28</td>\n",
       "      <td>10.51</td>\n",
       "      <td>...</td>\n",
       "      <td>2.222222</td>\n",
       "      <td>2.222222</td>\n",
       "      <td>2.222222</td>\n",
       "      <td>12.777778</td>\n",
       "      <td>13.333333</td>\n",
       "      <td>12.361111</td>\n",
       "      <td>10.333333</td>\n",
       "      <td>9.814815</td>\n",
       "      <td>9.126984</td>\n",
       "      <td>15.000000</td>\n",
       "    </tr>\n",
       "    <tr>\n",
       "      <th>2021-12-28</th>\n",
       "      <td>2021</td>\n",
       "      <td>12</td>\n",
       "      <td>362</td>\n",
       "      <td>2021-12</td>\n",
       "      <td>10.314815</td>\n",
       "      <td>9.620</td>\n",
       "      <td>6.260</td>\n",
       "      <td>12.08</td>\n",
       "      <td>11.41</td>\n",
       "      <td>8.28</td>\n",
       "      <td>...</td>\n",
       "      <td>9.444444</td>\n",
       "      <td>2.222222</td>\n",
       "      <td>2.222222</td>\n",
       "      <td>12.777778</td>\n",
       "      <td>13.518519</td>\n",
       "      <td>13.750000</td>\n",
       "      <td>12.888889</td>\n",
       "      <td>11.111111</td>\n",
       "      <td>10.555556</td>\n",
       "      <td>11.666667</td>\n",
       "    </tr>\n",
       "    <tr>\n",
       "      <th>2021-12-29</th>\n",
       "      <td>2021</td>\n",
       "      <td>12</td>\n",
       "      <td>363</td>\n",
       "      <td>2021-12</td>\n",
       "      <td>10.314815</td>\n",
       "      <td>7.380</td>\n",
       "      <td>9.620</td>\n",
       "      <td>6.26</td>\n",
       "      <td>12.08</td>\n",
       "      <td>11.41</td>\n",
       "      <td>...</td>\n",
       "      <td>10.555556</td>\n",
       "      <td>9.444444</td>\n",
       "      <td>2.222222</td>\n",
       "      <td>13.333333</td>\n",
       "      <td>12.407407</td>\n",
       "      <td>13.055556</td>\n",
       "      <td>13.333333</td>\n",
       "      <td>12.685185</td>\n",
       "      <td>11.190476</td>\n",
       "      <td>10.000000</td>\n",
       "    </tr>\n",
       "    <tr>\n",
       "      <th>2021-12-30</th>\n",
       "      <td>2021</td>\n",
       "      <td>12</td>\n",
       "      <td>364</td>\n",
       "      <td>2021-12</td>\n",
       "      <td>10.314815</td>\n",
       "      <td>4.030</td>\n",
       "      <td>7.380</td>\n",
       "      <td>9.62</td>\n",
       "      <td>6.26</td>\n",
       "      <td>12.08</td>\n",
       "      <td>...</td>\n",
       "      <td>10.000000</td>\n",
       "      <td>10.000000</td>\n",
       "      <td>9.444444</td>\n",
       "      <td>10.833333</td>\n",
       "      <td>12.222222</td>\n",
       "      <td>11.805556</td>\n",
       "      <td>12.444444</td>\n",
       "      <td>12.777778</td>\n",
       "      <td>12.301587</td>\n",
       "      <td>13.333333</td>\n",
       "    </tr>\n",
       "    <tr>\n",
       "      <th>2021-12-31</th>\n",
       "      <td>2021</td>\n",
       "      <td>12</td>\n",
       "      <td>365</td>\n",
       "      <td>2021-12</td>\n",
       "      <td>10.314815</td>\n",
       "      <td>5.370</td>\n",
       "      <td>4.030</td>\n",
       "      <td>7.38</td>\n",
       "      <td>9.62</td>\n",
       "      <td>6.26</td>\n",
       "      <td>...</td>\n",
       "      <td>10.000000</td>\n",
       "      <td>10.000000</td>\n",
       "      <td>10.000000</td>\n",
       "      <td>11.666667</td>\n",
       "      <td>11.666667</td>\n",
       "      <td>12.500000</td>\n",
       "      <td>12.111111</td>\n",
       "      <td>12.592593</td>\n",
       "      <td>12.857143</td>\n",
       "      <td>13.333333</td>\n",
       "    </tr>\n",
       "  </tbody>\n",
       "</table>\n",
       "<p>8665 rows × 80 columns</p>\n",
       "</div>"
      ],
      "text/plain": [
       "            year  month  day year_month  tmax_mensual  awnd_1  awnd_2  awnd_3  \\\n",
       "DATE                                                                            \n",
       "1998-04-04  1998      4   94    1998-04     25.833333   5.590  11.410   11.63   \n",
       "1998-04-05  1998      4   95    1998-04     25.833333  14.990   5.590   11.41   \n",
       "1998-04-07  1998      4   97    1998-04     25.833333   7.830  14.990    5.59   \n",
       "1998-04-08  1998      4   98    1998-04     25.833333   8.055   7.830   14.99   \n",
       "1998-04-09  1998      4   99    1998-04     25.833333   8.280   8.055    7.83   \n",
       "...          ...    ...  ...        ...           ...     ...     ...     ...   \n",
       "2021-12-27  2021     12  361    2021-12     10.314815   6.260  12.080   11.41   \n",
       "2021-12-28  2021     12  362    2021-12     10.314815   9.620   6.260   12.08   \n",
       "2021-12-29  2021     12  363    2021-12     10.314815   7.380   9.620    6.26   \n",
       "2021-12-30  2021     12  364    2021-12     10.314815   4.030   7.380    9.62   \n",
       "2021-12-31  2021     12  365    2021-12     10.314815   5.370   4.030    7.38   \n",
       "\n",
       "            awnd_4  awnd_5  ...  tmax_minm_5  tmax_minm_6  tmax_minm_7  \\\n",
       "DATE                        ...                                          \n",
       "1998-04-04   11.63   11.63  ...    11.666667    11.666667    11.666667   \n",
       "1998-04-05   11.63   11.63  ...     8.333333     8.333333     8.333333   \n",
       "1998-04-07   11.41   11.63  ...     8.333333     8.333333     8.333333   \n",
       "1998-04-08    5.59   11.41  ...     8.333333     8.333333     8.333333   \n",
       "1998-04-09   14.99    5.59  ...     8.333333     8.333333     8.333333   \n",
       "...            ...     ...  ...          ...          ...          ...   \n",
       "2021-12-27    8.28   10.51  ...     2.222222     2.222222     2.222222   \n",
       "2021-12-28   11.41    8.28  ...     9.444444     2.222222     2.222222   \n",
       "2021-12-29   12.08   11.41  ...    10.555556     9.444444     2.222222   \n",
       "2021-12-30    6.26   12.08  ...    10.000000    10.000000     9.444444   \n",
       "2021-12-31    9.62    6.26  ...    10.000000    10.000000    10.000000   \n",
       "\n",
       "            tmax_mm_2  tmax_mm_3  tmax_mm_4  tmax_mm_5  tmax_mm_6  tmax_mm_7  \\\n",
       "DATE                                                                           \n",
       "1998-04-04  11.944444  15.185185  17.916667  19.444444  20.648148  21.269841   \n",
       "1998-04-05  10.277778  10.740741  13.472222  16.000000  17.592593  18.888889   \n",
       "1998-04-07  10.277778  10.925926  11.111111  13.222222  15.370370  16.825397   \n",
       "1998-04-08  14.444444  12.407407  12.361111  12.222222  13.796296  15.555556   \n",
       "1998-04-09  18.888889  16.666667  14.583333  14.111111  13.703704  14.841270   \n",
       "...               ...        ...        ...        ...        ...        ...   \n",
       "2021-12-27  12.777778  13.333333  12.361111  10.333333   9.814815   9.126984   \n",
       "2021-12-28  12.777778  13.518519  13.750000  12.888889  11.111111  10.555556   \n",
       "2021-12-29  13.333333  12.407407  13.055556  13.333333  12.685185  11.190476   \n",
       "2021-12-30  10.833333  12.222222  11.805556  12.444444  12.777778  12.301587   \n",
       "2021-12-31  11.666667  11.666667  12.500000  12.111111  12.592593  12.857143   \n",
       "\n",
       "               target  \n",
       "DATE                   \n",
       "1998-04-04   8.333333  \n",
       "1998-04-05  12.222222  \n",
       "1998-04-07  16.666667  \n",
       "1998-04-08  21.111111  \n",
       "1998-04-09  17.222222  \n",
       "...               ...  \n",
       "2021-12-27  15.000000  \n",
       "2021-12-28  11.666667  \n",
       "2021-12-29  10.000000  \n",
       "2021-12-30  13.333333  \n",
       "2021-12-31  13.333333  \n",
       "\n",
       "[8665 rows x 80 columns]"
      ]
     },
     "execution_count": 274,
     "metadata": {},
     "output_type": "execute_result"
    }
   ],
   "source": [
    "df_final"
   ]
  },
  {
   "cell_type": "markdown",
   "id": "9790d322",
   "metadata": {},
   "source": [
    "## TRANSFORMACIÓN DE CATEGÓRICAS"
   ]
  },
  {
   "cell_type": "markdown",
   "id": "f1fa5201",
   "metadata": {},
   "source": [
    "### One Hot Encoding"
   ]
  },
  {
   "cell_type": "markdown",
   "id": "da9b786a",
   "metadata": {},
   "source": [
    "#### Variables a aplicar OHE"
   ]
  },
  {
   "cell_type": "code",
   "execution_count": 30,
   "id": "6e36cf47",
   "metadata": {},
   "outputs": [],
   "source": [
    "# var_ohe = ['estado_civil','hipoteca','impago','consumo']"
   ]
  },
  {
   "cell_type": "markdown",
   "id": "db8d4634",
   "metadata": {},
   "source": [
    "#### Instanciar"
   ]
  },
  {
   "cell_type": "code",
   "execution_count": 31,
   "id": "e75c2ee4",
   "metadata": {},
   "outputs": [],
   "source": [
    "# ohe = OneHotEncoder(sparse = False, handle_unknown='ignore')"
   ]
  },
  {
   "cell_type": "markdown",
   "id": "26c9f58f",
   "metadata": {},
   "source": [
    "#### Entrenar y aplicar"
   ]
  },
  {
   "cell_type": "code",
   "execution_count": 32,
   "id": "4162d5a7",
   "metadata": {},
   "outputs": [],
   "source": [
    "# cat_ohe = ohe.fit_transform(cat[var_ohe])"
   ]
  },
  {
   "cell_type": "markdown",
   "id": "c9131f15",
   "metadata": {},
   "source": [
    "#### Guardar como dataframe"
   ]
  },
  {
   "cell_type": "code",
   "execution_count": 33,
   "id": "783255d7",
   "metadata": {},
   "outputs": [],
   "source": [
    "# cat_ohe = pd.DataFrame(cat_ohe, columns = ohe.get_feature_names_out())"
   ]
  },
  {
   "cell_type": "markdown",
   "id": "5e7c941a",
   "metadata": {},
   "source": [
    "### Ordinal Encoding"
   ]
  },
  {
   "cell_type": "markdown",
   "id": "c49c4a51",
   "metadata": {},
   "source": [
    "#### Variables a aplicar OE"
   ]
  },
  {
   "cell_type": "code",
   "execution_count": 34,
   "id": "8a09974e",
   "metadata": {},
   "outputs": [],
   "source": [
    "# var_oe = ['formacion','resultado_campana_anterior']"
   ]
  },
  {
   "cell_type": "markdown",
   "id": "6922c091",
   "metadata": {},
   "source": [
    "#### Orden de los valores de las variables"
   ]
  },
  {
   "cell_type": "code",
   "execution_count": 35,
   "id": "428dfe69",
   "metadata": {},
   "outputs": [],
   "source": [
    "#Orden de la primera variable\n",
    "# orden_formacion = ['NULO','illiterate','basic.4y','basic.6y','basic.9y','high.school','professional.course','university.degree']\n",
    "\n",
    "# #Orden de la segunda variable\n",
    "# orden_resultado_campana_anterior = ['nonexistent','failure','success']"
   ]
  },
  {
   "cell_type": "markdown",
   "id": "3b38879c",
   "metadata": {},
   "source": [
    "\n",
    "#### Instanciar"
   ]
  },
  {
   "cell_type": "code",
   "execution_count": 36,
   "id": "4fe57c80",
   "metadata": {},
   "outputs": [],
   "source": [
    "# oe = OrdinalEncoder(categories = [orden_formacion,orden_resultado_campana_anterior],\n",
    "#                     handle_unknown = 'use_encoded_value',\n",
    "#                     unknown_value = 10)"
   ]
  },
  {
   "cell_type": "markdown",
   "id": "0aeff907",
   "metadata": {},
   "source": [
    "\n",
    "#### Entrenar y aplicar"
   ]
  },
  {
   "cell_type": "code",
   "execution_count": 228,
   "id": "dbeafa81",
   "metadata": {},
   "outputs": [],
   "source": [
    "# cat_oe = oe.fit_transform(cat[var_oe])"
   ]
  },
  {
   "cell_type": "markdown",
   "id": "df479d84",
   "metadata": {},
   "source": [
    "#### Guardar como dataframe"
   ]
  },
  {
   "cell_type": "code",
   "execution_count": 38,
   "id": "bd1db401",
   "metadata": {},
   "outputs": [],
   "source": [
    "# #Añadir sufijos a los nombres\n",
    "# nombres_oe = [variable + '_oe' for variable in var_oe]\n",
    "\n",
    "# #Guardar como dataframe\n",
    "# cat_oe = pd.DataFrame(cat_oe, columns = nombres_oe)"
   ]
  },
  {
   "cell_type": "markdown",
   "id": "be5ec0ae",
   "metadata": {},
   "source": [
    "### Target Encoding"
   ]
  },
  {
   "cell_type": "markdown",
   "id": "320bbcb7",
   "metadata": {},
   "source": [
    "#### Variables a aplicar TE"
   ]
  },
  {
   "cell_type": "code",
   "execution_count": 39,
   "id": "3544bb26",
   "metadata": {},
   "outputs": [],
   "source": [
    "# var_te = ['trabajo','mes']"
   ]
  },
  {
   "cell_type": "markdown",
   "id": "0d66cf0d",
   "metadata": {},
   "source": [
    "#### Instanciar"
   ]
  },
  {
   "cell_type": "code",
   "execution_count": 40,
   "id": "0d214b55",
   "metadata": {},
   "outputs": [],
   "source": [
    "# te = TargetEncoder(min_samples_leaf=100, return_df = False)"
   ]
  },
  {
   "cell_type": "markdown",
   "id": "65ea9fb7",
   "metadata": {},
   "source": [
    "#### Entrenar y aplicar"
   ]
  },
  {
   "cell_type": "code",
   "execution_count": 41,
   "id": "aabd67d6",
   "metadata": {},
   "outputs": [],
   "source": [
    "# cat_te = te.fit_transform(cat[var_te], y = target)"
   ]
  },
  {
   "cell_type": "markdown",
   "id": "d8423376",
   "metadata": {},
   "source": [
    "#### Guardar como dataframe"
   ]
  },
  {
   "cell_type": "code",
   "execution_count": 42,
   "id": "9a188ce9",
   "metadata": {},
   "outputs": [],
   "source": [
    "#Añadir sufijos a los nombres\n",
    "# nombres_te = [variable + '_te' for variable in var_te]\n",
    "\n",
    "# #Guardar como dataframe\n",
    "# cat_te = pd.DataFrame(cat_te, columns = nombres_te)"
   ]
  },
  {
   "cell_type": "markdown",
   "id": "a6d9a823",
   "metadata": {},
   "source": [
    "### Fechas y textos"
   ]
  },
  {
   "cell_type": "markdown",
   "id": "db3a2e2c",
   "metadata": {},
   "source": [
    "Estas variables requieren transformaciones más ad-hoc y no tan susceptibles de aplicar mediante una plantilla.\n",
    "\n",
    "Acudir a su correspondientes notebooks para recordar los recursos para trabajarlas.\n",
    "\n",
    "No obstante esta plantilla contiene esta sección para recordar que aquí sería el momento en el que se trabajarían."
   ]
  },
  {
   "cell_type": "markdown",
   "id": "ec6bd31a",
   "metadata": {},
   "source": [
    "## TRANSFORMACIÓN DE NUMÉRICAS"
   ]
  },
  {
   "cell_type": "markdown",
   "id": "d4e7bf5e",
   "metadata": {},
   "source": [
    "### Discretizar variables"
   ]
  },
  {
   "cell_type": "markdown",
   "id": "00238998",
   "metadata": {},
   "source": [
    "#### Mediante distancia similar"
   ]
  },
  {
   "cell_type": "markdown",
   "id": "9c55546f",
   "metadata": {},
   "source": [
    "##### Variables a discretizar mediante distancia similar"
   ]
  },
  {
   "cell_type": "code",
   "execution_count": 43,
   "id": "c13db57a",
   "metadata": {},
   "outputs": [],
   "source": [
    "# var_disc_ds = ['num_contactos_esta_campana','num_dias_ultimo_contacto']"
   ]
  },
  {
   "cell_type": "markdown",
   "id": "c8ac6474",
   "metadata": {},
   "source": [
    "##### Instanciar"
   ]
  },
  {
   "cell_type": "code",
   "execution_count": 44,
   "id": "80d78036",
   "metadata": {},
   "outputs": [],
   "source": [
    "# disc_ds = KBinsDiscretizer(n_bins = 6, strategy = 'uniform', encode = 'ordinal')"
   ]
  },
  {
   "cell_type": "markdown",
   "id": "1b4b4db4",
   "metadata": {},
   "source": [
    "##### Entrenar y aplicar"
   ]
  },
  {
   "cell_type": "code",
   "execution_count": 45,
   "id": "e193d3ba",
   "metadata": {},
   "outputs": [],
   "source": [
    "# num_disc_ds = disc_ds.fit_transform(num[var_disc_ds])"
   ]
  },
  {
   "cell_type": "markdown",
   "id": "717dcd56",
   "metadata": {},
   "source": [
    "##### Guardar como dataframe"
   ]
  },
  {
   "cell_type": "code",
   "execution_count": 46,
   "id": "d64cca78",
   "metadata": {},
   "outputs": [],
   "source": [
    "#Añadir sufijos a los nombres\n",
    "# nombres_ds = [variable + '_disc_ds' for variable in var_disc_ds]\n",
    "\n",
    "# #Guardar como dataframe\n",
    "# num_disc_ds = pd.DataFrame(num_disc_ds,columns = nombres_ds)"
   ]
  },
  {
   "cell_type": "markdown",
   "id": "76187da4",
   "metadata": {},
   "source": [
    "#### Mediante número de casos similares"
   ]
  },
  {
   "cell_type": "markdown",
   "id": "472097ea",
   "metadata": {},
   "source": [
    "##### Variables a discretizar mediante número de casos similares"
   ]
  },
  {
   "cell_type": "code",
   "execution_count": 47,
   "id": "42781513",
   "metadata": {},
   "outputs": [],
   "source": [
    "# var_disc_cs = ['num_contactos_esta_campana','euribor3m']"
   ]
  },
  {
   "cell_type": "markdown",
   "id": "36196754",
   "metadata": {},
   "source": [
    "##### Instanciar"
   ]
  },
  {
   "cell_type": "code",
   "execution_count": 48,
   "id": "2e964121",
   "metadata": {},
   "outputs": [],
   "source": [
    "# disc_cs = KBinsDiscretizer(n_bins = 2, strategy = 'quantile', encode = 'ordinal')"
   ]
  },
  {
   "cell_type": "markdown",
   "id": "0fd5b9d5",
   "metadata": {},
   "source": [
    "##### Entrenar y aplicar"
   ]
  },
  {
   "cell_type": "code",
   "execution_count": 49,
   "id": "5f959115",
   "metadata": {},
   "outputs": [],
   "source": [
    "# num_disc_cs = disc_cs.fit_transform(num[var_disc_cs])"
   ]
  },
  {
   "cell_type": "markdown",
   "id": "1c52fb69",
   "metadata": {},
   "source": [
    "##### Guardar como dataframe"
   ]
  },
  {
   "cell_type": "code",
   "execution_count": 50,
   "id": "439d2d64",
   "metadata": {},
   "outputs": [],
   "source": [
    "#Añadir sufijos a los nombres\n",
    "# nombres_cs = [variable + '_disc_cs' for variable in var_disc_cs]\n",
    "\n",
    "# #Guardar como dataframe\n",
    "# num_disc_cs = pd.DataFrame(num_disc_cs,columns = nombres_cs)"
   ]
  },
  {
   "cell_type": "markdown",
   "id": "b5a4b948",
   "metadata": {},
   "source": [
    "### Binarizar variables"
   ]
  },
  {
   "cell_type": "markdown",
   "id": "3208cfd8",
   "metadata": {},
   "source": [
    "#### Variables a binarizar"
   ]
  },
  {
   "cell_type": "code",
   "execution_count": 51,
   "id": "a79b897c",
   "metadata": {},
   "outputs": [],
   "source": [
    "# var_bin = ['variacion_tasa_empleo']"
   ]
  },
  {
   "cell_type": "markdown",
   "id": "9247e51a",
   "metadata": {},
   "source": [
    "#### Instanciar"
   ]
  },
  {
   "cell_type": "code",
   "execution_count": 52,
   "id": "2bcf7c5f",
   "metadata": {},
   "outputs": [],
   "source": [
    "# bin = Binarizer(threshold=0)"
   ]
  },
  {
   "cell_type": "markdown",
   "id": "b4c17941",
   "metadata": {},
   "source": [
    "#### Entrenar y aplicar"
   ]
  },
  {
   "cell_type": "code",
   "execution_count": 53,
   "id": "087568ab",
   "metadata": {},
   "outputs": [],
   "source": [
    "# num_bin = bin.fit_transform(num[var_bin])"
   ]
  },
  {
   "cell_type": "markdown",
   "id": "52401fa6",
   "metadata": {},
   "source": [
    "#### Guardar como dataframe"
   ]
  },
  {
   "cell_type": "code",
   "execution_count": 54,
   "id": "990bab10",
   "metadata": {},
   "outputs": [],
   "source": [
    "# #Añadir sufijos a los nombres\n",
    "# nombres_bin = [variable + '_bin' for variable in var_bin]\n",
    "\n",
    "# #Guardar como dataframe\n",
    "# num_bin = pd.DataFrame(num_bin,columns = nombres_bin)"
   ]
  },
  {
   "cell_type": "markdown",
   "id": "2f3512e8",
   "metadata": {},
   "source": [
    "### Normalizar (Gauss)"
   ]
  },
  {
   "cell_type": "markdown",
   "id": "c4d58f1a",
   "metadata": {},
   "source": [
    "#### Con Yeo-Johnson"
   ]
  },
  {
   "cell_type": "markdown",
   "id": "6af78b0c",
   "metadata": {},
   "source": [
    "##### Variables a normalizar con Yeo-Johnson"
   ]
  },
  {
   "cell_type": "code",
   "execution_count": 229,
   "id": "ea1c6238",
   "metadata": {},
   "outputs": [],
   "source": [
    "# var_yeo = ['edad','euribor3m']"
   ]
  },
  {
   "cell_type": "markdown",
   "id": "dec96c03",
   "metadata": {},
   "source": [
    "##### Instanciar"
   ]
  },
  {
   "cell_type": "code",
   "execution_count": 56,
   "id": "3804fa82",
   "metadata": {},
   "outputs": [],
   "source": [
    "# yeo = PowerTransformer(method = 'yeo-johnson')"
   ]
  },
  {
   "cell_type": "markdown",
   "id": "f1ce31a4",
   "metadata": {},
   "source": [
    "##### Entrenar y aplicar"
   ]
  },
  {
   "cell_type": "code",
   "execution_count": 57,
   "id": "e02c7a20",
   "metadata": {},
   "outputs": [],
   "source": [
    "# num_yeo = yeo.fit_transform(num[var_yeo])"
   ]
  },
  {
   "cell_type": "markdown",
   "id": "6035fc08",
   "metadata": {},
   "source": [
    "##### Guardar como dataframe"
   ]
  },
  {
   "cell_type": "code",
   "execution_count": 58,
   "id": "23d86f80",
   "metadata": {},
   "outputs": [],
   "source": [
    "# #Añadir sufijos a los nombres\n",
    "# nombres_yeo = [variable + '_yeo' for variable in var_yeo]\n",
    "\n",
    "# #Guardar como dataframe\n",
    "# num_yeo = pd.DataFrame(num_yeo,columns = nombres_yeo)"
   ]
  },
  {
   "cell_type": "markdown",
   "id": "30feb84f",
   "metadata": {},
   "source": [
    "#### Con Quantile Transformer"
   ]
  },
  {
   "cell_type": "markdown",
   "id": "ba6999c6",
   "metadata": {},
   "source": [
    "##### Variables a normalizar con Quantile Transformer"
   ]
  },
  {
   "cell_type": "code",
   "execution_count": 59,
   "id": "2c5f072d",
   "metadata": {},
   "outputs": [],
   "source": [
    "# var_qt = ['edad','euribor3m']"
   ]
  },
  {
   "cell_type": "markdown",
   "id": "4e6f613d",
   "metadata": {},
   "source": [
    "##### Instanciar"
   ]
  },
  {
   "cell_type": "code",
   "execution_count": 60,
   "id": "edbf34cf",
   "metadata": {},
   "outputs": [],
   "source": [
    "# qt = QuantileTransformer(output_distribution='normal')"
   ]
  },
  {
   "cell_type": "markdown",
   "id": "ecbaf1ef",
   "metadata": {},
   "source": [
    "##### Entrenar y aplicar"
   ]
  },
  {
   "cell_type": "code",
   "execution_count": 61,
   "id": "5719501c",
   "metadata": {},
   "outputs": [],
   "source": [
    "# num_qt = qt.fit_transform(num[var_qt])"
   ]
  },
  {
   "cell_type": "markdown",
   "id": "c132227b",
   "metadata": {},
   "source": [
    "\n",
    "##### Guardar como dataframe"
   ]
  },
  {
   "cell_type": "code",
   "execution_count": 62,
   "id": "471634dc",
   "metadata": {},
   "outputs": [],
   "source": [
    "# #Añadir sufijos a los nombres\n",
    "# nombres_qt = [variable + '_qt' for variable in var_qt]\n",
    "\n",
    "# #Guardar como dataframe\n",
    "# num_qt = pd.DataFrame(num_qt,columns = nombres_qt)"
   ]
  },
  {
   "cell_type": "markdown",
   "id": "87434e0c",
   "metadata": {},
   "source": [
    "## UNIFICAR DATASETS TRANSFORMADOS"
   ]
  },
  {
   "cell_type": "markdown",
   "id": "6d638486",
   "metadata": {},
   "source": [
    "### Meter en una lista todos los dataframes generados"
   ]
  },
  {
   "cell_type": "code",
   "execution_count": 63,
   "id": "a63745d8",
   "metadata": {},
   "outputs": [],
   "source": [
    "# dataframes = []\n",
    "# dataframes.extend(value for name, value in locals().items() if name.startswith('cat_') or name.startswith('num_'))"
   ]
  },
  {
   "cell_type": "markdown",
   "id": "2b90d8a5",
   "metadata": {},
   "source": [
    "### Unir todos los dataframes"
   ]
  },
  {
   "cell_type": "code",
   "execution_count": 64,
   "id": "1a0f6ea0",
   "metadata": {},
   "outputs": [],
   "source": [
    "# df = pd.concat(dataframes, axis = 1)"
   ]
  },
  {
   "cell_type": "markdown",
   "id": "5f9ffae2",
   "metadata": {},
   "source": [
    "## REESCALAR VARIABLES"
   ]
  },
  {
   "cell_type": "markdown",
   "id": "fbc62831",
   "metadata": {},
   "source": [
    "### Con Min-Max"
   ]
  },
  {
   "cell_type": "code",
   "execution_count": 65,
   "id": "c35ea0a2",
   "metadata": {},
   "outputs": [
    {
     "name": "stdout",
     "output_type": "stream",
     "text": [
      "<class 'pandas.core.frame.DataFrame'>\n",
      "RangeIndex: 19330 entries, 0 to 19329\n",
      "Data columns (total 26 columns):\n",
      " #   Column                              Non-Null Count  Dtype  \n",
      "---  ------                              --------------  -----  \n",
      " 0   estado_civil_OTROS                  19330 non-null  float64\n",
      " 1   estado_civil_divorced               19330 non-null  float64\n",
      " 2   estado_civil_married                19330 non-null  float64\n",
      " 3   estado_civil_single                 19330 non-null  float64\n",
      " 4   hipoteca_no                         19330 non-null  float64\n",
      " 5   hipoteca_unknown                    19330 non-null  float64\n",
      " 6   hipoteca_yes                        19330 non-null  float64\n",
      " 7   impago_no                           19330 non-null  float64\n",
      " 8   impago_unknown                      19330 non-null  float64\n",
      " 9   impago_yes                          19330 non-null  float64\n",
      " 10  consumo_no                          19330 non-null  float64\n",
      " 11  consumo_unknown                     19330 non-null  float64\n",
      " 12  consumo_yes                         19330 non-null  float64\n",
      " 13  formacion_oe                        19330 non-null  float64\n",
      " 14  resultado_campana_anterior_oe       19330 non-null  float64\n",
      " 15  trabajo_te                          19330 non-null  float64\n",
      " 16  mes_te                              19330 non-null  float64\n",
      " 17  num_contactos_esta_campana_disc_ds  19330 non-null  float64\n",
      " 18  num_dias_ultimo_contacto_disc_ds    19330 non-null  float64\n",
      " 19  num_contactos_esta_campana_disc_cs  19330 non-null  float64\n",
      " 20  euribor3m_disc_cs                   19330 non-null  float64\n",
      " 21  variacion_tasa_empleo_bin           19330 non-null  int64  \n",
      " 22  edad_yeo                            19330 non-null  float64\n",
      " 23  euribor3m_yeo                       19330 non-null  float64\n",
      " 24  edad_qt                             19330 non-null  float64\n",
      " 25  euribor3m_qt                        19330 non-null  float64\n",
      "dtypes: float64(25), int64(1)\n",
      "memory usage: 3.8 MB\n"
     ]
    }
   ],
   "source": [
    "df.info()"
   ]
  },
  {
   "cell_type": "markdown",
   "id": "de92d3fe",
   "metadata": {},
   "source": [
    "#### Variables a reescalar con Min-Max"
   ]
  },
  {
   "cell_type": "code",
   "execution_count": 66,
   "id": "4c9e40ba",
   "metadata": {},
   "outputs": [],
   "source": [
    "# var_mms = df.iloc[:,13:].columns"
   ]
  },
  {
   "cell_type": "markdown",
   "id": "b0b18ca7",
   "metadata": {},
   "source": [
    "#### Instanciar"
   ]
  },
  {
   "cell_type": "code",
   "execution_count": 67,
   "id": "44a71f10",
   "metadata": {},
   "outputs": [],
   "source": [
    "# mms = MinMaxScaler()"
   ]
  },
  {
   "cell_type": "markdown",
   "id": "57f8f537",
   "metadata": {},
   "source": [
    "#### Entrenar y aplicar"
   ]
  },
  {
   "cell_type": "code",
   "execution_count": 68,
   "id": "b45d4fa8",
   "metadata": {},
   "outputs": [],
   "source": [
    "# df_mms = mms.fit_transform(df[var_mms])"
   ]
  },
  {
   "cell_type": "markdown",
   "id": "aea83d81",
   "metadata": {},
   "source": [
    "#### Guardar como dataframe"
   ]
  },
  {
   "cell_type": "code",
   "execution_count": 69,
   "id": "d5ba3f86",
   "metadata": {},
   "outputs": [],
   "source": [
    "# #Añadir sufijos a los nombres\n",
    "# nombres_mms = [variable + '_mms' for variable in var_mms]\n",
    "\n",
    "# #Guardar como dataframe\n",
    "# df_mms = pd.DataFrame(df_mms,columns = nombres_mms)"
   ]
  },
  {
   "cell_type": "markdown",
   "id": "91499b37",
   "metadata": {},
   "source": [
    "### Con estandarización"
   ]
  },
  {
   "cell_type": "markdown",
   "id": "a2e2cf2d",
   "metadata": {},
   "source": [
    "#### Variables a reescalar con estandarización"
   ]
  },
  {
   "cell_type": "code",
   "execution_count": 259,
   "id": "e734d994",
   "metadata": {},
   "outputs": [],
   "source": [
    "var_ss = df_final.iloc[:,4:-1].columns.tolist()"
   ]
  },
  {
   "cell_type": "code",
   "execution_count": 279,
   "id": "b5470d4c",
   "metadata": {},
   "outputs": [],
   "source": [
    "target = df_final[['target']].copy()\n",
    "df_temp2 = df_final.iloc[:,:4]"
   ]
  },
  {
   "cell_type": "code",
   "execution_count": 282,
   "id": "45bc0b92",
   "metadata": {},
   "outputs": [
    {
     "data": {
      "text/plain": [
       "(75, 80, 1, 4)"
      ]
     },
     "execution_count": 282,
     "metadata": {},
     "output_type": "execute_result"
    }
   ],
   "source": [
    "len(var_ss), df_final.shape[1], target.shape[1], df_temp2.shape[1]"
   ]
  },
  {
   "cell_type": "code",
   "execution_count": null,
   "id": "2762dc51",
   "metadata": {},
   "outputs": [],
   "source": [
    "[df_temp2,df_ss,target]"
   ]
  },
  {
   "cell_type": "markdown",
   "id": "16d2aae2",
   "metadata": {},
   "source": [
    "#### Instanciar"
   ]
  },
  {
   "cell_type": "code",
   "execution_count": 284,
   "id": "cd9673cf",
   "metadata": {},
   "outputs": [],
   "source": [
    "ss = StandardScaler()"
   ]
  },
  {
   "cell_type": "code",
   "execution_count": null,
   "id": "5ad636bf",
   "metadata": {},
   "outputs": [],
   "source": []
  },
  {
   "cell_type": "markdown",
   "id": "2ba60f09",
   "metadata": {},
   "source": [
    "#### Entrenar y aplicar"
   ]
  },
  {
   "cell_type": "code",
   "execution_count": 285,
   "id": "1356fb3b",
   "metadata": {},
   "outputs": [
    {
     "data": {
      "text/plain": [
       "(8665, 75)"
      ]
     },
     "execution_count": 285,
     "metadata": {},
     "output_type": "execute_result"
    }
   ],
   "source": [
    "df_final.loc[:,var_ss].shape"
   ]
  },
  {
   "cell_type": "code",
   "execution_count": 286,
   "id": "74b619e6",
   "metadata": {},
   "outputs": [],
   "source": [
    "df_ss = ss.fit_transform(df_final[var_ss])"
   ]
  },
  {
   "cell_type": "code",
   "execution_count": 287,
   "id": "91ba5369",
   "metadata": {},
   "outputs": [
    {
     "data": {
      "text/plain": [
       "(8665, 75)"
      ]
     },
     "execution_count": 287,
     "metadata": {},
     "output_type": "execute_result"
    }
   ],
   "source": [
    "df_ss.shape"
   ]
  },
  {
   "cell_type": "markdown",
   "id": "1b12326b",
   "metadata": {},
   "source": [
    "#### Guardar como dataframe"
   ]
  },
  {
   "cell_type": "code",
   "execution_count": 288,
   "id": "07f4932e",
   "metadata": {},
   "outputs": [],
   "source": [
    "#Añadir sufijos a los nombres\n",
    "nombres_ss = [variable + '_ss' for variable in var_ss]\n",
    "\n",
    "#Guardar como dataframe\n",
    "df_ss = pd.DataFrame(df_ss,columns = nombres_ss, index=df_final.index)"
   ]
  },
  {
   "cell_type": "code",
   "execution_count": 289,
   "id": "a53de44f",
   "metadata": {},
   "outputs": [
    {
     "data": {
      "text/html": [
       "<div>\n",
       "<style scoped>\n",
       "    .dataframe tbody tr th:only-of-type {\n",
       "        vertical-align: middle;\n",
       "    }\n",
       "\n",
       "    .dataframe tbody tr th {\n",
       "        vertical-align: top;\n",
       "    }\n",
       "\n",
       "    .dataframe thead th {\n",
       "        text-align: right;\n",
       "    }\n",
       "</style>\n",
       "<table border=\"1\" class=\"dataframe\">\n",
       "  <thead>\n",
       "    <tr style=\"text-align: right;\">\n",
       "      <th></th>\n",
       "      <th>tmax_mensual_ss</th>\n",
       "      <th>awnd_1_ss</th>\n",
       "      <th>awnd_2_ss</th>\n",
       "      <th>awnd_3_ss</th>\n",
       "      <th>awnd_4_ss</th>\n",
       "      <th>awnd_5_ss</th>\n",
       "      <th>awnd_6_ss</th>\n",
       "      <th>awnd_7_ss</th>\n",
       "      <th>prcp_1_ss</th>\n",
       "      <th>prcp_2_ss</th>\n",
       "      <th>...</th>\n",
       "      <th>tmax_minm_4_ss</th>\n",
       "      <th>tmax_minm_5_ss</th>\n",
       "      <th>tmax_minm_6_ss</th>\n",
       "      <th>tmax_minm_7_ss</th>\n",
       "      <th>tmax_mm_2_ss</th>\n",
       "      <th>tmax_mm_3_ss</th>\n",
       "      <th>tmax_mm_4_ss</th>\n",
       "      <th>tmax_mm_5_ss</th>\n",
       "      <th>tmax_mm_6_ss</th>\n",
       "      <th>tmax_mm_7_ss</th>\n",
       "    </tr>\n",
       "    <tr>\n",
       "      <th>DATE</th>\n",
       "      <th></th>\n",
       "      <th></th>\n",
       "      <th></th>\n",
       "      <th></th>\n",
       "      <th></th>\n",
       "      <th></th>\n",
       "      <th></th>\n",
       "      <th></th>\n",
       "      <th></th>\n",
       "      <th></th>\n",
       "      <th></th>\n",
       "      <th></th>\n",
       "      <th></th>\n",
       "      <th></th>\n",
       "      <th></th>\n",
       "      <th></th>\n",
       "      <th></th>\n",
       "      <th></th>\n",
       "      <th></th>\n",
       "      <th></th>\n",
       "      <th></th>\n",
       "    </tr>\n",
       "  </thead>\n",
       "  <tbody>\n",
       "    <tr>\n",
       "      <th>1998-04-04</th>\n",
       "      <td>0.988020</td>\n",
       "      <td>-0.597336</td>\n",
       "      <td>1.107255</td>\n",
       "      <td>1.171422</td>\n",
       "      <td>1.171186</td>\n",
       "      <td>1.171049</td>\n",
       "      <td>1.170785</td>\n",
       "      <td>1.170823</td>\n",
       "      <td>-0.438934</td>\n",
       "      <td>-0.438911</td>\n",
       "      <td>...</td>\n",
       "      <td>-0.101562</td>\n",
       "      <td>-0.039324</td>\n",
       "      <td>0.011108</td>\n",
       "      <td>0.053251</td>\n",
       "      <td>-0.451473</td>\n",
       "      <td>-0.141700</td>\n",
       "      <td>0.127958</td>\n",
       "      <td>0.282674</td>\n",
       "      <td>0.406791</td>\n",
       "      <td>0.472802</td>\n",
       "    </tr>\n",
       "    <tr>\n",
       "      <th>1998-04-05</th>\n",
       "      <td>0.988020</td>\n",
       "      <td>2.156195</td>\n",
       "      <td>-0.597513</td>\n",
       "      <td>1.106982</td>\n",
       "      <td>1.171186</td>\n",
       "      <td>1.171049</td>\n",
       "      <td>1.170785</td>\n",
       "      <td>1.170823</td>\n",
       "      <td>-0.438934</td>\n",
       "      <td>-0.438911</td>\n",
       "      <td>...</td>\n",
       "      <td>-0.403276</td>\n",
       "      <td>-0.340792</td>\n",
       "      <td>-0.290463</td>\n",
       "      <td>-0.248529</td>\n",
       "      <td>-0.612103</td>\n",
       "      <td>-0.577815</td>\n",
       "      <td>-0.313997</td>\n",
       "      <td>-0.063337</td>\n",
       "      <td>0.097357</td>\n",
       "      <td>0.230082</td>\n",
       "    </tr>\n",
       "    <tr>\n",
       "      <th>1998-04-07</th>\n",
       "      <td>0.988020</td>\n",
       "      <td>0.058825</td>\n",
       "      <td>2.155893</td>\n",
       "      <td>-0.597761</td>\n",
       "      <td>1.106751</td>\n",
       "      <td>1.171049</td>\n",
       "      <td>1.170785</td>\n",
       "      <td>1.170823</td>\n",
       "      <td>-0.438934</td>\n",
       "      <td>-0.438911</td>\n",
       "      <td>...</td>\n",
       "      <td>-0.403276</td>\n",
       "      <td>-0.340792</td>\n",
       "      <td>-0.290463</td>\n",
       "      <td>-0.248529</td>\n",
       "      <td>-0.612103</td>\n",
       "      <td>-0.559643</td>\n",
       "      <td>-0.548785</td>\n",
       "      <td>-0.342377</td>\n",
       "      <td>-0.127686</td>\n",
       "      <td>0.019725</td>\n",
       "    </tr>\n",
       "    <tr>\n",
       "      <th>1998-04-08</th>\n",
       "      <td>0.988020</td>\n",
       "      <td>0.124734</td>\n",
       "      <td>0.058618</td>\n",
       "      <td>2.155604</td>\n",
       "      <td>-0.597857</td>\n",
       "      <td>1.106617</td>\n",
       "      <td>1.170785</td>\n",
       "      <td>1.170823</td>\n",
       "      <td>-0.438934</td>\n",
       "      <td>-0.438911</td>\n",
       "      <td>...</td>\n",
       "      <td>-0.403276</td>\n",
       "      <td>-0.340792</td>\n",
       "      <td>-0.290463</td>\n",
       "      <td>-0.248529</td>\n",
       "      <td>-0.210528</td>\n",
       "      <td>-0.414272</td>\n",
       "      <td>-0.424485</td>\n",
       "      <td>-0.442832</td>\n",
       "      <td>-0.287091</td>\n",
       "      <td>-0.109725</td>\n",
       "    </tr>\n",
       "    <tr>\n",
       "      <th>1998-04-09</th>\n",
       "      <td>0.988020</td>\n",
       "      <td>0.190643</td>\n",
       "      <td>0.124524</td>\n",
       "      <td>0.058360</td>\n",
       "      <td>2.155290</td>\n",
       "      <td>-0.597890</td>\n",
       "      <td>1.106358</td>\n",
       "      <td>1.170823</td>\n",
       "      <td>0.764573</td>\n",
       "      <td>-0.438911</td>\n",
       "      <td>...</td>\n",
       "      <td>-0.403276</td>\n",
       "      <td>-0.340792</td>\n",
       "      <td>-0.290463</td>\n",
       "      <td>-0.248529</td>\n",
       "      <td>0.217819</td>\n",
       "      <td>0.003671</td>\n",
       "      <td>-0.203508</td>\n",
       "      <td>-0.253084</td>\n",
       "      <td>-0.296468</td>\n",
       "      <td>-0.182541</td>\n",
       "    </tr>\n",
       "    <tr>\n",
       "      <th>...</th>\n",
       "      <td>...</td>\n",
       "      <td>...</td>\n",
       "      <td>...</td>\n",
       "      <td>...</td>\n",
       "      <td>...</td>\n",
       "      <td>...</td>\n",
       "      <td>...</td>\n",
       "      <td>...</td>\n",
       "      <td>...</td>\n",
       "      <td>...</td>\n",
       "      <td>...</td>\n",
       "      <td>...</td>\n",
       "      <td>...</td>\n",
       "      <td>...</td>\n",
       "      <td>...</td>\n",
       "      <td>...</td>\n",
       "      <td>...</td>\n",
       "      <td>...</td>\n",
       "      <td>...</td>\n",
       "      <td>...</td>\n",
       "      <td>...</td>\n",
       "    </tr>\n",
       "    <tr>\n",
       "      <th>2021-12-27</th>\n",
       "      <td>-0.689596</td>\n",
       "      <td>-0.401073</td>\n",
       "      <td>1.303509</td>\n",
       "      <td>1.106982</td>\n",
       "      <td>0.190011</td>\n",
       "      <td>0.843034</td>\n",
       "      <td>-0.466247</td>\n",
       "      <td>-0.794239</td>\n",
       "      <td>-0.438934</td>\n",
       "      <td>1.796157</td>\n",
       "      <td>...</td>\n",
       "      <td>-0.302705</td>\n",
       "      <td>-0.893482</td>\n",
       "      <td>-0.843343</td>\n",
       "      <td>-0.801791</td>\n",
       "      <td>-0.371158</td>\n",
       "      <td>-0.323415</td>\n",
       "      <td>-0.424485</td>\n",
       "      <td>-0.632580</td>\n",
       "      <td>-0.690293</td>\n",
       "      <td>-0.765068</td>\n",
       "    </tr>\n",
       "    <tr>\n",
       "      <th>2021-12-28</th>\n",
       "      <td>-0.689596</td>\n",
       "      <td>0.583167</td>\n",
       "      <td>-0.401259</td>\n",
       "      <td>1.303232</td>\n",
       "      <td>1.106751</td>\n",
       "      <td>0.189932</td>\n",
       "      <td>0.842793</td>\n",
       "      <td>-0.466240</td>\n",
       "      <td>1.280361</td>\n",
       "      <td>-0.438911</td>\n",
       "      <td>...</td>\n",
       "      <td>-0.202134</td>\n",
       "      <td>-0.240303</td>\n",
       "      <td>-0.843343</td>\n",
       "      <td>-0.801791</td>\n",
       "      <td>-0.371158</td>\n",
       "      <td>-0.305243</td>\n",
       "      <td>-0.286374</td>\n",
       "      <td>-0.375862</td>\n",
       "      <td>-0.559018</td>\n",
       "      <td>-0.619436</td>\n",
       "    </tr>\n",
       "    <tr>\n",
       "      <th>2021-12-29</th>\n",
       "      <td>-0.689596</td>\n",
       "      <td>-0.072993</td>\n",
       "      <td>0.582937</td>\n",
       "      <td>-0.401510</td>\n",
       "      <td>1.302986</td>\n",
       "      <td>1.106617</td>\n",
       "      <td>0.189737</td>\n",
       "      <td>0.842824</td>\n",
       "      <td>0.807555</td>\n",
       "      <td>1.280372</td>\n",
       "      <td>...</td>\n",
       "      <td>-0.202134</td>\n",
       "      <td>-0.139814</td>\n",
       "      <td>-0.189940</td>\n",
       "      <td>-0.801791</td>\n",
       "      <td>-0.317614</td>\n",
       "      <td>-0.414272</td>\n",
       "      <td>-0.355430</td>\n",
       "      <td>-0.331216</td>\n",
       "      <td>-0.399612</td>\n",
       "      <td>-0.554711</td>\n",
       "    </tr>\n",
       "    <tr>\n",
       "      <th>2021-12-30</th>\n",
       "      <td>-0.689596</td>\n",
       "      <td>-1.054305</td>\n",
       "      <td>-0.073194</td>\n",
       "      <td>0.582671</td>\n",
       "      <td>-0.401622</td>\n",
       "      <td>1.302840</td>\n",
       "      <td>1.106358</td>\n",
       "      <td>0.189756</td>\n",
       "      <td>-0.224022</td>\n",
       "      <td>0.807570</td>\n",
       "      <td>...</td>\n",
       "      <td>-0.252419</td>\n",
       "      <td>-0.190058</td>\n",
       "      <td>-0.139678</td>\n",
       "      <td>-0.147936</td>\n",
       "      <td>-0.558560</td>\n",
       "      <td>-0.432443</td>\n",
       "      <td>-0.479729</td>\n",
       "      <td>-0.420509</td>\n",
       "      <td>-0.390236</td>\n",
       "      <td>-0.441442</td>\n",
       "    </tr>\n",
       "    <tr>\n",
       "      <th>2021-12-31</th>\n",
       "      <td>-0.689596</td>\n",
       "      <td>-0.661780</td>\n",
       "      <td>-1.054461</td>\n",
       "      <td>-0.073450</td>\n",
       "      <td>0.582481</td>\n",
       "      <td>-0.401666</td>\n",
       "      <td>1.302568</td>\n",
       "      <td>1.106394</td>\n",
       "      <td>-0.267004</td>\n",
       "      <td>-0.224000</td>\n",
       "      <td>...</td>\n",
       "      <td>-0.252419</td>\n",
       "      <td>-0.190058</td>\n",
       "      <td>-0.139678</td>\n",
       "      <td>-0.097639</td>\n",
       "      <td>-0.478245</td>\n",
       "      <td>-0.486958</td>\n",
       "      <td>-0.410674</td>\n",
       "      <td>-0.453994</td>\n",
       "      <td>-0.408989</td>\n",
       "      <td>-0.384807</td>\n",
       "    </tr>\n",
       "  </tbody>\n",
       "</table>\n",
       "<p>8665 rows × 75 columns</p>\n",
       "</div>"
      ],
      "text/plain": [
       "            tmax_mensual_ss  awnd_1_ss  awnd_2_ss  awnd_3_ss  awnd_4_ss  \\\n",
       "DATE                                                                      \n",
       "1998-04-04         0.988020  -0.597336   1.107255   1.171422   1.171186   \n",
       "1998-04-05         0.988020   2.156195  -0.597513   1.106982   1.171186   \n",
       "1998-04-07         0.988020   0.058825   2.155893  -0.597761   1.106751   \n",
       "1998-04-08         0.988020   0.124734   0.058618   2.155604  -0.597857   \n",
       "1998-04-09         0.988020   0.190643   0.124524   0.058360   2.155290   \n",
       "...                     ...        ...        ...        ...        ...   \n",
       "2021-12-27        -0.689596  -0.401073   1.303509   1.106982   0.190011   \n",
       "2021-12-28        -0.689596   0.583167  -0.401259   1.303232   1.106751   \n",
       "2021-12-29        -0.689596  -0.072993   0.582937  -0.401510   1.302986   \n",
       "2021-12-30        -0.689596  -1.054305  -0.073194   0.582671  -0.401622   \n",
       "2021-12-31        -0.689596  -0.661780  -1.054461  -0.073450   0.582481   \n",
       "\n",
       "            awnd_5_ss  awnd_6_ss  awnd_7_ss  prcp_1_ss  prcp_2_ss  ...  \\\n",
       "DATE                                                               ...   \n",
       "1998-04-04   1.171049   1.170785   1.170823  -0.438934  -0.438911  ...   \n",
       "1998-04-05   1.171049   1.170785   1.170823  -0.438934  -0.438911  ...   \n",
       "1998-04-07   1.171049   1.170785   1.170823  -0.438934  -0.438911  ...   \n",
       "1998-04-08   1.106617   1.170785   1.170823  -0.438934  -0.438911  ...   \n",
       "1998-04-09  -0.597890   1.106358   1.170823   0.764573  -0.438911  ...   \n",
       "...               ...        ...        ...        ...        ...  ...   \n",
       "2021-12-27   0.843034  -0.466247  -0.794239  -0.438934   1.796157  ...   \n",
       "2021-12-28   0.189932   0.842793  -0.466240   1.280361  -0.438911  ...   \n",
       "2021-12-29   1.106617   0.189737   0.842824   0.807555   1.280372  ...   \n",
       "2021-12-30   1.302840   1.106358   0.189756  -0.224022   0.807570  ...   \n",
       "2021-12-31  -0.401666   1.302568   1.106394  -0.267004  -0.224000  ...   \n",
       "\n",
       "            tmax_minm_4_ss  tmax_minm_5_ss  tmax_minm_6_ss  tmax_minm_7_ss  \\\n",
       "DATE                                                                         \n",
       "1998-04-04       -0.101562       -0.039324        0.011108        0.053251   \n",
       "1998-04-05       -0.403276       -0.340792       -0.290463       -0.248529   \n",
       "1998-04-07       -0.403276       -0.340792       -0.290463       -0.248529   \n",
       "1998-04-08       -0.403276       -0.340792       -0.290463       -0.248529   \n",
       "1998-04-09       -0.403276       -0.340792       -0.290463       -0.248529   \n",
       "...                    ...             ...             ...             ...   \n",
       "2021-12-27       -0.302705       -0.893482       -0.843343       -0.801791   \n",
       "2021-12-28       -0.202134       -0.240303       -0.843343       -0.801791   \n",
       "2021-12-29       -0.202134       -0.139814       -0.189940       -0.801791   \n",
       "2021-12-30       -0.252419       -0.190058       -0.139678       -0.147936   \n",
       "2021-12-31       -0.252419       -0.190058       -0.139678       -0.097639   \n",
       "\n",
       "            tmax_mm_2_ss  tmax_mm_3_ss  tmax_mm_4_ss  tmax_mm_5_ss  \\\n",
       "DATE                                                                 \n",
       "1998-04-04     -0.451473     -0.141700      0.127958      0.282674   \n",
       "1998-04-05     -0.612103     -0.577815     -0.313997     -0.063337   \n",
       "1998-04-07     -0.612103     -0.559643     -0.548785     -0.342377   \n",
       "1998-04-08     -0.210528     -0.414272     -0.424485     -0.442832   \n",
       "1998-04-09      0.217819      0.003671     -0.203508     -0.253084   \n",
       "...                  ...           ...           ...           ...   \n",
       "2021-12-27     -0.371158     -0.323415     -0.424485     -0.632580   \n",
       "2021-12-28     -0.371158     -0.305243     -0.286374     -0.375862   \n",
       "2021-12-29     -0.317614     -0.414272     -0.355430     -0.331216   \n",
       "2021-12-30     -0.558560     -0.432443     -0.479729     -0.420509   \n",
       "2021-12-31     -0.478245     -0.486958     -0.410674     -0.453994   \n",
       "\n",
       "            tmax_mm_6_ss  tmax_mm_7_ss  \n",
       "DATE                                    \n",
       "1998-04-04      0.406791      0.472802  \n",
       "1998-04-05      0.097357      0.230082  \n",
       "1998-04-07     -0.127686      0.019725  \n",
       "1998-04-08     -0.287091     -0.109725  \n",
       "1998-04-09     -0.296468     -0.182541  \n",
       "...                  ...           ...  \n",
       "2021-12-27     -0.690293     -0.765068  \n",
       "2021-12-28     -0.559018     -0.619436  \n",
       "2021-12-29     -0.399612     -0.554711  \n",
       "2021-12-30     -0.390236     -0.441442  \n",
       "2021-12-31     -0.408989     -0.384807  \n",
       "\n",
       "[8665 rows x 75 columns]"
      ]
     },
     "execution_count": 289,
     "metadata": {},
     "output_type": "execute_result"
    }
   ],
   "source": [
    "df_ss"
   ]
  },
  {
   "cell_type": "markdown",
   "id": "f57bdf73",
   "metadata": {
    "heading_collapsed": true
   },
   "source": [
    "### Con estandarización robusta"
   ]
  },
  {
   "cell_type": "markdown",
   "id": "fc184a1c",
   "metadata": {
    "hidden": true
   },
   "source": [
    "#### Variables a reescalar con estandarización robusta"
   ]
  },
  {
   "cell_type": "code",
   "execution_count": 74,
   "id": "d758fe46",
   "metadata": {
    "hidden": true
   },
   "outputs": [],
   "source": [
    "var_rs = df.iloc[:,13:].columns"
   ]
  },
  {
   "cell_type": "markdown",
   "id": "202b53a6",
   "metadata": {
    "hidden": true
   },
   "source": [
    "#### Percentiles a usar para el rango"
   ]
  },
  {
   "cell_type": "code",
   "execution_count": 75,
   "id": "dae75745",
   "metadata": {
    "hidden": true
   },
   "outputs": [],
   "source": [
    "p_min = 10.0\n",
    "p_max = 90.0"
   ]
  },
  {
   "cell_type": "markdown",
   "id": "4e0f2693",
   "metadata": {
    "hidden": true
   },
   "source": [
    "#### Instanciar"
   ]
  },
  {
   "cell_type": "code",
   "execution_count": 76,
   "id": "a77b0ded",
   "metadata": {
    "hidden": true
   },
   "outputs": [],
   "source": [
    "rs = RobustScaler(quantile_range=(p_min, p_max))"
   ]
  },
  {
   "cell_type": "markdown",
   "id": "1832d777",
   "metadata": {
    "hidden": true
   },
   "source": [
    "#### Entrenar y aplicar"
   ]
  },
  {
   "cell_type": "code",
   "execution_count": 77,
   "id": "a592f9fe",
   "metadata": {
    "hidden": true
   },
   "outputs": [],
   "source": [
    "df_rs = rs.fit_transform(df[var_rs])"
   ]
  },
  {
   "cell_type": "markdown",
   "id": "6f316ae9",
   "metadata": {
    "hidden": true
   },
   "source": [
    "#### Guardar como dataframe"
   ]
  },
  {
   "cell_type": "code",
   "execution_count": 78,
   "id": "5600b10c",
   "metadata": {
    "hidden": true
   },
   "outputs": [],
   "source": [
    "#Añadir sufijos a los nombres\n",
    "nombres_rs = [variable + '_rs' for variable in var_rs]\n",
    "\n",
    "#Guardar como dataframe\n",
    "df_rs = pd.DataFrame(df_rs,columns = nombres_rs)"
   ]
  },
  {
   "cell_type": "markdown",
   "id": "118dac36",
   "metadata": {},
   "source": [
    "## UNIFICAR DATASETS REESCALADOS"
   ]
  },
  {
   "cell_type": "markdown",
   "id": "e301d458",
   "metadata": {},
   "source": [
    "### Crear una lista con los dataframes a incluir en el tablón analítico"
   ]
  },
  {
   "cell_type": "code",
   "execution_count": 290,
   "id": "4e51c41f",
   "metadata": {},
   "outputs": [],
   "source": [
    "incluir = [df_temp2,df_ss,target]"
   ]
  },
  {
   "cell_type": "markdown",
   "id": "4412d913",
   "metadata": {},
   "source": [
    "### Unir todos los dataframes en el tablón analítico"
   ]
  },
  {
   "cell_type": "code",
   "execution_count": 291,
   "id": "bbacffcc",
   "metadata": {},
   "outputs": [],
   "source": [
    "df_tablon = pd.concat(incluir, axis = 1)"
   ]
  },
  {
   "cell_type": "markdown",
   "id": "9f098f8a",
   "metadata": {},
   "source": [
    "## GUARDAR DATASET TRAS TRANSFORMACIÓN DE DATOS"
   ]
  },
  {
   "cell_type": "markdown",
   "id": "7656ba95",
   "metadata": {},
   "source": [
    "En formato pickle para no perder las modificaciones de metadatos."
   ]
  },
  {
   "cell_type": "code",
   "execution_count": 292,
   "id": "782bf43c",
   "metadata": {},
   "outputs": [],
   "source": [
    "#Definir los nombres del archivo\n",
    "ruta_df_tablon = ruta_proyecto + '/02_Datos/03_Trabajo/' + 'df_tablon.pickle'"
   ]
  },
  {
   "cell_type": "code",
   "execution_count": 293,
   "id": "44c7dd60",
   "metadata": {},
   "outputs": [],
   "source": [
    "#Guardar los archivos\n",
    "df_tablon.to_pickle(ruta_df_tablon)"
   ]
  },
  {
   "cell_type": "code",
   "execution_count": null,
   "id": "baae963d",
   "metadata": {},
   "outputs": [],
   "source": []
  }
 ],
 "metadata": {
  "kernelspec": {
   "display_name": "Python 3 (ipykernel)",
   "language": "python",
   "name": "python3"
  },
  "language_info": {
   "codemirror_mode": {
    "name": "ipython",
    "version": 3
   },
   "file_extension": ".py",
   "mimetype": "text/x-python",
   "name": "python",
   "nbconvert_exporter": "python",
   "pygments_lexer": "ipython3",
   "version": "3.9.7"
  },
  "toc": {
   "base_numbering": 1,
   "nav_menu": {},
   "number_sections": true,
   "sideBar": true,
   "skip_h1_title": false,
   "title_cell": "Table of Contents",
   "title_sidebar": "Contents",
   "toc_cell": false,
   "toc_position": {
    "height": "calc(100% - 180px)",
    "left": "10px",
    "top": "150px",
    "width": "346.95px"
   },
   "toc_section_display": true,
   "toc_window_display": true
  },
  "varInspector": {
   "cols": {
    "lenName": 16,
    "lenType": 16,
    "lenVar": 40
   },
   "kernels_config": {
    "python": {
     "delete_cmd_postfix": "",
     "delete_cmd_prefix": "del ",
     "library": "var_list.py",
     "varRefreshCmd": "print(var_dic_list())"
    },
    "r": {
     "delete_cmd_postfix": ") ",
     "delete_cmd_prefix": "rm(",
     "library": "var_list.r",
     "varRefreshCmd": "cat(var_dic_list()) "
    }
   },
   "position": {
    "height": "546.85px",
    "left": "890.75px",
    "right": "20px",
    "top": "117px",
    "width": "350px"
   },
   "types_to_exclude": [
    "module",
    "function",
    "builtin_function_or_method",
    "instance",
    "_Feature"
   ],
   "window_display": false
  }
 },
 "nbformat": 4,
 "nbformat_minor": 5
}
